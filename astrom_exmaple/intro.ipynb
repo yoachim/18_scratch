{
 "cells": [
  {
   "cell_type": "markdown",
   "metadata": {},
   "source": [
    "When fitting the motion of stars, there are several effects to take into account:\n",
    "\n",
    "* The parallax of the star, caused by the Earth's motion around the sun\n",
    "* The proper motion of the star, caused by the relative motion of the sun and star\n",
    "* Differential chromatic refraction. If the star has a different color than other objects used to align the WCS, DCR can make it appear to shift.\n",
    "\n",
    "If a star has a massive companion, and their orbital plane is perpendicular to the line of sight, the orbital motion could also shift the apparent position of the star.\n",
    "\n",
    "Right now, I'm only concerned with relative astrometry, so aberation of starlight can be ignored.\n",
    "\n",
    "Let's set up a fiducial star, and see what it's motion might look like."
   ]
  },
  {
   "cell_type": "code",
   "execution_count": null,
   "metadata": {},
   "outputs": [],
   "source": []
  },
  {
   "cell_type": "code",
   "execution_count": null,
   "metadata": {},
   "outputs": [],
   "source": []
  }
 ],
 "metadata": {
  "kernelspec": {
   "display_name": "Python 3",
   "language": "python",
   "name": "python3"
  },
  "language_info": {
   "codemirror_mode": {
    "name": "ipython",
    "version": 3
   },
   "file_extension": ".py",
   "mimetype": "text/x-python",
   "name": "python",
   "nbconvert_exporter": "python",
   "pygments_lexer": "ipython3",
   "version": "3.6.2"
  }
 },
 "nbformat": 4,
 "nbformat_minor": 2
}
