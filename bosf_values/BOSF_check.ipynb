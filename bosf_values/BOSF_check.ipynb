{
 "cells": [
  {
   "cell_type": "code",
   "execution_count": 1,
   "metadata": {},
   "outputs": [],
   "source": [
    "%matplotlib inline\n",
    "import numpy as np\n",
    "import matplotlib.pyplot as plt\n",
    "import healpy as hp\n",
    "\n",
    "import lsst.sims.maf.db as db\n",
    "import lsst.sims.maf.utils as utils\n",
    "import lsst.sims.maf.metrics as metrics\n",
    "import lsst.sims.maf.slicers as slicers\n",
    "import lsst.sims.maf.stackers as stackers\n",
    "import lsst.sims.maf.metricBundles as metricBundles\n",
    "import lsst.sims.maf.plots as plots\n",
    "from matplotlib.colors import LogNorm"
   ]
  },
  {
   "cell_type": "code",
   "execution_count": 2,
   "metadata": {},
   "outputs": [],
   "source": [
    "dbFile = 'feature_baseline_10yrs.db'\n",
    "# This connection checks which version it thinks the database is and should do the right thing schema-wise\n",
    "conn = db.Database(dbFile, defaultTable='observations')\n",
    "outDir='temp'"
   ]
  },
  {
   "cell_type": "code",
   "execution_count": 3,
   "metadata": {},
   "outputs": [],
   "source": [
    "def survey_perf(conn, mjdCol='mjd', latCol = 'dec', lonCol = 'RA', expTimeCol='exptime',\n",
    "                dec1=-20., dec2=-1, ra1=300, ra2=360, outDir='temp', degrees=True, filtername=\"g\",\n",
    "               altCol='altitude' , azCol='azimuth', runName=''):\n",
    "    \n",
    "    if not degrees:\n",
    "        dec1 = np.radians(dec1)\n",
    "        dec2 = np.radians(dec2)\n",
    "        ra1=np.radians(ra1)\n",
    "        ra2 = np.radians(ra2)\n",
    "    \n",
    "    resultsDb = db.ResultsDb(outDir=outDir)\n",
    "    bundleList = []\n",
    "\n",
    "    metric = metrics.BruteOSFMetric(expTimeCol=expTimeCol, mjdCol=mjdCol)\n",
    "    slicer = slicers.UniSlicer()\n",
    "    sql = ''\n",
    "    bundleList.append(metricBundles.MetricBundle(metric,slicer,sql))\n",
    "\n",
    "    sql='%s > %f and %s < %f and %s > %f and %s < %f and filter=\"%s\"' %  (latCol, dec1, latCol, dec2, \n",
    "                                                                          lonCol, ra1, lonCol, ra2,\n",
    "                                                                          filtername)\n",
    "    # Let's check the median airmass and number of observations\n",
    "    metric = metrics.MedianMetric(col='airmass')\n",
    "    slicer = slicers.UniSlicer()\n",
    "    bundleList.append(metricBundles.MetricBundle(metric,slicer,sql))\n",
    "    \n",
    "    metric = metrics.CountMetric(col=mjdCol)\n",
    "    bundleList.append(metricBundles.MetricBundle(metric,slicer,sql))\n",
    "\n",
    "    metric = metrics.CountMetric(col=mjdCol)\n",
    "    slicer=slicers.HealpixSlicer(latCol=latCol, lonCol=lonCol, latLonDeg=degrees)\n",
    "    ss = metrics.MedianMetric()\n",
    "    bundleList.append(metricBundles.MetricBundle(metric,slicer,sql, summaryMetrics=ss, stackerList=[]))\n",
    "    \n",
    "    # Plot all the observations\n",
    "    slicer = slicers.HealpixSlicer(nside=64, latCol=altCol, lonCol=azCol,\n",
    "                                   latLonDeg=degrees, useCache=False)\n",
    "    metric = metrics.CountMetric(mjdCol, metricName='Observation Density')\n",
    "    plotFunc = plots.LambertSkyMap()\n",
    "    #min_log = np.log10(1.)\n",
    "    #max_log = np.log10(50000.)\n",
    "    #step = (max_log-min_log)/200.\n",
    "    #log_levels = np.arange(min_log, max_log+step, step)\n",
    "    #levels = 10.**log_levels\n",
    "    #levels = np.logspace(0,np.log10(50000), 200)\n",
    "    levels = 200\n",
    "    levels = np.arange(0, 50000, 250)\n",
    "    levels[0] = 1\n",
    "    plotDict = {'norm': LogNorm(), 'levels': levels, 'cmap': 'jet', 'xlabel': '# Observations'}\n",
    "    sql=''\n",
    "    bundleList.append(metricBundles.MetricBundle(metric,slicer,sql, plotFuncs=[plotFunc], plotDict=plotDict))\n",
    "    \n",
    "    for bun in bundleList:\n",
    "        bun.setRunName(runName)\n",
    "    \n",
    "    bd = metricBundles.makeBundlesDictFromList(bundleList)\n",
    "    bg = metricBundles.MetricBundleGroup(bd, conn, outDir=outDir, resultsDb=resultsDb)\n",
    "    bg.runAll()\n",
    "    bg.plotAll()\n",
    "    print('Open Shutter Fraction=%f' % bundleList[0].metricValues.data)\n",
    "    print('Median airmass = %f' % bundleList[1].metricValues.data)\n",
    "    print('Counts in sub area= %i' % bundleList[2].metricValues.data)\n",
    "    print('Median Count = %f' % bundleList[3].summaryValues['Median'])\n",
    "    print('Median Count / N obs = %f' % (bundleList[3].summaryValues['Median']/bundleList[2].metricValues.data))\n",
    "    return bundleList\n"
   ]
  },
  {
   "cell_type": "code",
   "execution_count": 4,
   "metadata": {},
   "outputs": [
    {
     "name": "stdout",
     "output_type": "stream",
     "text": [
      "Healpix slicer using NSIDE=128, approximate resolution 27.483891 arcminutes\n",
      "Healpix slicer using NSIDE=64, approximate resolution 54.967783 arcminutes\n",
      "Querying database observations with no constraint for columns ['az', 'alt', 'mjd', 'exptime'].\n",
      "Found 2304791 visits\n",
      "Running:  ['FB_BruteOSFMetric_UNIS']\n",
      "Completed metric generation.\n",
      "Running:  ['FB_Observation_Density_HEAL']\n",
      "Completed metric generation.\n",
      "Running reduce methods.\n",
      "Running summary statistics.\n",
      "Completed.\n",
      "Querying database observations with constraint dec > -20.000000 and dec < -1.000000 and RA > 300.000000 and RA < 360.000000 and filter=\"g\" for columns ['airmass', 'mjd', 'RA', 'dec']\n",
      "Found 12209 visits\n",
      "Running:  ['FB_Median_airmass_dec_gt_-20_000000_and_dec_lt_-1_000000_and_RA_gt_300_000000_and_RA_lt_360_000000_and_g_UNIS', 'FB_Count_mjd_dec_gt_-20_000000_and_dec_lt_-1_000000_and_RA_gt_300_000000_and_RA_lt_360_000000_and_g_UNIS']\n",
      "Completed metric generation.\n",
      "Running:  ['FB_Count_mjd_dec_gt_-20_000000_and_dec_lt_-1_000000_and_RA_gt_300_000000_and_RA_lt_360_000000_and_g_HEAL']\n",
      "Completed metric generation.\n",
      "Running reduce methods.\n",
      "Running summary statistics.\n",
      "Completed.\n",
      "Plotting figures with \"\" constraint now.\n"
     ]
    },
    {
     "name": "stderr",
     "output_type": "stream",
     "text": [
      "/Users/yoachim/lsstp3/python/miniconda3-4.3.21/lib/python3.6/site-packages/mpl_toolkits/basemap/__init__.py:3608: MatplotlibDeprecationWarning: The ishold function was deprecated in version 2.0.\n",
      "  b = ax.ishold()\n",
      "/Users/yoachim/lsstp3/python/miniconda3-4.3.21/lib/python3.6/site-packages/mpl_toolkits/basemap/__init__.py:3677: MatplotlibDeprecationWarning: axes.hold is deprecated.\n",
      "    See the API Changes document (http://matplotlib.org/api/api_changes.html)\n",
      "    for more details.\n",
      "  ax.hold(b)\n"
     ]
    },
    {
     "name": "stdout",
     "output_type": "stream",
     "text": [
      "Plotting complete.\n",
      "Plotting figures with \"dec > -20.000000 and dec < -1.000000 and RA > 300.000000 and RA < 360.000000 and filter=\"g\"\" constraint now.\n",
      "monopole: -159.637  dipole: lon: -31.0243, lat: -9.54311, amp: 260.361\n",
      "Plotting complete.\n",
      "Open Shutter Fraction=0.705491\n",
      "Median airmass = 1.097497\n",
      "Counts in sub area= 12209\n",
      "Median Count = 99.000000\n",
      "Median Count / N obs = 0.008109\n"
     ]
    }
   ],
   "source": [
    "bl = survey_perf(conn, outDir='FB', altCol='alt', azCol='az', runName='FB')"
   ]
  },
  {
   "cell_type": "code",
   "execution_count": 5,
   "metadata": {},
   "outputs": [
    {
     "data": {
      "image/png": "[encoded data removed]",
      "text/plain": [
       "<matplotlib.figure.Figure at 0x14e3e4dd8>"
      ]
     },
     "metadata": {},
     "output_type": "display_data"
    }
   ],
   "source": [
    "hp.mollview(bl[-2].metricValues)"
   ]
  },
  {
   "cell_type": "code",
   "execution_count": 6,
   "metadata": {},
   "outputs": [
    {
     "name": "stdout",
     "output_type": "stream",
     "text": [
      "Healpix slicer using NSIDE=128, approximate resolution 27.483891 arcminutes\n",
      "Healpix slicer using NSIDE=64, approximate resolution 54.967783 arcminutes\n",
      "Querying database Summary with no constraint for columns ['visitExpTime', 'expMJD', 'altitude', 'azimuth'].\n",
      "Found 2447931 visits\n",
      "Running:  ['minion_1016_BruteOSFMetric_UNIS']\n",
      "Completed metric generation.\n",
      "Running:  ['minion_1016_Observation_Density_HEAL']\n",
      "Completed metric generation.\n",
      "Running reduce methods.\n",
      "Running summary statistics.\n",
      "Completed.\n",
      "Querying database Summary with constraint fieldDec > -0.349066 and fieldDec < -0.017453 and fieldRA > 5.235988 and fieldRA < 6.283185 and filter=\"g\" for columns ['airmass', 'fieldDec', 'expMJD', 'fieldRA']\n",
      "Found 12445 visits\n",
      "Running:  ['minion_1016_Median_airmass_fieldDec_gt_-0_349066_and_fieldDec_lt_-0_017453_and_fieldRA_gt_5_235988_and_fieldRA_lt_6_283185_and_g_UNIS', 'minion_1016_Count_expMJD_fieldDec_gt_-0_349066_and_fieldDec_lt_-0_017453_and_fieldRA_gt_5_235988_and_fieldRA_lt_6_283185_and_g_UNIS']\n",
      "Completed metric generation.\n",
      "Running:  ['minion_1016_Count_expMJD_fieldDec_gt_-0_349066_and_fieldDec_lt_-0_017453_and_fieldRA_gt_5_235988_and_fieldRA_lt_6_283185_and_g_HEAL']\n",
      "Completed metric generation.\n",
      "Running reduce methods.\n",
      "Running summary statistics.\n",
      "Completed.\n",
      "Plotting figures with \"\" constraint now.\n"
     ]
    },
    {
     "name": "stderr",
     "output_type": "stream",
     "text": [
      "/Users/yoachim/lsstp3/python/miniconda3-4.3.21/lib/python3.6/site-packages/mpl_toolkits/basemap/__init__.py:3608: MatplotlibDeprecationWarning: The ishold function was deprecated in version 2.0.\n",
      "  b = ax.ishold()\n",
      "/Users/yoachim/lsstp3/python/miniconda3-4.3.21/lib/python3.6/site-packages/mpl_toolkits/basemap/__init__.py:3677: MatplotlibDeprecationWarning: axes.hold is deprecated.\n",
      "    See the API Changes document (http://matplotlib.org/api/api_changes.html)\n",
      "    for more details.\n",
      "  ax.hold(b)\n"
     ]
    },
    {
     "name": "stdout",
     "output_type": "stream",
     "text": [
      "Plotting complete.\n",
      "Plotting figures with \"fieldDec > -0.349066 and fieldDec < -0.017453 and fieldRA > 5.235988 and fieldRA < 6.283185 and filter=\"g\"\" constraint now.\n"
     ]
    },
    {
     "name": "stderr",
     "output_type": "stream",
     "text": [
      "/Users/yoachim/gitRepos/sims_maf/python/lsst/sims/maf/utils/mafUtils.py:60: UserWarning: Optimal bin calculation tried to make 809 bins, returning 200\n",
      "  warnings.warn('Optimal bin calculation tried to make %.0f bins, returning %i'%(nbins, nbinMax))\n"
     ]
    },
    {
     "name": "stdout",
     "output_type": "stream",
     "text": [
      "monopole: 45.4274  dipole: lon: -27.3871, lat: -16.2299, amp: 62.6184\n",
      "Plotting complete.\n",
      "Open Shutter Fraction=0.735663\n",
      "Median airmass = 1.246743\n",
      "Counts in sub area= 12445\n",
      "Median Count = 88.000000\n",
      "Median Count / N obs = 0.007071\n"
     ]
    }
   ],
   "source": [
    "dbFile = 'minion_1016_sqlite.db'\n",
    "# This connection checks which version it thinks the database is and should do the right thing schema-wise\n",
    "conn = db.OpsimDatabase(dbFile)\n",
    "bl = survey_perf(conn, mjdCol='expMJD', latCol = 'fieldDec', lonCol = 'fieldRA',\n",
    "                 expTimeCol='visitExpTime', degrees=False,\n",
    "                outDir='minion_1016', runName='minion_1016')"
   ]
  },
  {
   "cell_type": "code",
   "execution_count": 7,
   "metadata": {},
   "outputs": [
    {
     "data": {
      "image/png": "[encoded data removed]",
      "text/plain": [
       "<matplotlib.figure.Figure at 0x14fcdd0b8>"
      ]
     },
     "metadata": {},
     "output_type": "display_data"
    }
   ],
   "source": [
    "hp.mollview(bl[-2].metricValues)"
   ]
  },
  {
   "cell_type": "code",
   "execution_count": 8,
   "metadata": {},
   "outputs": [
    {
     "name": "stdout",
     "output_type": "stream",
     "text": [
      "Healpix slicer using NSIDE=128, approximate resolution 27.483891 arcminutes\n",
      "Healpix slicer using NSIDE=64, approximate resolution 54.967783 arcminutes\n",
      "Querying database Summary with no constraint for columns ['visitExpTime', 'expMJD', 'altitude', 'azimuth'].\n",
      "Found 2447931 visits\n",
      "Running:  ['minion_1016_dithered_BruteOSFMetric_UNIS']\n",
      "Completed metric generation.\n",
      "Running:  ['minion_1016_dithered_Observation_Density_HEAL']\n",
      "Completed metric generation.\n",
      "Running reduce methods.\n",
      "Running summary statistics.\n",
      "Completed.\n",
      "Querying database Summary with constraint ditheredDec > -0.349066 and ditheredDec < -0.017453 and ditheredRA > 5.235988 and ditheredRA < 6.283185 and filter=\"g\" for columns ['airmass', 'ditheredDec', 'expMJD', 'ditheredRA']\n",
      "Found 12579 visits\n",
      "Running:  ['minion_1016_dithered_Median_airmass_ditheredDec_gt_-0_349066_and_ditheredDec_lt_-0_017453_and_ditheredRA_gt_5_235988_and_ditheredRA_lt_6_283185_and_g_UNIS', 'minion_1016_dithered_Count_expMJD_ditheredDec_gt_-0_349066_and_ditheredDec_lt_-0_017453_and_ditheredRA_gt_5_235988_and_ditheredRA_lt_6_283185_and_g_UNIS']\n",
      "Completed metric generation.\n",
      "Running:  ['minion_1016_dithered_Count_expMJD_ditheredDec_gt_-0_349066_and_ditheredDec_lt_-0_017453_and_ditheredRA_gt_5_235988_and_ditheredRA_lt_6_283185_and_g_HEAL']\n",
      "Completed metric generation.\n",
      "Running reduce methods.\n",
      "Running summary statistics.\n",
      "Completed.\n",
      "Plotting figures with \"\" constraint now.\n"
     ]
    },
    {
     "name": "stderr",
     "output_type": "stream",
     "text": [
      "/Users/yoachim/lsstp3/python/miniconda3-4.3.21/lib/python3.6/site-packages/mpl_toolkits/basemap/__init__.py:3608: MatplotlibDeprecationWarning: The ishold function was deprecated in version 2.0.\n",
      "  b = ax.ishold()\n",
      "/Users/yoachim/lsstp3/python/miniconda3-4.3.21/lib/python3.6/site-packages/mpl_toolkits/basemap/__init__.py:3677: MatplotlibDeprecationWarning: axes.hold is deprecated.\n",
      "    See the API Changes document (http://matplotlib.org/api/api_changes.html)\n",
      "    for more details.\n",
      "  ax.hold(b)\n"
     ]
    },
    {
     "name": "stdout",
     "output_type": "stream",
     "text": [
      "Plotting complete.\n",
      "Plotting figures with \"ditheredDec > -0.349066 and ditheredDec < -0.017453 and ditheredRA > 5.235988 and ditheredRA < 6.283185 and filter=\"g\"\" constraint now.\n",
      "monopole: -192.676  dipole: lon: -30.0677, lat: -11.4179, amp: 297.184\n",
      "Plotting complete.\n",
      "Open Shutter Fraction=0.735663\n",
      "Median airmass = 1.247618\n",
      "Counts in sub area= 12579\n",
      "Median Count = 103.000000\n",
      "Median Count / N obs = 0.008188\n"
     ]
    }
   ],
   "source": [
    "dbFile = 'minion_1016_sqlite.db'\n",
    "conn = db.OpsimDatabase(dbFile)\n",
    "bl = survey_perf(conn, mjdCol='expMJD',latCol = 'ditheredDec', lonCol = 'ditheredRA',\n",
    "                 expTimeCol='visitExpTime', degrees=False, outDir='minion_1016_dithered', runName='minion_1016_dithered')"
   ]
  },
  {
   "cell_type": "code",
   "execution_count": 9,
   "metadata": {},
   "outputs": [
    {
     "data": {
      "image/png": "[encoded data removed]",
      "text/plain": [
       "<matplotlib.figure.Figure at 0x14f105b00>"
      ]
     },
     "metadata": {},
     "output_type": "display_data"
    }
   ],
   "source": [
    "hp.mollview(bl[-2].metricValues)"
   ]
  },
  {
   "cell_type": "code",
   "execution_count": 10,
   "metadata": {},
   "outputs": [
    {
     "name": "stdout",
     "output_type": "stream",
     "text": [
      "Healpix slicer using NSIDE=128, approximate resolution 27.483891 arcminutes\n",
      "Healpix slicer using NSIDE=64, approximate resolution 54.967783 arcminutes\n",
      "Querying database SummaryAllProps with no constraint for columns ['azimuth', 'altitude', 'visitExposureTime', 'observationStartMJD'].\n",
      "Found 2364554 visits\n",
      "Running:  ['astro-lsst-01_2013_BruteOSFMetric_UNIS']\n",
      "Completed metric generation.\n",
      "Running:  ['astro-lsst-01_2013_Observation_Density_HEAL']\n",
      "Completed metric generation.\n",
      "Running reduce methods.\n",
      "Running summary statistics.\n",
      "Completed.\n",
      "Querying database SummaryAllProps with constraint fieldDec > -20.000000 and fieldDec < -1.000000 and fieldRA > 300.000000 and fieldRA < 360.000000 and filter=\"g\" for columns ['airmass', 'fieldDec', 'fieldRA', 'observationStartMJD']\n",
      "Found 11789 visits\n",
      "Running:  ['astro-lsst-01_2013_Median_airmass_fieldDec_gt_-20_000000_and_fieldDec_lt_-1_000000_and_fieldRA_gt_300_000000_and_fieldRA_lt_360_000000_and_g_UNIS', 'astro-lsst-01_2013_Count_observationStartMJD_fieldDec_gt_-20_000000_and_fieldDec_lt_-1_000000_and_fieldRA_gt_300_000000_and_fieldRA_lt_360_000000_and_g_UNIS']\n",
      "Completed metric generation.\n",
      "Running:  ['astro-lsst-01_2013_Count_observationStartMJD_fieldDec_gt_-20_000000_and_fieldDec_lt_-1_000000_and_fieldRA_gt_300_000000_and_fieldRA_lt_360_000000_and_g_HEAL']\n",
      "Completed metric generation.\n",
      "Running reduce methods.\n",
      "Running summary statistics.\n",
      "Completed.\n",
      "Plotting figures with \"\" constraint now.\n"
     ]
    },
    {
     "name": "stderr",
     "output_type": "stream",
     "text": [
      "/Users/yoachim/lsstp3/python/miniconda3-4.3.21/lib/python3.6/site-packages/mpl_toolkits/basemap/__init__.py:3608: MatplotlibDeprecationWarning: The ishold function was deprecated in version 2.0.\n",
      "  b = ax.ishold()\n",
      "/Users/yoachim/lsstp3/python/miniconda3-4.3.21/lib/python3.6/site-packages/mpl_toolkits/basemap/__init__.py:3677: MatplotlibDeprecationWarning: axes.hold is deprecated.\n",
      "    See the API Changes document (http://matplotlib.org/api/api_changes.html)\n",
      "    for more details.\n",
      "  ax.hold(b)\n"
     ]
    },
    {
     "name": "stdout",
     "output_type": "stream",
     "text": [
      "Plotting complete.\n",
      "Plotting figures with \"fieldDec > -20.000000 and fieldDec < -1.000000 and fieldRA > 300.000000 and fieldRA < 360.000000 and filter=\"g\"\" constraint now.\n",
      "monopole: 54.1662  dipole: lon: -37.6369, lat: -19.6389, amp: 48.0862\n",
      "Plotting complete.\n",
      "Open Shutter Fraction=0.715178\n",
      "Median airmass = 1.076681\n",
      "Counts in sub area= 11789\n",
      "Median Count = 84.000000\n",
      "Median Count / N obs = 0.007125\n"
     ]
    }
   ],
   "source": [
    "dbFile = 'astro-lsst-01_2013.db'\n",
    "# This connection checks which version it thinks the database is and should do the right thing schema-wise\n",
    "conn = db.OpsimDatabase(dbFile)\n",
    "bl = survey_perf(conn, mjdCol='observationStartMJD',lonCol = 'fieldRA', latCol = 'fieldDec',\n",
    "                 expTimeCol='visitExposureTime', degrees=True, outDir='astro-lsst-01_2013',\n",
    "                 runName='astro-lsst-01_2013')"
   ]
  },
  {
   "cell_type": "code",
   "execution_count": 11,
   "metadata": {},
   "outputs": [
    {
     "data": {
      "image/png": "[encoded data removed]",
      "text/plain": [
       "<matplotlib.figure.Figure at 0x14fcd2320>"
      ]
     },
     "metadata": {},
     "output_type": "display_data"
    }
   ],
   "source": [
    "hp.mollview(bl[-2].metricValues)"
   ]
  },
  {
   "cell_type": "code",
   "execution_count": null,
   "metadata": {},
   "outputs": [],
   "source": []
  },
  {
   "cell_type": "code",
   "execution_count": null,
   "metadata": {},
   "outputs": [],
   "source": []
  },
  {
   "cell_type": "code",
   "execution_count": 12,
   "metadata": {},
   "outputs": [],
   "source": [
    "#OK what are the lessons we can learn from here? (run with r-filter)\n",
    "#\n",
    "#Run      airmass    OSF     dithered?\n",
    "#\n",
    "#FB        1.10     0.705    yes\n",
    "#Minion    1.22     0.736    no\n",
    "#lsst-2013 1.08     0.715    no\n",
    "\n",
    "# Dithering boosted Minion from 199 to 236 median observations. \n",
    "# r-band has extinction coef of 0.1.\n",
    "\n",
    "# So, the max would be OSF=1, airmass=1, and dithered.  \n",
    "# If dithered, 1, else 0.84\n",
    "# Total median throughput = OSF *(exp(-.092*X))*dither factor\n",
    "# If we did g instead, c = -0.369\n"
   ]
  },
  {
   "cell_type": "code",
   "execution_count": 13,
   "metadata": {},
   "outputs": [
    {
     "data": {
      "text/plain": [
       "(0.63714534637150333, 0.55260128153326271, 0.5437932696198472)"
      ]
     },
     "execution_count": 13,
     "metadata": {},
     "output_type": "execute_result"
    }
   ],
   "source": [
    "# Total throughput in r.\n",
    "# FB, Minion, lsst-2013\n",
    "c=-0.092\n",
    "np.exp(c*1.1)*.705, np.exp(c*1.22)*.736*.84, np.exp(c*1.08)*0.715*.84"
   ]
  },
  {
   "cell_type": "code",
   "execution_count": 14,
   "metadata": {},
   "outputs": [],
   "source": [
    "# Wow, so I didn't expect that! For total throughput (in r), minion is better than lsst-2013. \n",
    "#The decreased airmass throughput is offset by the increase in oppen shutter fraction."
   ]
  },
  {
   "cell_type": "code",
   "execution_count": 15,
   "metadata": {},
   "outputs": [],
   "source": [
    "# ok, now looking at g-band\n",
    "#Run      airmass    OSF     dithered?\n",
    "#\n",
    "#FB        1.10     0.705    yes\n",
    "#Minion    1.25     0.736    no\n",
    "#lsst-2013 1.08     0.715    no\n"
   ]
  },
  {
   "cell_type": "code",
   "execution_count": 16,
   "metadata": {},
   "outputs": [
    {
     "data": {
      "text/plain": [
       "(0.46979564525016992, 0.39882837608547855, 0.40799038714041064)"
      ]
     },
     "execution_count": 16,
     "metadata": {},
     "output_type": "execute_result"
    }
   ],
   "source": [
    "# Total throughput in r.\n",
    "# FB, Minion, lsst-2013\n",
    "c = -0.369\n",
    "np.exp(c*1.1)*.705, np.exp(c*1.22)*.736*.85, np.exp(c*1.08)*0.715*.85"
   ]
  },
  {
   "cell_type": "code",
   "execution_count": 17,
   "metadata": {},
   "outputs": [],
   "source": [
    "# Now in the blue, the airmass penalty is larger, so lsst-2013 wins by a hair over minion.\n",
    "# In both, the dithering makes the FB way better for a median point in the WFD region."
   ]
  },
  {
   "cell_type": "code",
   "execution_count": 18,
   "metadata": {},
   "outputs": [
    {
     "data": {
      "text/plain": [
       "11.539855072463768"
      ]
     },
     "execution_count": 18,
     "metadata": {},
     "output_type": "execute_result"
    }
   ],
   "source": [
    "0.637/0.552*10"
   ]
  },
  {
   "cell_type": "code",
   "execution_count": 19,
   "metadata": {},
   "outputs": [
    {
     "data": {
      "text/plain": [
       "11.463414634146341"
      ]
     },
     "execution_count": 19,
     "metadata": {},
     "output_type": "execute_result"
    }
   ],
   "source": [
    "10.*0.47/0.41"
   ]
  },
  {
   "cell_type": "code",
   "execution_count": 20,
   "metadata": {},
   "outputs": [],
   "source": [
    "# In both cases, it would take an extra 1.5 years for the proposal scheduler to get the throughput FB does in 10."
   ]
  },
  {
   "cell_type": "code",
   "execution_count": null,
   "metadata": {},
   "outputs": [],
   "source": []
  },
  {
   "cell_type": "code",
   "execution_count": null,
   "metadata": {},
   "outputs": [],
   "source": []
  },
  {
   "cell_type": "code",
   "execution_count": null,
   "metadata": {},
   "outputs": [],
   "source": []
  },
  {
   "cell_type": "code",
   "execution_count": null,
   "metadata": {},
   "outputs": [],
   "source": []
  },
  {
   "cell_type": "code",
   "execution_count": null,
   "metadata": {},
   "outputs": [],
   "source": []
  },
  {
   "cell_type": "code",
   "execution_count": null,
   "metadata": {},
   "outputs": [],
   "source": []
  },
  {
   "cell_type": "code",
   "execution_count": null,
   "metadata": {},
   "outputs": [],
   "source": []
  }
 ],
 "metadata": {
  "kernelspec": {
   "display_name": "Python 3",
   "language": "python",
   "name": "python3"
  },
  "language_info": {
   "codemirror_mode": {
    "name": "ipython",
    "version": 3
   },
   "file_extension": ".py",
   "mimetype": "text/x-python",
   "name": "python",
   "nbconvert_exporter": "python",
   "pygments_lexer": "ipython3",
   "version": "3.6.2"
  }
 },
 "nbformat": 4,
 "nbformat_minor": 2
}
