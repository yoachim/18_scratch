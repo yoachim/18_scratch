{
 "cells": [
  {
   "cell_type": "code",
   "execution_count": 1,
   "metadata": {},
   "outputs": [],
   "source": [
    "%matplotlib inline\n",
    "import numpy as np\n",
    "import matplotlib.pyplot as plt\n",
    "import healpy as hp\n",
    "\n",
    "import lsst.sims.maf.db as db\n",
    "import lsst.sims.maf.utils as utils\n",
    "import lsst.sims.maf.metrics as metrics\n",
    "import lsst.sims.maf.slicers as slicers\n",
    "import lsst.sims.maf.stackers as stackers\n",
    "import lsst.sims.maf.metricBundles as metricBundles"
   ]
  },
  {
   "cell_type": "code",
   "execution_count": 2,
   "metadata": {},
   "outputs": [],
   "source": [
    "dbFile = 'feature_baseline_10yrs.db'\n",
    "# This connection checks which version it thinks the database is and should do the right thing schema-wise\n",
    "conn = db.Database(dbFile, defaultTable='observations')\n",
    "outDir='temp'"
   ]
  },
  {
   "cell_type": "code",
   "execution_count": 3,
   "metadata": {},
   "outputs": [],
   "source": [
    "def survey_perf(conn, mjdCol='mjd', latCol = 'dec', lonCol = 'RA', expTimeCol='exptime',\n",
    "                dec1=-40., dec2=-30, ra1=0, ra2=100, outDir='temp', degrees=True):\n",
    "    \n",
    "    if not degrees:\n",
    "        dec1 = np.radians(dec1)\n",
    "        dec2 = np.radians(dec2)\n",
    "        ra1=np.radians(ra1)\n",
    "        ra2 = np.radians(ra2)\n",
    "    \n",
    "    resultsDb = db.ResultsDb(outDir=outDir)\n",
    "    bundleList = []\n",
    "\n",
    "    metric = metrics.BruteOSFMetric(expTimeCol=expTimeCol, mjdCol=mjdCol)\n",
    "    slicer = slicers.UniSlicer()\n",
    "    sql = ''\n",
    "    bundleList.append(metricBundles.MetricBundle(metric,slicer,sql))\n",
    "\n",
    "    sql='%s > %f and %s < %f and %s > %f and %s < %f' %  (latCol, dec1, latCol, dec2, lonCol, ra1, lonCol, ra2)\n",
    "    # Let's check the median airmass and number of observations\n",
    "    metric = metrics.MedianMetric(col='airmass')\n",
    "    slicer = slicers.UniSlicer()\n",
    "    bundleList.append(metricBundles.MetricBundle(metric,slicer,sql))\n",
    "\n",
    "    metric = metrics.CountMetric(col=mjdCol)\n",
    "    slicer=slicers.HealpixSlicer(latCol=latCol, lonCol=lonCol, latLonDeg=degrees)\n",
    "    ss = metrics.MedianMetric()\n",
    "    bundleList.append(metricBundles.MetricBundle(metric,slicer,sql, summaryMetrics=ss, stackerList=[]))\n",
    "    \n",
    "    bd = metricBundles.makeBundlesDictFromList(bundleList)\n",
    "    bg = metricBundles.MetricBundleGroup(bd, conn, outDir=outDir, resultsDb=resultsDb)\n",
    "    bg.runAll()\n",
    "    print('Open Shutter Fraction=%f' % bundleList[0].metricValues.data)\n",
    "    print('Median airmass = %f' % bundleList[1].metricValues.data)\n",
    "    print('Median Count = %f' % bundleList[2].summaryValues['Median'])\n",
    "    return bundleList\n"
   ]
  },
  {
   "cell_type": "code",
   "execution_count": 4,
   "metadata": {},
   "outputs": [
    {
     "name": "stdout",
     "output_type": "stream",
     "text": [
      "Healpix slicer using NSIDE=128, approximate resolution 27.483891 arcminutes\n",
      "Querying database observations with no constraint for columns ['exptime', 'mjd'].\n",
      "Found 2304791 visits\n",
      "Running:  ['opsim_BruteOSFMetric_UNIS']\n",
      "Completed metric generation.\n",
      "Running reduce methods.\n",
      "Running summary statistics.\n",
      "Completed.\n",
      "Querying database observations with constraint dec > -40.000000 and dec < -30.000000 and RA > 0.000000 and RA < 100.000000 for columns ['dec', 'RA', 'airmass', 'mjd']\n",
      "Found 85649 visits\n",
      "Running:  ['opsim_Median_airmass_dec_gt_-40_000000_and_dec_lt_-30_000000_and_RA_gt_0_000000_and_RA_lt_100_000000_UNIS']\n",
      "Completed metric generation.\n",
      "Running:  ['opsim_Count_mjd_dec_gt_-40_000000_and_dec_lt_-30_000000_and_RA_gt_0_000000_and_RA_lt_100_000000_HEAL']\n",
      "Completed metric generation.\n",
      "Running reduce methods.\n",
      "Running summary statistics.\n",
      "Completed.\n",
      "Open Shutter Fraction=0.705491\n",
      "Median airmass = 1.155295\n",
      "Median Count = 940.000000\n"
     ]
    }
   ],
   "source": [
    "bl = survey_perf(conn)"
   ]
  },
  {
   "cell_type": "code",
   "execution_count": null,
   "metadata": {},
   "outputs": [],
   "source": []
  },
  {
   "cell_type": "code",
   "execution_count": 5,
   "metadata": {},
   "outputs": [
    {
     "name": "stdout",
     "output_type": "stream",
     "text": [
      "Healpix slicer using NSIDE=128, approximate resolution 27.483891 arcminutes\n",
      "Querying database Summary with no constraint for columns ['visitExpTime', 'expMJD'].\n",
      "Found 2447931 visits\n",
      "Running:  ['opsim_BruteOSFMetric_UNIS']\n",
      "Completed metric generation.\n",
      "Running reduce methods.\n",
      "Running summary statistics.\n",
      "Completed.\n",
      "Querying database Summary with constraint fieldDec > -0.698132 and fieldDec < -0.523599 and fieldRA > 0.000000 and fieldRA < 1.745329 for columns ['fieldRA', 'expMJD', 'airmass', 'fieldDec']\n",
      "Found 95531 visits\n",
      "Running:  ['opsim_Median_airmass_fieldDec_gt_-0_698132_and_fieldDec_lt_-0_523599_and_fieldRA_gt_0_000000_and_fieldRA_lt_1_745329_UNIS']\n",
      "Completed metric generation.\n",
      "Running:  ['opsim_Count_expMJD_fieldDec_gt_-0_698132_and_fieldDec_lt_-0_523599_and_fieldRA_gt_0_000000_and_fieldRA_lt_1_745329_HEAL']\n",
      "Completed metric generation.\n",
      "Running reduce methods.\n",
      "Running summary statistics.\n",
      "Completed.\n",
      "Open Shutter Fraction=0.735663\n",
      "Median airmass = 1.175443\n",
      "Median Count = 919.000000\n"
     ]
    }
   ],
   "source": [
    "dbFile = 'minion_1016_sqlite.db'\n",
    "# This connection checks which version it thinks the database is and should do the right thing schema-wise\n",
    "conn = db.OpsimDatabase(dbFile)\n",
    "bl = survey_perf(conn, mjdCol='expMJD', latCol = 'fieldDec', lonCol = 'fieldRA', expTimeCol='visitExpTime', degrees=False)"
   ]
  },
  {
   "cell_type": "code",
   "execution_count": 6,
   "metadata": {},
   "outputs": [
    {
     "data": {
      "image/png": "[encoded data removed]",
      "text/plain": [
       "<matplotlib.figure.Figure at 0x103055dd8>"
      ]
     },
     "metadata": {},
     "output_type": "display_data"
    }
   ],
   "source": [
    "hp.mollview(bl[-1].metricValues)"
   ]
  },
  {
   "cell_type": "code",
   "execution_count": 4,
   "metadata": {},
   "outputs": [
    {
     "name": "stdout",
     "output_type": "stream",
     "text": [
      "Healpix slicer using NSIDE=128, approximate resolution 27.483891 arcminutes\n",
      "Querying database Summary with no constraint for columns ['expMJD', 'visitExpTime'].\n",
      "Found 2447931 visits\n",
      "Running:  ['opsim_BruteOSFMetric_UNIS']\n",
      "Completed metric generation.\n",
      "Running reduce methods.\n",
      "Running summary statistics.\n",
      "Completed.\n",
      "Querying database Summary with constraint ditheredDec > -0.698132 and ditheredDec < -0.523599 and ditheredRA > 0.000000 and ditheredRA < 1.745329 for columns ['ditheredRA', 'ditheredDec', 'airmass', 'expMJD']\n",
      "Found 96451 visits\n",
      "Running:  ['opsim_Median_airmass_ditheredDec_gt_-0_698132_and_ditheredDec_lt_-0_523599_and_ditheredRA_gt_0_000000_and_ditheredRA_lt_1_745329_UNIS']\n",
      "Completed metric generation.\n",
      "Running:  ['opsim_Count_expMJD_ditheredDec_gt_-0_698132_and_ditheredDec_lt_-0_523599_and_ditheredRA_gt_0_000000_and_ditheredRA_lt_1_745329_HEAL']\n",
      "Completed metric generation.\n",
      "Running reduce methods.\n",
      "Running summary statistics.\n",
      "Completed.\n",
      "Open Shutter Fraction=0.735663\n",
      "Median airmass = 1.175267\n",
      "Median Count = 1069.000000\n"
     ]
    }
   ],
   "source": [
    "dbFile = 'minion_1016_sqlite.db'\n",
    "conn = db.OpsimDatabase(dbFile)\n",
    "bl = survey_perf(conn, mjdCol='expMJD',latCol = 'ditheredDec', lonCol = 'ditheredRA',\n",
    "                 expTimeCol='visitExpTime', degrees=False)"
   ]
  },
  {
   "cell_type": "code",
   "execution_count": 5,
   "metadata": {},
   "outputs": [
    {
     "data": {
      "image/png": "[encoded data removed]",
      "text/plain": [
       "<matplotlib.figure.Figure at 0x1512e6d30>"
      ]
     },
     "metadata": {},
     "output_type": "display_data"
    }
   ],
   "source": [
    "hp.mollview(bl[-1].metricValues)"
   ]
  },
  {
   "cell_type": "code",
   "execution_count": 7,
   "metadata": {},
   "outputs": [
    {
     "name": "stdout",
     "output_type": "stream",
     "text": [
      "Healpix slicer using NSIDE=128, approximate resolution 27.483891 arcminutes\n",
      "Querying database SummaryAllProps with no constraint for columns ['visitExposureTime', 'observationStartMJD'].\n",
      "Found 2364554 visits\n",
      "Running:  ['opsim_BruteOSFMetric_UNIS']\n",
      "Completed metric generation.\n",
      "Running reduce methods.\n",
      "Running summary statistics.\n",
      "Completed.\n",
      "Querying database SummaryAllProps with constraint fieldDec > -40.000000 and fieldDec < -30.000000 and fieldRA > 0.000000 and fieldRA < 100.000000 for columns ['observationStartMJD', 'airmass', 'fieldDec', 'fieldRA']\n",
      "Found 86449 visits\n",
      "Running:  ['opsim_Median_airmass_fieldDec_gt_-40_000000_and_fieldDec_lt_-30_000000_and_fieldRA_gt_0_000000_and_fieldRA_lt_100_000000_UNIS']\n",
      "Completed metric generation.\n",
      "Running:  ['opsim_Count_observationStartMJD_fieldDec_gt_-40_000000_and_fieldDec_lt_-30_000000_and_fieldRA_gt_0_000000_and_fieldRA_lt_100_000000_HEAL']\n",
      "Completed metric generation.\n",
      "Running reduce methods.\n",
      "Running summary statistics.\n",
      "Completed.\n",
      "Open Shutter Fraction=0.715178\n",
      "Median airmass = 1.015401\n",
      "Median Count = 835.000000\n"
     ]
    }
   ],
   "source": [
    "dbFile = 'astro-lsst-01_2013.db'\n",
    "# This connection checks which version it thinks the database is and should do the right thing schema-wise\n",
    "conn = db.OpsimDatabase(dbFile)\n",
    "bl = survey_perf(conn, mjdCol='observationStartMJD',lonCol = 'fieldRA', latCol = 'fieldDec',\n",
    "                 expTimeCol='visitExposureTime', degrees=True)"
   ]
  },
  {
   "cell_type": "code",
   "execution_count": 8,
   "metadata": {},
   "outputs": [
    {
     "data": {
      "image/png": "[encoded data removed]",
      "text/plain": [
       "<matplotlib.figure.Figure at 0x15126eb00>"
      ]
     },
     "metadata": {},
     "output_type": "display_data"
    }
   ],
   "source": [
    "hp.mollview(bl[-1].metricValues)"
   ]
  },
  {
   "cell_type": "code",
   "execution_count": null,
   "metadata": {
    "collapsed": true
   },
   "outputs": [],
   "source": []
  }
 ],
 "metadata": {
  "kernelspec": {
   "display_name": "Python 3",
   "language": "python",
   "name": "python3"
  },
  "language_info": {
   "codemirror_mode": {
    "name": "ipython",
    "version": 3
   },
   "file_extension": ".py",
   "mimetype": "text/x-python",
   "name": "python",
   "nbconvert_exporter": "python",
   "pygments_lexer": "ipython3",
   "version": "3.6.2"
  }
 },
 "nbformat": 4,
 "nbformat_minor": 2
}
