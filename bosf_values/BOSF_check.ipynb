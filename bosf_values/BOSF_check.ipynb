{
 "cells": [
  {
   "cell_type": "code",
   "execution_count": 1,
   "metadata": {
    "collapsed": true
   },
   "outputs": [],
   "source": [
    "%matplotlib inline\n",
    "import numpy as np\n",
    "import matplotlib.pyplot as plt\n",
    "import healpy as hp\n",
    "\n",
    "import lsst.sims.maf.db as db\n",
    "import lsst.sims.maf.utils as utils\n",
    "import lsst.sims.maf.metrics as metrics\n",
    "import lsst.sims.maf.slicers as slicers\n",
    "import lsst.sims.maf.stackers as stackers\n",
    "import lsst.sims.maf.metricBundles as metricBundles"
   ]
  },
  {
   "cell_type": "code",
   "execution_count": 2,
   "metadata": {
    "collapsed": true
   },
   "outputs": [],
   "source": [
    "dbFile = 'feature_baseline_10yrs.db'\n",
    "# This connection checks which version it thinks the database is and should do the right thing schema-wise\n",
    "conn = db.Database(dbFile, defaultTable='observations')\n",
    "outDir='temp'\n",
    "resultsDb = db.ResultsDb(outDir=outDir)"
   ]
  },
  {
   "cell_type": "code",
   "execution_count": 4,
   "metadata": {
    "collapsed": true
   },
   "outputs": [],
   "source": [
    "mjdCol='mjd'\n",
    "latCol = 'dec'\n",
    "lonCol = 'RA'\n",
    "expTimeCol='exptime'\n",
    "\n",
    "bundleList = []\n",
    "\n",
    "metric = metrics.BruteOSFMetric(expTimeCol=exptimeCol, mjdCol='mjd')\n",
    "slicer = slicers.UniSlicer()\n",
    "sql = ''\n",
    "bundleList.append(metricBundles.MetricBundle(metric,slicer,sql))\n",
    "\n",
    "sql='dec > %f and dec < %f and ra > %f and ra < %f' (dec1, dec2, ra1, ra2)\n",
    "# Let's check the median airmass and number of observations\n",
    "metric = metrics.MedianMetric(col='airmass')\n",
    "slicer = slicers.UniSlicer()\n",
    "bundleList.append(metricBundles.MetricBundle(metric,slicer,sql))\n",
    "\n",
    "metric = metrics.CountMetric(col=mjdCol)\n",
    "slicer=slicers.HealpixSlicer(latCol=latCol, lonCol=lonCol)\n",
    "ss = metrics.MedianMetric()\n",
    "bundleList.append(metricBundles.MetricBundle(metric,slicer,sql, summaryMetrics=ss))\n",
    "\n"
   ]
  },
  {
   "cell_type": "code",
   "execution_count": 5,
   "metadata": {},
   "outputs": [
    {
     "name": "stdout",
     "output_type": "stream",
     "text": [
      "Querying database observations with no constraint for columns ['exptime', 'mjd'].\n",
      "Found 2304791 visits\n",
      "Running:  ['opsim_BruteOSFMetric_UNIS']\n",
      "Completed metric generation.\n",
      "Running reduce methods.\n",
      "Running summary statistics.\n",
      "Completed.\n"
     ]
    }
   ],
   "source": [
    "bd = metricBundles.makeBundlesDictFromList(bundleList)\n",
    "bg = metricBundles.MetricBundleGroup(bd, conn, outDir=outDir, resultsDb=resultsDb)\n",
    "bg.runAll()"
   ]
  },
  {
   "cell_type": "code",
   "execution_count": 8,
   "metadata": {},
   "outputs": [
    {
     "name": "stdout",
     "output_type": "stream",
     "text": [
      "Feature Based Open Shutter Fraction=0.705491\n"
     ]
    }
   ],
   "source": [
    "print('Feature Based Open Shutter Fraction=%f' % bundleList[0].metricValues.data)\n",
    "print('Median airmass = %f' % bundleList[1].metricValues.data)\n",
    "print('Median Count = %f' % bundleList[2].summaryValues[0])"
   ]
  },
  {
   "cell_type": "code",
   "execution_count": 9,
   "metadata": {},
   "outputs": [
    {
     "name": "stdout",
     "output_type": "stream",
     "text": [
      "Querying database Summary with no constraint for columns ['expMJD', 'visitExpTime'].\n",
      "Found 2447931 visits\n",
      "Running:  ['opsim_BruteOSFMetric_UNIS']\n",
      "Completed metric generation.\n",
      "Running reduce methods.\n",
      "Running summary statistics.\n",
      "Completed.\n",
      "Minion Open Shutter Fraction=0.735663\n"
     ]
    }
   ],
   "source": [
    "mjdCol='expMJD'\n",
    "latCol = 'fieldDec'\n",
    "lonCol = 'fieldRA'\n",
    "exptimeCol='expTime'\n",
    "\n",
    "dbFile = 'minion_1016_sqlite.db'\n",
    "# This connection checks which version it thinks the database is and should do the right thing schema-wise\n",
    "conn = db.OpsimDatabase(dbFile)\n",
    "outDir='temp'\n",
    "resultsDb = db.ResultsDb(outDir=outDir)\n",
    "bundleList = []\n",
    "\n",
    "metric = metrics.BruteOSFMetric(expTimeCol=expTimeCol=exptimeCol, mjdCol=mjdCol)\n",
    "slicer = slicers.UniSlicer()\n",
    "sql = ''\n",
    "bundleList.append(metricBundles.MetricBundle(metric,slicer,sql))\n",
    "\n",
    "sql='dec > %f and dec < %f and ra > %f and ra < %f' (dec1, dec2, ra1, ra2)\n",
    "# Let's check the median airmass and number of observations\n",
    "metric = metrics.MedianMetric(col='airmass')\n",
    "slicer = slicers.UniSlicer()\n",
    "bundleList.append(metricBundles.MetricBundle(metric,slicer,sql))\n",
    "\n",
    "metric = metrics.CountMetric(col=mjdCol)\n",
    "slicer=slicers.HealpixSlicer(latCol=latCol, lonCol=lonCol)\n",
    "ss = metrics.MedianMetric()\n",
    "bundleList.append(metricBundles.MetricBundle(metric,slicer,sql, summaryMetrics=ss))\n",
    "\n",
    "\n",
    "bd = metricBundles.makeBundlesDictFromList(bundleList)\n",
    "bg = metricBundles.MetricBundleGroup(bd, conn, outDir=outDir, resultsDb=resultsDb)\n",
    "bg.runAll()\n",
    "\n",
    "\n",
    "print('Minion Open Shutter Fraction=%f' % bundleList[0].metricValues.data)"
   ]
  },
  {
   "cell_type": "code",
   "execution_count": null,
   "metadata": {
    "collapsed": true
   },
   "outputs": [],
   "source": []
  },
  {
   "cell_type": "code",
   "execution_count": 10,
   "metadata": {},
   "outputs": [
    {
     "name": "stdout",
     "output_type": "stream",
     "text": [
      "Querying database SummaryAllProps with no constraint for columns ['visitExposureTime', 'observationStartMJD'].\n",
      "Found 2364554 visits\n",
      "Running:  ['opsim_BruteOSFMetric_UNIS']\n",
      "Completed metric generation.\n",
      "Running reduce methods.\n",
      "Running summary statistics.\n",
      "Completed.\n",
      "Minion Open Shutter Fraction=0.715178\n"
     ]
    }
   ],
   "source": [
    "dbFile = 'astro-lsst-01_2013.db'\n",
    "# This connection checks which version it thinks the database is and should do the right thing schema-wise\n",
    "conn = db.OpsimDatabase(dbFile)\n",
    "outDir='temp'\n",
    "resultsDb = db.ResultsDb(outDir=outDir)\n",
    "bundleList = []\n",
    "\n",
    "metric = metrics.BruteOSFMetric(expTimeCol='visitExposureTime', mjdCol='observationStartMJD')\n",
    "slicer = slicers.UniSlicer()\n",
    "sql = ''\n",
    "\n",
    "bundleList.append(metricBundles.MetricBundle(metric,slicer,sql))\n",
    "\n",
    "bd = metricBundles.makeBundlesDictFromList(bundleList)\n",
    "bg = metricBundles.MetricBundleGroup(bd, conn, outDir=outDir, resultsDb=resultsDb)\n",
    "bg.runAll()\n",
    "print('astro-lsst-01_2013 Open Shutter Fraction=%f' % bundleList[0].metricValues.data)"
   ]
  },
  {
   "cell_type": "code",
   "execution_count": null,
   "metadata": {
    "collapsed": true
   },
   "outputs": [],
   "source": []
  }
 ],
 "metadata": {
  "kernelspec": {
   "display_name": "Python 2",
   "language": "python",
   "name": "python2"
  },
  "language_info": {
   "codemirror_mode": {
    "name": "ipython",
    "version": 2
   },
   "file_extension": ".py",
   "mimetype": "text/x-python",
   "name": "python",
   "nbconvert_exporter": "python",
   "pygments_lexer": "ipython2",
   "version": "2.7.12"
  }
 },
 "nbformat": 4,
 "nbformat_minor": 2
}
