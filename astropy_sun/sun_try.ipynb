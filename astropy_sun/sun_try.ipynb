{
 "cells": [
  {
   "cell_type": "code",
   "execution_count": 9,
   "metadata": {},
   "outputs": [],
   "source": [
    "import numpy as np\n",
    "from astropy.coordinates import get_sun\n",
    "import matplotlib.pylab as plt\n",
    "%matplotlib inline\n",
    "from lsst.sims.utils import _hpid2RaDec, _raDec2Hpid, Site\n",
    "import astropy.units as u"
   ]
  },
  {
   "cell_type": "code",
   "execution_count": 4,
   "metadata": {},
   "outputs": [],
   "source": [
    "mjd0 = 59853.5\n",
    "site = Site(name='LSST')"
   ]
  },
  {
   "cell_type": "code",
   "execution_count": 28,
   "metadata": {},
   "outputs": [],
   "source": [
    "step = 30./60./24.\n",
    "mjds = np.arange(mjd0, mjd0+365, step)"
   ]
  },
  {
   "cell_type": "code",
   "execution_count": 29,
   "metadata": {},
   "outputs": [
    {
     "data": {
      "text/plain": [
       "array([ 59853.5       ,  59853.52083333,  59853.54166667, ...,\n",
       "        60218.43750004,  60218.45833338,  60218.47916671])"
      ]
     },
     "execution_count": 29,
     "metadata": {},
     "output_type": "execute_result"
    }
   ],
   "source": [
    "mjds"
   ]
  },
  {
   "cell_type": "code",
   "execution_count": 30,
   "metadata": {},
   "outputs": [],
   "source": [
    "from astropy.time import Time\n",
    "from astropy.coordinates import solar_system_ephemeris, EarthLocation, AltAz\n"
   ]
  },
  {
   "cell_type": "code",
   "execution_count": 31,
   "metadata": {},
   "outputs": [],
   "source": [
    "site = Site('LSST')\n",
    "loc = EarthLocation(site.longitude*u.deg, site.latitude*u.deg, site.height*u.m)"
   ]
  },
  {
   "cell_type": "code",
   "execution_count": 32,
   "metadata": {},
   "outputs": [],
   "source": [
    "t = Time(mjds, format='mjd')"
   ]
  },
  {
   "cell_type": "code",
   "execution_count": 33,
   "metadata": {},
   "outputs": [
    {
     "name": "stderr",
     "output_type": "stream",
     "text": [
      "WARNING: ErfaWarning: ERFA function \"utctai\" yielded 17520 of \"dubious year (Note 3)\" [astropy._erfa.core]\n"
     ]
    }
   ],
   "source": [
    "sun = get_sun(t)"
   ]
  },
  {
   "cell_type": "code",
   "execution_count": 34,
   "metadata": {},
   "outputs": [
    {
     "name": "stderr",
     "output_type": "stream",
     "text": [
      "WARNING: ErfaWarning: ERFA function \"utctai\" yielded 17520 of \"dubious year (Note 3)\" [astropy._erfa.core]\n",
      "WARNING: Tried to get polar motions for times after IERS data is valid. Defaulting to polar motion from the 50-yr mean for those. This may affect precision at the 10s of arcsec level [astropy.coordinates.builtin_frames.utils]\n",
      "WARNING: ErfaWarning: ERFA function \"utcut1\" yielded 17520 of \"dubious year (Note 3)\" [astropy._erfa.core]\n",
      "WARNING: ErfaWarning: ERFA function \"apio13\" yielded 17520 of \"dubious year (Note 2)\" [astropy._erfa.core]\n"
     ]
    }
   ],
   "source": [
    "sun_altAz = sun.transform_to(AltAz(obstime=t, location=loc))"
   ]
  },
  {
   "cell_type": "code",
   "execution_count": 35,
   "metadata": {},
   "outputs": [
    {
     "data": {
      "text/plain": [
       "[<matplotlib.lines.Line2D at 0x114a7a2e8>]"
      ]
     },
     "execution_count": 35,
     "metadata": {},
     "output_type": "execute_result"
    },
    {
     "data": {
      "image/png": "[encoded data removed]",
      "text/plain": [
       "<matplotlib.figure.Figure at 0x10eb78da0>"
      ]
     },
     "metadata": {},
     "output_type": "display_data"
    }
   ],
   "source": [
    "plt.plot(mjds, sun_altAz.alt, 'ko')"
   ]
  },
  {
   "cell_type": "code",
   "execution_count": 36,
   "metadata": {},
   "outputs": [],
   "source": [
    "# Now I could make a function to find the mjd at a specific altitude\n",
    "def interp_sun_postion(mjd0, mjd1, npts=100, cross_alt=-18., location=None):\n",
    "    \"\"\"\n",
    "    \"\"\"\n",
    "    mjds = np.linspace(mjd0, mjd1, npts)\n",
    "    t = Time(mjds, format='mjd')\n",
    "    sun = get_sun(t)\n",
    "    sun_altAz = sun.transform_to(AltAz(obstime=t, location=location))\n",
    "    result = np.interp(cross_alt, sun_altAz.alt, mjds)\n",
    "    return result"
   ]
  },
  {
   "cell_type": "code",
   "execution_count": null,
   "metadata": {},
   "outputs": [],
   "source": []
  }
 ],
 "metadata": {
  "kernelspec": {
   "display_name": "Python 3",
   "language": "python",
   "name": "python3"
  },
  "language_info": {
   "codemirror_mode": {
    "name": "ipython",
    "version": 3
   },
   "file_extension": ".py",
   "mimetype": "text/x-python",
   "name": "python",
   "nbconvert_exporter": "python",
   "pygments_lexer": "ipython3",
   "version": "3.6.2"
  }
 },
 "nbformat": 4,
 "nbformat_minor": 2
}
