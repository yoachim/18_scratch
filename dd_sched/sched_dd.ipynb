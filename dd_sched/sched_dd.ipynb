{
 "cells": [
  {
   "cell_type": "code",
   "execution_count": 1,
   "metadata": {},
   "outputs": [
    {
     "name": "stderr",
     "output_type": "stream",
     "text": [
      "/Users/yoachim/gitRepos/sims_featureScheduler/python/lsst/sims/featureScheduler/utils.py:27: UserWarning: Could not import ts.scheduler. This is required to load the FieldsDatabase. In this case\n",
      "it will fallback to loading fields from the local \"fieldID.lis\" file.\n",
      "  it will fallback to loading fields from the local \"fieldID.lis\" file.''')\n"
     ]
    }
   ],
   "source": [
    "%matplotlib inline\n",
    "import matplotlib.pylab as plt\n",
    "import numpy as np\n",
    "import astropy\n",
    "import lsst.sims.featureScheduler as fs"
   ]
  },
  {
   "cell_type": "code",
   "execution_count": 8,
   "metadata": {},
   "outputs": [],
   "source": [
    "# Let's load up the DD fields that are known to fs\n",
    "dd_surveys = fs.generate_dd_surveys()\n",
    "dd_to_try = 0"
   ]
  },
  {
   "cell_type": "code",
   "execution_count": 9,
   "metadata": {},
   "outputs": [],
   "source": [
    "ra_rad = dd_surveys[dd_to_try].ra\n",
    "dec_rad = dd_surveys[dd_to_try].dec\n",
    "\n",
    "mjd0 = 59580.0381944435\n",
    "length = 365.25 * 2\n",
    "# What times do we want to use\n",
    "timestep = 0.5 / 24.\n",
    "mjds = np.arange(mjd0, mjd0+length, timestep)"
   ]
  },
  {
   "cell_type": "code",
   "execution_count": 13,
   "metadata": {},
   "outputs": [],
   "source": [
    "names = ['mjd', 'sun_alt', 'moon_ra', 'moon_dec', 'airmass']\n",
    "dtypes = [float]*len(names)\n",
    "info = np.zeros(mjds.size, dtype=list(zip(names, dtypes)))"
   ]
  },
  {
   "cell_type": "code",
   "execution_count": 16,
   "metadata": {},
   "outputs": [],
   "source": [
    "info['mjd'] = mjds"
   ]
  },
  {
   "cell_type": "code",
   "execution_count": 18,
   "metadata": {},
   "outputs": [],
   "source": [
    "# Astropy times\n",
    "times = astropy.time.Time(mjds, format='mjd')"
   ]
  },
  {
   "cell_type": "code",
   "execution_count": null,
   "metadata": {},
   "outputs": [],
   "source": [
    "location = astropy.coordinates.EarthLocation()"
   ]
  },
  {
   "cell_type": "code",
   "execution_count": null,
   "metadata": {},
   "outputs": [],
   "source": []
  }
 ],
 "metadata": {
  "kernelspec": {
   "display_name": "Python 3",
   "language": "python",
   "name": "python3"
  },
  "language_info": {
   "codemirror_mode": {
    "name": "ipython",
    "version": 3
   },
   "file_extension": ".py",
   "mimetype": "text/x-python",
   "name": "python",
   "nbconvert_exporter": "python",
   "pygments_lexer": "ipython3",
   "version": "3.6.2"
  }
 },
 "nbformat": 4,
 "nbformat_minor": 2
}
