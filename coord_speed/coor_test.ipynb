{
 "cells": [
  {
   "cell_type": "code",
   "execution_count": 3,
   "metadata": {},
   "outputs": [],
   "source": [
    "import numpy as np\n",
    "import timeit\n",
    "import lsst.sims.coordUtils as cu\n",
    "import lsst.sims.utils as utils\n",
    "import healpy as hp"
   ]
  },
  {
   "cell_type": "code",
   "execution_count": 5,
   "metadata": {},
   "outputs": [],
   "source": [
    "nside = 64\n",
    "hpids = np.arange(hp.nside2npix(nside))"
   ]
  },
  {
   "cell_type": "code",
   "execution_count": 6,
   "metadata": {},
   "outputs": [],
   "source": [
    "ra,dec = utils.hpid2RaDec(nside, hpids)"
   ]
  },
  {
   "cell_type": "code",
   "execution_count": 19,
   "metadata": {},
   "outputs": [
    {
     "name": "stderr",
     "output_type": "stream",
     "text": [
      "WARNING: ErfaWarning: ERFA function \"utcut1\" yielded 1 of \"dubious year (Note 3)\" [astropy._erfa.core]\n",
      "WARNING:astropy:ErfaWarning: ERFA function \"utcut1\" yielded 1 of \"dubious year (Note 3)\"\n"
     ]
    }
   ],
   "source": [
    "mjd=59852.\n",
    "obs = utils.ObservationMetaData(mjd=mjd)\n",
    "alt1, az1, pa1 = utils.altAzPaFromRaDec(ra, dec, obs)\n"
   ]
  },
  {
   "cell_type": "code",
   "execution_count": 20,
   "metadata": {},
   "outputs": [],
   "source": [
    "\n",
    "def inrange(inval, minimum=-1., maximum=1.):\n",
    "    \"\"\"\n",
    "    Make sure values are within min/max\n",
    "    \"\"\"\n",
    "    inval = np.array(inval)\n",
    "    below = np.where(inval < minimum)\n",
    "    inval[below] = minimum\n",
    "    above = np.where(inval > maximum)\n",
    "    inval[above] = maximum\n",
    "    return inval\n",
    "\n",
    "\n",
    "def stupidFast_RaDec2AltAz(ra, dec, lat, lon, mjd, lmst=None):\n",
    "    \"\"\"\n",
    "    Convert Ra,Dec to Altitude and Azimuth.\n",
    "\n",
    "    Coordinate transformation is killing performance. Just use simple equations to speed it up\n",
    "    and ignore abberation, precesion, nutation, nutrition, etc.\n",
    "\n",
    "    Parameters\n",
    "    ----------\n",
    "    ra : array_like\n",
    "        RA, in radians.\n",
    "    dec : array_like\n",
    "        Dec, in radians. Must be same length as `ra`.\n",
    "    lat : float\n",
    "        Latitude of the observatory in radians.\n",
    "    lon : float\n",
    "        Longitude of the observatory in radians.\n",
    "    mjd : float\n",
    "        Modified Julian Date.\n",
    "    lmst : float (None)\n",
    "        The local mean sidereal time (computed if not given). (hours)\n",
    "\n",
    "    Returns\n",
    "    -------\n",
    "    alt : numpy.array\n",
    "        Altitude, same length as `ra` and `dec`. Radians.\n",
    "    az : numpy.array\n",
    "        Azimuth, same length as `ra` and `dec`. Radians.\n",
    "    \"\"\"\n",
    "    if lmst is None:\n",
    "        lmst, last = utils.calcLmstLast(mjd, lon)\n",
    "    lmst = lmst/12.*np.pi  # convert to rad\n",
    "    ha = lmst-ra\n",
    "    sindec = np.sin(dec)\n",
    "    sinlat = np.sin(lat)\n",
    "    coslat = np.cos(lat)\n",
    "    sinalt = sindec*sinlat+np.cos(dec)*coslat*np.cos(ha)\n",
    "    sinalt = inrange(sinalt)\n",
    "    alt = np.arcsin(sinalt)\n",
    "    cosaz = (sindec-np.sin(alt)*sinlat)/(np.cos(alt)*coslat)\n",
    "    cosaz = inrange(cosaz)\n",
    "    az = np.arccos(cosaz)\n",
    "    signflip = np.where(np.sin(ha) > 0)\n",
    "    az[signflip] = 2.*np.pi-az[signflip]\n",
    "    return alt, az"
   ]
  },
  {
   "cell_type": "code",
   "execution_count": 24,
   "metadata": {},
   "outputs": [],
   "source": [
    "alt2, az2 = stupidFast_RaDec2AltAz(ra, dec, obs.site.latitude_rad, obs.site.longitude_rad, mjd)"
   ]
  },
  {
   "cell_type": "code",
   "execution_count": 25,
   "metadata": {},
   "outputs": [],
   "source": [
    "alt1, az1, pa1 = utils.altAzPaFromRaDec(ra, dec, obs)\n"
   ]
  },
  {
   "cell_type": "code",
   "execution_count": null,
   "metadata": {},
   "outputs": [],
   "source": []
  },
  {
   "cell_type": "code",
   "execution_count": null,
   "metadata": {},
   "outputs": [],
   "source": []
  }
 ],
 "metadata": {
  "kernelspec": {
   "display_name": "Python 3",
   "language": "python",
   "name": "python3"
  },
  "language_info": {
   "codemirror_mode": {
    "name": "ipython",
    "version": 3
   },
   "file_extension": ".py",
   "mimetype": "text/x-python",
   "name": "python",
   "nbconvert_exporter": "python",
   "pygments_lexer": "ipython3",
   "version": "3.6.2"
  }
 },
 "nbformat": 4,
 "nbformat_minor": 2
}
