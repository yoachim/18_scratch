{
 "cells": [
  {
   "cell_type": "code",
   "execution_count": 1,
   "metadata": {},
   "outputs": [],
   "source": [
    "import numpy as np\n",
    "from astropy.coordinates import get_sun, get_moon, EarthLocation, AltAz\n",
    "from astropy.time import Time\n",
    "from lsst.sims.utils import Site\n",
    "import matplotlib.pylab as plt\n",
    "%matplotlib inline"
   ]
  },
  {
   "cell_type": "code",
   "execution_count": 55,
   "metadata": {},
   "outputs": [],
   "source": [
    "def generate_sunsets(mjd_start, duration=.5):\n",
    "    \"\"\"Generate the sunset and twilight times for a range of dates\n",
    "    \n",
    "    Parameters\n",
    "    ----------\n",
    "    mjd_start : float\n",
    "        The starting mjd\n",
    "    duration : float (12.)\n",
    "        How long to compute times for (years)\n",
    "    \"\"\"\n",
    "\n",
    "    # Should also do moon-rise, set times.\n",
    "\n",
    "    # end result, I want an array so that given an MJD I can:\n",
    "    # look up if it's day, night, or twililight\n",
    "    # What night number it is\n",
    "    # When the next moon rise/set is.\n",
    "\n",
    "\n",
    "    # Let's find the nights first, find the times where the sun crosses the meridian.\n",
    "    site = Site('LSST')\n",
    "    location = EarthLocation(lat=site.latitude, lon=site.longitude, height=site.height)\n",
    "    # go on 1/10th of a day steps\n",
    "    t_step = 0.1\n",
    "    t = Time(np.arange(mjd_start, duration*365.25+mjd_start, t_step), format='mjd', location=location)\n",
    "    sun = get_sun(t)\n",
    "    aa = AltAz(location=location, obstime=t)\n",
    "    sun_aa = sun.transform_to(aa)\n",
    "    \n",
    "    good = np.where(sun_aa.alt > 0)[0]\n",
    "    alt_roll = sun_aa.alt.value - np.roll(sun_aa.alt.value, -1)\n",
    "    \n",
    "    \n",
    "    return t, sun_aa"
   ]
  },
  {
   "cell_type": "code",
   "execution_count": 62,
   "metadata": {},
   "outputs": [
    {
     "name": "stderr",
     "output_type": "stream",
     "text": [
      "WARNING: ErfaWarning: ERFA function \"utctai\" yielded 1827 of \"dubious year (Note 3)\" [astropy._erfa.core]\n",
      "WARNING: Tried to get polar motions for times after IERS data is valid. Defaulting to polar motion from the 50-yr mean for those. This may affect precision at the 10s of arcsec level [astropy.coordinates.builtin_frames.utils]\n",
      "WARNING: ErfaWarning: ERFA function \"utcut1\" yielded 1827 of \"dubious year (Note 3)\" [astropy._erfa.core]\n",
      "WARNING: ErfaWarning: ERFA function \"apio13\" yielded 1827 of \"dubious year (Note 2)\" [astropy._erfa.core]\n"
     ]
    }
   ],
   "source": [
    "mjd_start=59853.5\n",
    "t, ack = generate_sunsets(mjd_start=mjd_start)"
   ]
  },
  {
   "cell_type": "code",
   "execution_count": 63,
   "metadata": {},
   "outputs": [],
   "source": [
    "good = np.where(ack.alt > 0)"
   ]
  },
  {
   "cell_type": "code",
   "execution_count": 64,
   "metadata": {},
   "outputs": [],
   "source": [
    "# sign here show if it is rising or setting\n",
    "alt_roll = ack.alt.value[good] - np.roll(ack.alt.value[good], -1)"
   ]
  },
  {
   "cell_type": "code",
   "execution_count": null,
   "metadata": {},
   "outputs": [],
   "source": []
  },
  {
   "cell_type": "code",
   "execution_count": 65,
   "metadata": {},
   "outputs": [
    {
     "ename": "TypeError",
     "evalue": "'<' not supported between instances of 'SkyCoord' and 'int'",
     "output_type": "error",
     "traceback": [
      "\u001b[0;31m---------------------------------------------------------------------------\u001b[0m",
      "\u001b[0;31mTypeError\u001b[0m                                 Traceback (most recent call last)",
      "\u001b[0;32m<ipython-input-65-d42d7ac66ca5>\u001b[0m in \u001b[0;36m<module>\u001b[0;34m()\u001b[0m\n\u001b[1;32m      1\u001b[0m \u001b[0;31m# times where we changed from rising to setting\u001b[0m\u001b[0;34m\u001b[0m\u001b[0;34m\u001b[0m\u001b[0m\n\u001b[0;32m----> 2\u001b[0;31m \u001b[0mflipped\u001b[0m \u001b[0;34m=\u001b[0m \u001b[0mnp\u001b[0m\u001b[0;34m.\u001b[0m\u001b[0mwhere\u001b[0m\u001b[0;34m(\u001b[0m\u001b[0mack\u001b[0m \u001b[0;34m<\u001b[0m \u001b[0;36m0\u001b[0m\u001b[0;34m)\u001b[0m\u001b[0;34m\u001b[0m\u001b[0m\n\u001b[0m",
      "\u001b[0;31mTypeError\u001b[0m: '<' not supported between instances of 'SkyCoord' and 'int'"
     ]
    }
   ],
   "source": [
    "# times where we changed from rising to setting\n",
    "flipped = np.where(ack < 0)"
   ]
  },
  {
   "cell_type": "code",
   "execution_count": 66,
   "metadata": {},
   "outputs": [
    {
     "data": {
      "text/plain": [
       "(59853.5, 59854.5)"
      ]
     },
     "execution_count": 66,
     "metadata": {},
     "output_type": "execute_result"
    },
    {
     "data": {
      "image/png": "[encoded data removed]",
      "text/plain": [
       "<matplotlib.figure.Figure at 0x1253e9e80>"
      ]
     },
     "metadata": {},
     "output_type": "display_data"
    }
   ],
   "source": [
    "plt.plot(t.value, ack.alt, 'ko')\n",
    "plt.xlim([t.value.min(), t.value.min()+1])\n",
    "# So, I could just find all the local maxima. Then find the times of solar maximum, fit a peak\n",
    "# Or, just find spots where it passes from positive to negative, that's the sunset. "
   ]
  },
  {
   "cell_type": "code",
   "execution_count": 67,
   "metadata": {},
   "outputs": [],
   "source": [
    "sunsets = np.where((ack.alt.value < 0) & (np.roll(ack.alt.value, 1) > 0))"
   ]
  },
  {
   "cell_type": "code",
   "execution_count": 68,
   "metadata": {},
   "outputs": [
    {
     "data": {
      "text/plain": [
       "array([-16.8974479 , -16.75219342, -16.60554153, -16.45748846,\n",
       "       -16.30802703, -16.15714675, -16.00483455, -15.85107619,\n",
       "       -15.69585808, -15.53916926, -15.38100291, -15.22135744,\n",
       "       -15.06023685, -14.89765073, -14.73361398, -14.56814643,\n",
       "       -14.40127262, -14.23302158, -14.06342681, -13.89252633,\n",
       "       -13.72036285, -13.54698388, -13.37244191, -13.1967944 ,\n",
       "       -13.02010371, -12.84243664, -12.66386375, -12.48445822,\n",
       "       -12.30429431, -12.12344578, -11.94198445, -11.75997928,\n",
       "       -11.57749592, -11.39459699, -11.21134272, -11.027792  ,\n",
       "       -10.8440037 , -10.66003798, -10.47595752, -10.29182843,\n",
       "       -10.10772083,  -9.92370906,  -9.73987169,  -9.5562913 ,\n",
       "        -9.37305426,  -9.19025053,  -9.00797354,  -8.82632011,\n",
       "        -8.64539057,  -8.46528889,  -8.28612296,  -8.1080048 ,\n",
       "        -7.93105088,  -7.75538213,  -7.58112356,  -7.40840318,\n",
       "        -7.23735014,  -7.06809229,  -6.90075392,  -6.73545415,\n",
       "        -6.57230648,  -6.41141907,  -6.25289561,  -6.09683632,\n",
       "        -5.943339  ,  -5.79249991,  -5.64441458,  -5.49917851,\n",
       "        -5.35688756,  -5.21763829,  -5.08152801,  -4.94865483,\n",
       "        -4.81911753,  -4.69301536,  -4.57044797,  -4.45151524,\n",
       "        -4.33631731,  -4.2249546 ,  -4.117528  ,  -4.01413917,\n",
       "        -3.91489099,  -3.81988801,  -3.72923677,  -3.64304543,\n",
       "        -3.56142241,  -3.48447389,  -3.41230083,  -3.34499648,\n",
       "        -3.28264526,  -3.22532285,  -3.17309718,  -3.12602959,\n",
       "        -3.08417592,  -3.04758728,  -3.01631073,  -2.9903897 ,\n",
       "        -2.96986437,  -2.95477189,  -2.94514658,  -2.94102   ,\n",
       "        -2.94242102,  -2.94937584,  -2.96190796,  -2.98003816,\n",
       "        -3.00378453,  -3.03316254,  -3.06818516,  -3.10886317,\n",
       "        -3.15520555,  -3.20722012,  -3.26491423,  -3.32829522,\n",
       "        -3.3973702 ,  -3.47214453,  -3.55261932,  -3.6387887 ,\n",
       "        -3.73063787,  -3.82814268,  -3.9312702 ,  -4.03997997,\n",
       "        -4.15422517,  -4.27395356,  -4.39910814,  -4.52962767,\n",
       "        -4.66544695,  -4.80649716,  -4.95270601,  -5.10399797,\n",
       "        -5.26029446,  -5.421514  ,  -5.58757237,  -5.75838278,\n",
       "        -5.93385596,  -6.11390037,  -6.29842242,  -6.48732675,\n",
       "        -6.68051661,  -6.87789443,  -7.07936247,  -7.28482363,\n",
       "        -7.49418181,  -7.70734165,  -7.92420723,  -8.14468009,\n",
       "        -8.36865724,  -8.59602995,  -8.82668364,  -9.06049851,\n",
       "        -9.29735043,  -9.53711188,  -9.77965258, -10.02484   ,\n",
       "       -10.27253968, -10.5226155 , -10.77492981, -11.02934364,\n",
       "       -11.28571681, -11.54390816, -11.80377571, -12.06517684,\n",
       "       -12.32796851, -12.59200742, -12.85715032, -13.12325425,\n",
       "       -13.39017695, -13.65777732, -13.925916  , -14.19445601,\n",
       "       -14.46326337, -14.73220738, -15.00116033, -15.26999652,\n",
       "       -15.53859081, -15.8068173 , -16.0745484 , -16.34165464,\n",
       "       -16.60800493, -16.8734671 , -17.13790843, -17.40119607,\n",
       "       -17.66319744, -17.92378036, -18.18281327])"
      ]
     },
     "execution_count": 68,
     "metadata": {},
     "output_type": "execute_result"
    }
   ],
   "source": [
    "ack.alt.value[sunsets[0]]"
   ]
  },
  {
   "cell_type": "code",
   "execution_count": 69,
   "metadata": {},
   "outputs": [],
   "source": [
    "# So now I could do finer steps in between those mjds and interpolate\n",
    "# OR! I could do an interpolation to when I thought it would happen, and then do a fine grid around that spot."
   ]
  },
  {
   "cell_type": "code",
   "execution_count": null,
   "metadata": {},
   "outputs": [],
   "source": []
  }
 ],
 "metadata": {
  "kernelspec": {
   "display_name": "Python 3",
   "language": "python",
   "name": "python3"
  }
 },
 "nbformat": 4,
 "nbformat_minor": 2
}
