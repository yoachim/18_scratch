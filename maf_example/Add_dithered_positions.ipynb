{
 "cells": [
  {
   "cell_type": "code",
   "execution_count": 1,
   "metadata": {},
   "outputs": [],
   "source": [
    "# Let's make a quick example of adding dithered columns to an array with MAF"
   ]
  },
  {
   "cell_type": "code",
   "execution_count": 2,
   "metadata": {},
   "outputs": [],
   "source": [
    "%matplotlib inline\n",
    "import numpy as np\n",
    "import matplotlib.pyplot as plt\n",
    "import healpy as hp\n",
    "\n",
    "import lsst.sims.maf.db as db\n",
    "import lsst.sims.maf.utils as utils\n",
    "import lsst.sims.maf.metrics as metrics\n",
    "import lsst.sims.maf.slicers as slicers\n",
    "import lsst.sims.maf.stackers as stackers\n",
    "import lsst.sims.maf.metricBundles as metricBundles"
   ]
  },
  {
   "cell_type": "code",
   "execution_count": 3,
   "metadata": {},
   "outputs": [],
   "source": [
    "dbFile = 'baseline2018a.db'\n",
    "# This connection checks which version it thinks the database is and should do the right thing schema-wise\n",
    "conn = db.OpsimDatabase(dbFile)"
   ]
  },
  {
   "cell_type": "code",
   "execution_count": 4,
   "metadata": {},
   "outputs": [
    {
     "data": {
      "text/plain": [
       "array([( 290,  59853.10606481,  349.386443, -63.321004,   1),\n",
       "       ( 290,  59853.10648148,  349.386443, -63.321004,   1),\n",
       "       ( 290,  59853.10689815,  349.386443, -63.321004,   1), ...,\n",
       "       (3132,  60214.39681713,   80.102448,  10.381761, 362),\n",
       "       (3016,  60214.39725694,   78.452196,   7.766661, 362),\n",
       "       (2906,  60214.39770833,   79.994787,   5.419953, 362)],\n",
       "      dtype=(numpy.record, [('fieldId', '<i8'), ('observationStartMJD', '<f8'), ('fieldRA', '<f8'), ('fieldDec', '<f8'), ('night', '<i8')]))"
      ]
     },
     "execution_count": 4,
     "metadata": {},
     "output_type": "execute_result"
    }
   ],
   "source": [
    "fields = ['fieldId', 'observationStartMJD', 'fieldRA', 'fieldDec', 'night']\n",
    "sql='filter=\"r\" and night<365'\n",
    "observations = conn.fetchMetricData(fields, sqlconstraint=sql)\n",
    "observations"
   ]
  },
  {
   "cell_type": "code",
   "execution_count": 6,
   "metadata": {},
   "outputs": [
    {
     "data": {
      "text/plain": [
       "array([ ( 290,  59853.10606481,  349.386443, -63.321004,   1,  347.53507152, -64.76077123),\n",
       "       ( 290,  59853.10648148,  349.386443, -63.321004,   1,  347.53507152, -64.76077123),\n",
       "       ( 290,  59853.10689815,  349.386443, -63.321004,   1,  347.53507152, -64.76077123),\n",
       "       ...,\n",
       "       (3132,  60214.39681713,   80.102448,  10.381761, 362,   80.31371925,  10.74170281),\n",
       "       (3016,  60214.39725694,   78.452196,   7.766661, 362,   78.66193249,   8.12660281),\n",
       "       (2906,  60214.39770833,   79.994787,   5.419953, 362,   80.20353277,   5.77989481)],\n",
       "      dtype=[('fieldId', '<i8'), ('observationStartMJD', '<f8'), ('fieldRA', '<f8'), ('fieldDec', '<f8'), ('night', '<i8'), ('hexDitherPerNightRa', '<f8'), ('hexDitherPerNightDec', '<f8')])"
      ]
     },
     "execution_count": 6,
     "metadata": {},
     "output_type": "execute_result"
    }
   ],
   "source": [
    "stacker = stackers.HexDitherPerNightStacker()\n",
    "observations = stacker.run(observations)\n",
    "observations"
   ]
  },
  {
   "cell_type": "code",
   "execution_count": null,
   "metadata": {},
   "outputs": [],
   "source": []
  }
 ],
 "metadata": {
  "kernelspec": {
   "display_name": "Python 3",
   "language": "python",
   "name": "python3"
  },
  "language_info": {
   "codemirror_mode": {
    "name": "ipython",
    "version": 3
   },
   "file_extension": ".py",
   "mimetype": "text/x-python",
   "name": "python",
   "nbconvert_exporter": "python",
   "pygments_lexer": "ipython3",
   "version": "3.6.2"
  }
 },
 "nbformat": 4,
 "nbformat_minor": 2
}
