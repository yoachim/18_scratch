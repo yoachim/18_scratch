{
 "cells": [
  {
   "cell_type": "code",
   "execution_count": 1,
   "metadata": {},
   "outputs": [],
   "source": [
    "%matplotlib inline\n",
    "import numpy as np\n",
    "import matplotlib.pyplot as plt\n",
    "import healpy as hp\n",
    "\n",
    "import lsst.sims.maf.db as db\n",
    "import lsst.sims.maf.utils as utils\n",
    "import lsst.sims.maf.metrics as metrics\n",
    "import lsst.sims.maf.slicers as slicers\n",
    "import lsst.sims.maf.stackers as stackers\n",
    "import lsst.sims.maf.metricBundles as metricBundles"
   ]
  },
  {
   "cell_type": "code",
   "execution_count": 2,
   "metadata": {},
   "outputs": [],
   "source": [
    "dbFile = 'baseline2018a.db'\n",
    "# This connection checks which version it thinks the database is and should do the right thing schema-wise\n",
    "conn = db.OpsimDatabase(dbFile)\n",
    "outDir='temp'\n",
    "resultsDb = db.ResultsDb(outDir=outDir)"
   ]
  },
  {
   "cell_type": "code",
   "execution_count": 3,
   "metadata": {},
   "outputs": [],
   "source": [
    "bundleList = []\n",
    "filters = ['u', 'g', 'r', 'i', 'z', 'y']\n",
    "\n",
    "for filtername in filters:\n",
    "    metric = metrics.Coaddm5Metric()\n",
    "    # ELAIS S1\n",
    "    slicer = slicers.UserPointsSlicer(ra=9.45, dec=-44.)\n",
    "    sql = 'filter=\"%s\"' % filtername\n",
    "\n",
    "    bundleList.append(metricBundles.MetricBundle(metric,slicer,sql))"
   ]
  },
  {
   "cell_type": "code",
   "execution_count": 4,
   "metadata": {},
   "outputs": [
    {
     "name": "stdout",
     "output_type": "stream",
     "text": [
      "Querying database SummaryAllProps with constraint filter=\"i\" for columns ['fiveSigmaDepth', 'fieldDec', 'fieldRA']\n",
      "Found 514481 visits\n",
      "Running:  ['opsim_CoaddM5_i_USER']\n",
      "Completed metric generation.\n",
      "Running reduce methods.\n",
      "Running summary statistics.\n",
      "Completed.\n",
      "Querying database SummaryAllProps with constraint filter=\"r\" for columns ['fiveSigmaDepth', 'fieldDec', 'fieldRA']\n",
      "Found 515172 visits\n",
      "Running:  ['opsim_CoaddM5_r_USER']\n",
      "Completed metric generation.\n",
      "Running reduce methods.\n",
      "Running summary statistics.\n",
      "Completed.\n",
      "Querying database SummaryAllProps with constraint filter=\"u\" for columns ['fiveSigmaDepth', 'fieldDec', 'fieldRA']\n",
      "Found 177538 visits\n",
      "Running:  ['opsim_CoaddM5_u_USER']\n",
      "Completed metric generation.\n",
      "Running reduce methods.\n",
      "Running summary statistics.\n",
      "Completed.\n",
      "Querying database SummaryAllProps with constraint filter=\"z\" for columns ['fiveSigmaDepth', 'fieldDec', 'fieldRA']\n",
      "Found 486208 visits\n",
      "Running:  ['opsim_CoaddM5_z_USER']\n",
      "Completed metric generation.\n",
      "Running reduce methods.\n",
      "Running summary statistics.\n",
      "Completed.\n",
      "Querying database SummaryAllProps with constraint filter=\"g\" for columns ['fiveSigmaDepth', 'fieldDec', 'fieldRA']\n",
      "Found 234144 visits\n",
      "Running:  ['opsim_CoaddM5_g_USER']\n",
      "Completed metric generation.\n",
      "Running reduce methods.\n",
      "Running summary statistics.\n",
      "Completed.\n",
      "Querying database SummaryAllProps with constraint filter=\"y\" for columns ['fiveSigmaDepth', 'fieldDec', 'fieldRA']\n",
      "Found 445157 visits\n",
      "Running:  ['opsim_CoaddM5_y_USER']\n",
      "Completed metric generation.\n",
      "Running reduce methods.\n",
      "Running summary statistics.\n",
      "Completed.\n"
     ]
    }
   ],
   "source": [
    "bd = metricBundles.makeBundlesDictFromList(bundleList)\n",
    "bg = metricBundles.MetricBundleGroup(bd, conn, outDir=outDir, resultsDb=resultsDb)\n",
    "bg.runAll()"
   ]
  },
  {
   "cell_type": "code",
   "execution_count": 7,
   "metadata": {},
   "outputs": [
    {
     "name": "stdout",
     "output_type": "stream",
     "text": [
      "u [ 26.02934597]\n",
      "g [ 27.45863889]\n",
      "r [ 27.5421378]\n",
      "i [ 26.95246701]\n",
      "z [ 26.0582424]\n",
      "y [ 25.25673696]\n"
     ]
    }
   ],
   "source": [
    "for filtername, bundle in zip(filters, bundleList):\n",
    "    print(filtername, bundle.metricValues.data)"
   ]
  },
  {
   "cell_type": "code",
   "execution_count": 18,
   "metadata": {},
   "outputs": [
    {
     "data": {
      "text/plain": [
       "26.781574989159953"
      ]
     },
     "execution_count": 18,
     "metadata": {},
     "output_type": "execute_result"
    }
   ],
   "source": [
    "nboost = np.ones(4, dtype=float)*26.029\n",
    "1.25*np.log10(np.sum(10.**(0.8*nboost)))"
   ]
  },
  {
   "cell_type": "code",
   "execution_count": null,
   "metadata": {},
   "outputs": [],
   "source": []
  }
 ],
 "metadata": {
  "kernelspec": {
   "display_name": "Python 3",
   "language": "python",
   "name": "python3"
  }
 },
 "nbformat": 4,
 "nbformat_minor": 2
}
