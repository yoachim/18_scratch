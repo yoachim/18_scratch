{
 "cells": [
  {
   "cell_type": "markdown",
   "metadata": {},
   "source": [
    "I think the Wikipedia page on Kuiper's test is slightly wonky and could use some refreshing"
   ]
  },
  {
   "cell_type": "code",
   "execution_count": 1,
   "metadata": {},
   "outputs": [],
   "source": [
    "import numpy as np\n",
    "%matplotlib inline\n",
    "import matplotlib.pylab as plt"
   ]
  },
  {
   "cell_type": "code",
   "execution_count": 2,
   "metadata": {},
   "outputs": [],
   "source": [
    "def uniformKuiper(data, dist_min=0, dist_max=1):\n",
    "    # need to make sure we include points at 0 and 1 on the cdf\n",
    "    \n",
    "    data = np.sort(data)\n",
    "    cdf_data = (np.arange(data.size)+1.)/float(data.size)\n",
    "    cdf_x = data + 0\n",
    "    # See if we need to fill out the tails\n",
    "    if data.min() > dist_min:\n",
    "        cdf_data = np.append([0.], cdf_data)\n",
    "        cdf_x = np.append(dist_min, cdf_x)\n",
    "    if data.max() < dist_max:\n",
    "        cdf_data = np.append(cdf_data, [1.])\n",
    "        cdf_x = np.append(cdf_x, dist_max)\n",
    "    # Null-hypothisis uniform distribution\n",
    "    cdf_uniform = cdf_x/float(dist_max-dist_min)\n",
    "    cdf_diff = cdf_data - cdf_uniform\n",
    "    v_stat = cdf_diff.max() - cdf_diff.min()\n",
    "    return v_stat\n",
    "\n",
    "    "
   ]
  },
  {
   "cell_type": "code",
   "execution_count": 11,
   "metadata": {},
   "outputs": [],
   "source": [
    "def uniformKS(data, dist_min=0, dist_max=1):\n",
    "    data = np.sort(data)\n",
    "    cdf_data = (np.arange(data.size)+1.)/float(data.size)\n",
    "    cdf_x = data + 0\n",
    "    # See if we need to fill out the tails\n",
    "    if data.min() > dist_min:\n",
    "        cdf_data = np.append([0.], cdf_data)\n",
    "        cdf_x = np.append(dist_min, cdf_x)\n",
    "    if data.max() < dist_max:\n",
    "        cdf_data = np.append(cdf_data, [1.])\n",
    "        cdf_x = np.append(cdf_x, dist_max)\n",
    "    # Null-hypothisis uniform distribution\n",
    "    cdf_uniform = cdf_x/float(dist_max-dist_min)\n",
    "    cdf_diff = cdf_data - cdf_uniform\n",
    "    d_stat = np.max(np.abs(cdf_diff))\n",
    "    return d_stat"
   ]
  },
  {
   "cell_type": "code",
   "execution_count": 23,
   "metadata": {},
   "outputs": [],
   "source": [
    "# Let's make a uniform distribution, and run it through both tests\n",
    "n=700\n",
    "events = np.arange(n)/(n-1)"
   ]
  },
  {
   "cell_type": "code",
   "execution_count": 24,
   "metadata": {},
   "outputs": [
    {
     "data": {
      "text/plain": [
       "0.0014285714285714286"
      ]
     },
     "execution_count": 24,
     "metadata": {},
     "output_type": "execute_result"
    }
   ],
   "source": [
    "uniformKuiper(events)"
   ]
  },
  {
   "cell_type": "code",
   "execution_count": 25,
   "metadata": {},
   "outputs": [
    {
     "data": {
      "text/plain": [
       "0.0014285714285714286"
      ]
     },
     "execution_count": 25,
     "metadata": {},
     "output_type": "execute_result"
    }
   ],
   "source": [
    "uniformKS(events)"
   ]
  },
  {
   "cell_type": "code",
   "execution_count": 26,
   "metadata": {},
   "outputs": [],
   "source": [
    "# now to knock out every 7th element\n",
    "indx = np.arange(events.size)\n",
    "indx[::7] = -1\n",
    "new_events = events[np.where(indx != -1)]"
   ]
  },
  {
   "cell_type": "code",
   "execution_count": 28,
   "metadata": {},
   "outputs": [
    {
     "name": "stdout",
     "output_type": "stream",
     "text": [
      "Kuiper 0.00259656652361\n",
      "KS 0.00141630901288\n"
     ]
    }
   ],
   "source": [
    "print('Kuiper', uniformKuiper(new_events))\n",
    "print('KS', uniformKS(new_events))"
   ]
  },
  {
   "cell_type": "code",
   "execution_count": 41,
   "metadata": {},
   "outputs": [],
   "source": [
    "# ok, now to knock out every 7th, and mod it\n",
    "n=700\n",
    "events = np.arange(n) \n",
    "indx = np.arange(events.size)\n",
    "indx[::7] = -1\n",
    "new_events = events[np.where(indx != -1)] % 7.\n",
    "new_events = new_events /7."
   ]
  },
  {
   "cell_type": "code",
   "execution_count": 43,
   "metadata": {},
   "outputs": [
    {
     "name": "stdout",
     "output_type": "stream",
     "text": [
      "Kuiper 0.284047619048\n",
      "KS 0.142857142857\n"
     ]
    }
   ],
   "source": [
    "print('Kuiper', uniformKuiper(new_events))\n",
    "print('KS', uniformKS(new_events))"
   ]
  },
  {
   "cell_type": "code",
   "execution_count": 45,
   "metadata": {},
   "outputs": [],
   "source": [
    "# ok, now to knock out every 7th, and mod it\n",
    "n=700\n",
    "events = np.arange(n) \n",
    "indx = np.arange(events.size)\n",
    "indx[::7] = -1\n",
    "# now to roll it 3 days\n",
    "indx = np.roll(indx, 3)\n",
    "new_events = events[np.where(indx != -1)] % 7.\n",
    "new_events = new_events /7."
   ]
  },
  {
   "cell_type": "code",
   "execution_count": 46,
   "metadata": {},
   "outputs": [
    {
     "name": "stdout",
     "output_type": "stream",
     "text": [
      "Kuiper 0.284047619048\n",
      "KS 0.214285714286\n"
     ]
    }
   ],
   "source": [
    "print('Kuiper', uniformKuiper(new_events))\n",
    "print('KS', uniformKS(new_events))"
   ]
  },
  {
   "cell_type": "code",
   "execution_count": 55,
   "metadata": {},
   "outputs": [],
   "source": [
    "# ok, now to knock out every 7th, and mod it\n",
    "n=700\n",
    "events = np.arange(n) \n",
    "indx = np.arange(events.size)\n",
    "indx[::7] = -1\n",
    "# now to roll it 5 days\n",
    "indx = np.roll(indx, 5)\n",
    "new_events = events[np.where(indx != -1)] % 7.\n",
    "new_events = new_events /7."
   ]
  },
  {
   "cell_type": "code",
   "execution_count": 56,
   "metadata": {},
   "outputs": [
    {
     "name": "stdout",
     "output_type": "stream",
     "text": [
      "Kuiper 0.284047619048\n",
      "KS 0.261904761905\n"
     ]
    }
   ],
   "source": [
    "print('Kuiper', uniformKuiper(new_events))\n",
    "print('KS', uniformKS(new_events))"
   ]
  },
  {
   "cell_type": "code",
   "execution_count": null,
   "metadata": {},
   "outputs": [],
   "source": []
  }
 ],
 "metadata": {
  "kernelspec": {
   "display_name": "Python 3",
   "language": "python",
   "name": "python3"
  },
  "language_info": {
   "codemirror_mode": {
    "name": "ipython",
    "version": 3
   },
   "file_extension": ".py",
   "mimetype": "text/x-python",
   "name": "python",
   "nbconvert_exporter": "python",
   "pygments_lexer": "ipython3",
   "version": "3.6.2"
  }
 },
 "nbformat": 4,
 "nbformat_minor": 2
}
