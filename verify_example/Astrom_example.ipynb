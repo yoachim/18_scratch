{
 "cells": [
  {
   "cell_type": "markdown",
   "metadata": {},
   "source": [
    "Let's make an example with the verify framework that will project the final parallax and proper motion precision given 1-few nights of observations.\n",
    "\n",
    "prerequisites:\n",
    "\n",
    "install the lsst stack and setup verify\n",
    "\n",
    "`setup verify`"
   ]
  },
  {
   "cell_type": "code",
   "execution_count": 5,
   "metadata": {},
   "outputs": [],
   "source": [
    "%matplotlib inline\n",
    "import json\n",
    "import os\n",
    "from tempfile import TemporaryDirectory\n",
    "\n",
    "import astropy.units as u\n",
    "import numpy as np\n",
    "import yaml\n",
    "\n",
    "\n",
    "import pandas\n",
    "\n",
    "import lsst.verify"
   ]
  },
  {
   "cell_type": "code",
   "execution_count": 3,
   "metadata": {},
   "outputs": [],
   "source": [
    "fit_astrom_metrics_yaml = \"\"\"\n",
    "Parallax_fit_precision:\n",
    "  unit: mas\n",
    "  description: >\n",
    "    Uncertainty on the final fit parallax value.\n",
    "  reference:\n",
    "    url: https://github.com/yoachim/18_scratch/blob/master/astrom_exmaple/astrometry_errors.ipynb\n",
    "  tags:\n",
    "    - astrometry\n",
    "    - demo\n",
    "\n",
    "Proper_motion_fit_precision:\n",
    "  unit: mas\n",
    "  description: >\n",
    "    Uncertainty on the final proper motion fit after the surey completes.\n",
    "  reference:\n",
    "    url: https://github.com/yoachim/18_scratch/blob/master/astrom_exmaple/Proper_Motion_example.ipynb\n",
    "  tags:\n",
    "    - astrometry\n",
    "    - demo\n",
    "\"\"\""
   ]
  },
  {
   "cell_type": "code",
   "execution_count": 6,
   "metadata": {},
   "outputs": [
    {
     "data": {
      "text/html": [
       "&lt;Table length=2&gt;\n",
       "<table id=\"table4753507160\" class=\"table-striped table-bordered table-condensed\">\n",
       "<thead><tr><th>Name</th><th>Description</th><th>Units</th><th>Reference</th><th>Tags</th></tr></thead>\n",
       "<thead><tr><th>str33</th><th>str69</th><th>str14</th><th>str92</th><th>str16</th></tr></thead>\n",
       "<tr><td>demo1.Parallax_fit_precision</td><td>Uncertainty on the final fit parallax value.</td><td>$\\mathrm{mas}$</td><td>https://github.com/yoachim/18_scratch/blob/master/astrom_exmaple/astrometry_errors.ipynb</td><td>astrometry, demo</td></tr>\n",
       "<tr><td>demo1.Proper_motion_fit_precision</td><td>Uncertainty on the final proper motion fit after the surey completes.</td><td>$\\mathrm{mas}$</td><td>https://github.com/yoachim/18_scratch/blob/master/astrom_exmaple/Proper_Motion_example.ipynb</td><td>astrometry, demo</td></tr>\n",
       "</table>"
      ],
      "text/plain": [
       "<lsst.verify.metricset.MetricSet at 0x1192de780>"
      ]
     },
     "execution_count": 6,
     "metadata": {},
     "output_type": "execute_result"
    }
   ],
   "source": [
    "with TemporaryDirectory() as temp_dir:\n",
    "    demo1_metrics_path = os.path.join(temp_dir, 'demo1.yaml')\n",
    "    with open(demo1_metrics_path, mode='w') as f:\n",
    "        f.write(fit_astrom_metrics_yaml)\n",
    "    demo_metrics = lsst.verify.MetricSet.load_single_package(\n",
    "        demo1_metrics_path)\n",
    "demo_metrics"
   ]
  },
  {
   "cell_type": "code",
   "execution_count": null,
   "metadata": {},
   "outputs": [],
   "source": []
  }
 ],
 "metadata": {
  "kernelspec": {
   "display_name": "Python 3",
   "language": "python",
   "name": "python3"
  },
  "language_info": {
   "codemirror_mode": {
    "name": "ipython",
    "version": 3
   },
   "file_extension": ".py",
   "mimetype": "text/x-python",
   "name": "python",
   "nbconvert_exporter": "python",
   "pygments_lexer": "ipython3",
   "version": "3.6.2"
  }
 },
 "nbformat": 4,
 "nbformat_minor": 2
}
