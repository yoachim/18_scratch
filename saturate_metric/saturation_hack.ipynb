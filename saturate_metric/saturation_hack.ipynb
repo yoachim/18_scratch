{
 "cells": [
  {
   "cell_type": "code",
   "execution_count": 1,
   "metadata": {},
   "outputs": [],
   "source": [
    "import lsst.sims.maf.metrics as metrics\n",
    "import numpy as np\n",
    "import matplotlib.pylab as plt\n",
    "%matplotlib inline\n",
    "from lsst.sims.maf.stackers import BaseStacker"
   ]
  },
  {
   "cell_type": "code",
   "execution_count": null,
   "metadata": {},
   "outputs": [],
   "source": [
    "class SaturationMagStacker(BaseStacker):\n",
    "    colsAdded = ['saturation_mag']\n",
    "    def __init__(self, seeingCol='FWHMeff', skybrightnessCol='skyBrightness',\n",
    "                 filterCol='filter', min_exptime=None,\n",
    "                 exptimeCol='visitExposureTime', nvisitCol='numExposures'):\n",
    "        self.units=['mag']\n",
    "        self.colsReq = [seeingCol, skybrightnessCol, filterCol, nvisitCol]\n",
    "        self.seeingCol = seeingCol\n",
    "        self.skybrightnessCol = skybrightnessCol\n",
    "        self.filterCol = filterCol\n",
    "        self.min_exptime = min_exptime\n",
    "        self.nvisitCol = nvisitCol\n",
    "        \n",
    "    def _run(self, simData, cols_present=False):\n",
    "        if cols_present:\n",
    "            # Column already present in data; assume it needs updating and recalculate.\n",
    "            return simData\n",
    "        if self.min_exptime is None:\n",
    "            # Assume exposure time is evenly distributed\n",
    "            self.min_exptime = simData[self.exptimeCol] / simData[self.nvisitCol]\n",
    "        \n",
    "        # Caclulate counts from sky in a pixel in min_exptime\n",
    "        \n",
    "        # Peak counts of star right at saturation level \n",
    "        \n",
    "        # Counts in star total\n",
    "        \n",
    "        # Mag of star\n",
    "        \n",
    "        # mag before mirrors and atmosphere.\n",
    "        "
   ]
  },
  {
   "cell_type": "code",
   "execution_count": null,
   "metadata": {},
   "outputs": [],
   "source": []
  }
 ],
 "metadata": {
  "kernelspec": {
   "display_name": "Python 3",
   "language": "python",
   "name": "python3"
  },
  "language_info": {
   "codemirror_mode": {
    "name": "ipython",
    "version": 3
   },
   "file_extension": ".py",
   "mimetype": "text/x-python",
   "name": "python",
   "nbconvert_exporter": "python",
   "pygments_lexer": "ipython3",
   "version": "3.6.2"
  }
 },
 "nbformat": 4,
 "nbformat_minor": 2
}
