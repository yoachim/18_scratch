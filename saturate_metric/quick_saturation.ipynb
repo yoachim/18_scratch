{
 "cells": [
  {
   "cell_type": "code",
   "execution_count": 21,
   "metadata": {},
   "outputs": [],
   "source": [
    "import numpy as np\n",
    "import matplotlib.pylab as plt\n",
    "%matplotlib inline\n",
    "from lsst.sims.photUtils import Sed\n",
    "from lsst.sims.photUtils import Bandpass\n",
    "from lsst.sims.photUtils import PhotometricParameters\n",
    "\n",
    "import os"
   ]
  },
  {
   "cell_type": "code",
   "execution_count": 8,
   "metadata": {},
   "outputs": [],
   "source": [
    "# Let's find the full well magnitude per filter for a variety of exposure times.\n",
    "filters = ['u', 'g', 'r', 'i', 'z', 'y']\n",
    "\n"
   ]
  },
  {
   "cell_type": "code",
   "execution_count": 10,
   "metadata": {},
   "outputs": [],
   "source": [
    "band_dir = os.getenv(\"LSST_THROUGHPUTS_BASELINE\")\n",
    "bps = []\n",
    "\n",
    "for filtername in filters:\n",
    "    \n",
    "    tempB = Bandpass()\n",
    "    tempB.readThroughput(band_dir+'filter_'+filtername+'.dat')\n",
    "    bps.append(tempB)"
   ]
  },
  {
   "cell_type": "code",
   "execution_count": 11,
   "metadata": {},
   "outputs": [
    {
     "data": {
      "text/plain": [
       "[<lsst.sims.photUtils.Bandpass.Bandpass at 0x1121ba668>,\n",
       " <lsst.sims.photUtils.Bandpass.Bandpass at 0x1121ba780>,\n",
       " <lsst.sims.photUtils.Bandpass.Bandpass at 0x1121ba7f0>,\n",
       " <lsst.sims.photUtils.Bandpass.Bandpass at 0x1121ba860>,\n",
       " <lsst.sims.photUtils.Bandpass.Bandpass at 0x1121ba8d0>,\n",
       " <lsst.sims.photUtils.Bandpass.Bandpass at 0x1121ba940>]"
      ]
     },
     "execution_count": 11,
     "metadata": {},
     "output_type": "execute_result"
    }
   ],
   "source": [
    "bps"
   ]
  },
  {
   "cell_type": "code",
   "execution_count": 12,
   "metadata": {},
   "outputs": [],
   "source": [
    "wave = np.arange(bps[0].wavelen.min(), bps[-1].wavelen.max()+1)"
   ]
  },
  {
   "cell_type": "code",
   "execution_count": 55,
   "metadata": {},
   "outputs": [],
   "source": [
    "const = 1e-5\n",
    "flat_sed = Sed(wavelen=wave, fnu=np.zeros(wave.size, dtype=float) + const)"
   ]
  },
  {
   "cell_type": "code",
   "execution_count": null,
   "metadata": {},
   "outputs": [],
   "source": []
  },
  {
   "cell_type": "code",
   "execution_count": 56,
   "metadata": {},
   "outputs": [
    {
     "data": {
      "text/plain": [
       "21.400065622282231"
      ]
     },
     "execution_count": 56,
     "metadata": {},
     "output_type": "execute_result"
    }
   ],
   "source": [
    "flat_sed.calcMag(bps[3])"
   ]
  },
  {
   "cell_type": "code",
   "execution_count": 57,
   "metadata": {},
   "outputs": [],
   "source": [
    "params = PhotometricParameters(exptime=15, nexp=1)"
   ]
  },
  {
   "cell_type": "code",
   "execution_count": 58,
   "metadata": {},
   "outputs": [
    {
     "data": {
      "text/plain": [
       "5899.3425879503184"
      ]
     },
     "execution_count": 58,
     "metadata": {},
     "output_type": "execute_result"
    }
   ],
   "source": [
    "flat_sed.calcADU(bps[0], params) "
   ]
  },
  {
   "cell_type": "code",
   "execution_count": 46,
   "metadata": {},
   "outputs": [
    {
     "data": {
      "text/plain": [
       "2.3"
      ]
     },
     "execution_count": 46,
     "metadata": {},
     "output_type": "execute_result"
    }
   ],
   "source": [
    "params.gain  # Electrons per ADU"
   ]
  },
  {
   "cell_type": "code",
   "execution_count": 61,
   "metadata": {},
   "outputs": [],
   "source": [
    "def electrons_in_peak(adu, fwhm_eff, gain, platescale):\n",
    "    # Given total number of ADUs from a star, and seeing,\n",
    "    # return the \n",
    "    c = fwhm_eff/2.3548/platescale\n",
    "    peak = adu/c/np.sqrt(2.*np.pi)\n",
    "    peak = peak*gain\n",
    "    return peak"
   ]
  },
  {
   "cell_type": "code",
   "execution_count": 63,
   "metadata": {},
   "outputs": [
    {
     "data": {
      "text/plain": [
       "4073.7081229183023"
      ]
     },
     "execution_count": 63,
     "metadata": {},
     "output_type": "execute_result"
    }
   ],
   "source": [
    "# OK, let's make arrays of mags and peak electron counts.\n",
    "electrons_in_peak(flat_sed.calcADU(bps[1], params) , 1., params.gain, params.platescale)\n"
   ]
  },
  {
   "cell_type": "code",
   "execution_count": null,
   "metadata": {},
   "outputs": [],
   "source": []
  },
  {
   "cell_type": "code",
   "execution_count": null,
   "metadata": {},
   "outputs": [],
   "source": []
  }
 ],
 "metadata": {
  "kernelspec": {
   "display_name": "Python 3",
   "language": "python",
   "name": "python3"
  },
  "language_info": {
   "codemirror_mode": {
    "name": "ipython",
    "version": 3
   },
   "file_extension": ".py",
   "mimetype": "text/x-python",
   "name": "python",
   "nbconvert_exporter": "python",
   "pygments_lexer": "ipython3",
   "version": "3.6.2"
  }
 },
 "nbformat": 4,
 "nbformat_minor": 2
}
