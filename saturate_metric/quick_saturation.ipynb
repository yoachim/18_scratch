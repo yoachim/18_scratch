{
 "cells": [
  {
   "cell_type": "code",
   "execution_count": 1,
   "metadata": {},
   "outputs": [],
   "source": [
    "import numpy as np\n",
    "import matplotlib.pylab as plt\n",
    "%matplotlib inline\n",
    "from lsst.sims.photUtils import Sed\n",
    "from lsst.sims.photUtils import Bandpass\n",
    "from lsst.sims.photUtils import PhotometricParameters\n",
    "\n",
    "import os"
   ]
  },
  {
   "cell_type": "code",
   "execution_count": 2,
   "metadata": {},
   "outputs": [],
   "source": [
    "# Let's find the full well magnitude per filter for a variety of exposure times.\n",
    "filters = ['u', 'g', 'r', 'i', 'z', 'y']\n",
    "\n"
   ]
  },
  {
   "cell_type": "code",
   "execution_count": 3,
   "metadata": {},
   "outputs": [],
   "source": [
    "band_dir = os.getenv(\"LSST_THROUGHPUTS_BASELINE\")\n",
    "bps = []\n",
    "\n",
    "for filtername in filters:\n",
    "    \n",
    "    tempB = Bandpass()\n",
    "    tempB.readThroughput(band_dir+'total_'+filtername+'.dat')\n",
    "    bps.append(tempB)"
   ]
  },
  {
   "cell_type": "code",
   "execution_count": 4,
   "metadata": {},
   "outputs": [
    {
     "data": {
      "text/plain": [
       "[<lsst.sims.photUtils.Bandpass.Bandpass at 0x108526908>,\n",
       " <lsst.sims.photUtils.Bandpass.Bandpass at 0x10e6d05c0>,\n",
       " <lsst.sims.photUtils.Bandpass.Bandpass at 0x10e645940>,\n",
       " <lsst.sims.photUtils.Bandpass.Bandpass at 0x10e6f3f98>,\n",
       " <lsst.sims.photUtils.Bandpass.Bandpass at 0x10e6f80f0>,\n",
       " <lsst.sims.photUtils.Bandpass.Bandpass at 0x108526a90>]"
      ]
     },
     "execution_count": 4,
     "metadata": {},
     "output_type": "execute_result"
    }
   ],
   "source": [
    "bps"
   ]
  },
  {
   "cell_type": "code",
   "execution_count": 5,
   "metadata": {},
   "outputs": [],
   "source": [
    "wave = np.arange(bps[0].wavelen.min(), bps[-1].wavelen.max()+1)"
   ]
  },
  {
   "cell_type": "code",
   "execution_count": 6,
   "metadata": {},
   "outputs": [],
   "source": [
    "const = 1e-3\n",
    "flat_sed = Sed(wavelen=wave, fnu=np.zeros(wave.size, dtype=float) + const)"
   ]
  },
  {
   "cell_type": "code",
   "execution_count": null,
   "metadata": {},
   "outputs": [],
   "source": []
  },
  {
   "cell_type": "code",
   "execution_count": 7,
   "metadata": {},
   "outputs": [
    {
     "data": {
      "text/plain": [
       "16.400065622282231"
      ]
     },
     "execution_count": 7,
     "metadata": {},
     "output_type": "execute_result"
    }
   ],
   "source": [
    "flat_sed.calcMag(bps[3])"
   ]
  },
  {
   "cell_type": "code",
   "execution_count": 8,
   "metadata": {},
   "outputs": [],
   "source": [
    "params = PhotometricParameters(exptime=15, nexp=1)"
   ]
  },
  {
   "cell_type": "code",
   "execution_count": 9,
   "metadata": {},
   "outputs": [
    {
     "data": {
      "text/plain": [
       "65474.60911999298"
      ]
     },
     "execution_count": 9,
     "metadata": {},
     "output_type": "execute_result"
    }
   ],
   "source": [
    "flat_sed.calcADU(bps[0], params) "
   ]
  },
  {
   "cell_type": "code",
   "execution_count": 10,
   "metadata": {},
   "outputs": [
    {
     "data": {
      "text/plain": [
       "2.3"
      ]
     },
     "execution_count": 10,
     "metadata": {},
     "output_type": "execute_result"
    }
   ],
   "source": [
    "params.gain  # Electrons per ADU"
   ]
  },
  {
   "cell_type": "code",
   "execution_count": 36,
   "metadata": {},
   "outputs": [],
   "source": [
    "# Do I need to correct for this being a 2-d Gaussian?\n",
    "def electrons_in_peak(adu, fwhm_eff, phot_params):\n",
    "    # Given total number of ADUs from a star, and seeing,\n",
    "    # return the \n",
    "    c = fwhm_eff/2.3548/phot_params.platescale\n",
    "    peak = adu/(c**2*2.*np.pi)\n",
    "    peak = peak*phot_params.gain\n",
    "    return peak"
   ]
  },
  {
   "cell_type": "code",
   "execution_count": 37,
   "metadata": {},
   "outputs": [
    {
     "data": {
      "text/plain": [
       "104581.11683615333"
      ]
     },
     "execution_count": 37,
     "metadata": {},
     "output_type": "execute_result"
    }
   ],
   "source": [
    "# OK, let's make arrays of mags and peak electron counts.\n",
    "electrons_in_peak(flat_sed.calcADU(bps[4], params) , 1., params)\n"
   ]
  },
  {
   "cell_type": "code",
   "execution_count": 38,
   "metadata": {},
   "outputs": [],
   "source": [
    "# would like to know how we lose things on the bright end.  Let's start with r"
   ]
  },
  {
   "cell_type": "code",
   "execution_count": 39,
   "metadata": {},
   "outputs": [],
   "source": [
    "consts = 10.**np.arange(-5, -2, .1)"
   ]
  },
  {
   "cell_type": "code",
   "execution_count": 50,
   "metadata": {},
   "outputs": [],
   "source": [
    "\n",
    "fwhm = 1.\n",
    "elec_max = 90e3\n",
    "bandpass = bps[1]\n",
    "mag_peaks = []\n",
    "exptimes = [1, 15, 30, 60]\n",
    "for exptime in exptimes:\n",
    "    params = PhotometricParameters(exptime=exptime, nexp=1)\n",
    "    mags = []\n",
    "    peak_es = []\n",
    "    for con in consts:\n",
    "        flat_sed = Sed(wavelen=wave, fnu=np.zeros(wave.size, dtype=float) + con)\n",
    "        peak_es.append(electrons_in_peak(flat_sed.calcADU(bandpass, params), fwhm, params))\n",
    "        mags.append(flat_sed.calcMag(bandpass))\n",
    "\n",
    "    mag_peak = np.interp(np.log10(elec_max), np.log10(peak_es), mags)\n",
    "    mag_peaks.append(mag_peak)"
   ]
  },
  {
   "cell_type": "code",
   "execution_count": 51,
   "metadata": {},
   "outputs": [
    {
     "data": {
      "text/plain": [
       "[14.150065622282256,\n",
       " 15.186738671948364,\n",
       " 15.939313661108317,\n",
       " 16.691888650268268]"
      ]
     },
     "execution_count": 51,
     "metadata": {},
     "output_type": "execute_result"
    }
   ],
   "source": [
    "mag_peaks"
   ]
  },
  {
   "cell_type": "code",
   "execution_count": null,
   "metadata": {},
   "outputs": [],
   "source": []
  },
  {
   "cell_type": "code",
   "execution_count": null,
   "metadata": {},
   "outputs": [],
   "source": []
  }
 ],
 "metadata": {
  "kernelspec": {
   "display_name": "Python 3",
   "language": "python",
   "name": "python3"
  },
  "language_info": {
   "codemirror_mode": {
    "name": "ipython",
    "version": 3
   },
   "file_extension": ".py",
   "mimetype": "text/x-python",
   "name": "python",
   "nbconvert_exporter": "python",
   "pygments_lexer": "ipython3",
   "version": "3.6.2"
  }
 },
 "nbformat": 4,
 "nbformat_minor": 2
}
