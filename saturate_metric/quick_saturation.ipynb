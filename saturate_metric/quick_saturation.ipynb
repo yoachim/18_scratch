{
 "cells": [
  {
   "cell_type": "code",
   "execution_count": 1,
   "metadata": {},
   "outputs": [],
   "source": [
    "import numpy as np\n",
    "import matplotlib.pylab as plt\n",
    "%matplotlib inline\n",
    "from lsst.sims.photUtils import Sed\n",
    "from lsst.sims.photUtils import Bandpass\n",
    "from lsst.sims.photUtils import PhotometricParameters\n",
    "\n",
    "import os"
   ]
  },
  {
   "cell_type": "code",
   "execution_count": 2,
   "metadata": {},
   "outputs": [],
   "source": [
    "# Let's find the full well magnitude per filter for a variety of exposure times.\n",
    "filters = ['u', 'g', 'r', 'i', 'z', 'y']\n",
    "\n"
   ]
  },
  {
   "cell_type": "code",
   "execution_count": 3,
   "metadata": {},
   "outputs": [],
   "source": [
    "band_dir = os.getenv(\"LSST_THROUGHPUTS_BASELINE\")\n",
    "bps = []\n",
    "\n",
    "for filtername in filters:\n",
    "    \n",
    "    tempB = Bandpass()\n",
    "    tempB.readThroughput(band_dir+'filter_'+filtername+'.dat')\n",
    "    bps.append(tempB)"
   ]
  },
  {
   "cell_type": "code",
   "execution_count": 4,
   "metadata": {},
   "outputs": [
    {
     "data": {
      "text/plain": [
       "[<lsst.sims.photUtils.Bandpass.Bandpass at 0x10e713668>,\n",
       " <lsst.sims.photUtils.Bandpass.Bandpass at 0x10e713710>,\n",
       " <lsst.sims.photUtils.Bandpass.Bandpass at 0x10e7137f0>,\n",
       " <lsst.sims.photUtils.Bandpass.Bandpass at 0x10e713860>,\n",
       " <lsst.sims.photUtils.Bandpass.Bandpass at 0x10e7138d0>,\n",
       " <lsst.sims.photUtils.Bandpass.Bandpass at 0x10e713940>]"
      ]
     },
     "execution_count": 4,
     "metadata": {},
     "output_type": "execute_result"
    }
   ],
   "source": [
    "bps"
   ]
  },
  {
   "cell_type": "code",
   "execution_count": 5,
   "metadata": {},
   "outputs": [],
   "source": [
    "wave = np.arange(bps[0].wavelen.min(), bps[-1].wavelen.max()+1)"
   ]
  },
  {
   "cell_type": "code",
   "execution_count": 6,
   "metadata": {},
   "outputs": [],
   "source": [
    "const = 1e-3\n",
    "flat_sed = Sed(wavelen=wave, fnu=np.zeros(wave.size, dtype=float) + const)"
   ]
  },
  {
   "cell_type": "code",
   "execution_count": null,
   "metadata": {},
   "outputs": [],
   "source": []
  },
  {
   "cell_type": "code",
   "execution_count": 7,
   "metadata": {},
   "outputs": [
    {
     "data": {
      "text/plain": [
       "16.400065622282231"
      ]
     },
     "execution_count": 7,
     "metadata": {},
     "output_type": "execute_result"
    }
   ],
   "source": [
    "flat_sed.calcMag(bps[3])"
   ]
  },
  {
   "cell_type": "code",
   "execution_count": 8,
   "metadata": {},
   "outputs": [],
   "source": [
    "params = PhotometricParameters(exptime=15, nexp=1)"
   ]
  },
  {
   "cell_type": "code",
   "execution_count": 9,
   "metadata": {},
   "outputs": [
    {
     "data": {
      "text/plain": [
       "589934.25879503158"
      ]
     },
     "execution_count": 9,
     "metadata": {},
     "output_type": "execute_result"
    }
   ],
   "source": [
    "flat_sed.calcADU(bps[0], params) "
   ]
  },
  {
   "cell_type": "code",
   "execution_count": 74,
   "metadata": {},
   "outputs": [
    {
     "data": {
      "text/plain": [
       "2.3"
      ]
     },
     "execution_count": 74,
     "metadata": {},
     "output_type": "execute_result"
    }
   ],
   "source": [
    "params.gain  # Electrons per ADU"
   ]
  },
  {
   "cell_type": "code",
   "execution_count": 75,
   "metadata": {},
   "outputs": [],
   "source": [
    "# Do I need to correct for this being a 2-d Gaussian?\n",
    "def electrons_in_peak(adu, fwhm_eff, phot_params):\n",
    "    # Given total number of ADUs from a star, and seeing,\n",
    "    # return the \n",
    "    c = fwhm_eff/2.3548/phot_params.platescale\n",
    "    peak = adu/c/np.sqrt(2.*np.pi)\n",
    "    peak = peak*phot_params.gain\n",
    "    return peak"
   ]
  },
  {
   "cell_type": "code",
   "execution_count": 76,
   "metadata": {},
   "outputs": [
    {
     "data": {
      "text/plain": [
       "407370.81229183014"
      ]
     },
     "execution_count": 76,
     "metadata": {},
     "output_type": "execute_result"
    }
   ],
   "source": [
    "# OK, let's make arrays of mags and peak electron counts.\n",
    "electrons_in_peak(flat_sed.calcADU(bps[1], params) , 1., params)\n"
   ]
  },
  {
   "cell_type": "code",
   "execution_count": null,
   "metadata": {},
   "outputs": [],
   "source": [
    "# would like to know how we lose things on the bright end.  Let's start with r"
   ]
  },
  {
   "cell_type": "code",
   "execution_count": 89,
   "metadata": {},
   "outputs": [],
   "source": [
    "consts = 10.**np.arange(-5, -2, .1)"
   ]
  },
  {
   "cell_type": "code",
   "execution_count": 118,
   "metadata": {},
   "outputs": [],
   "source": [
    "params = PhotometricParameters(exptime=15, nexp=1)\n",
    "mags = []\n",
    "peak_es = []\n",
    "fwhm = 1.\n",
    "bandpass = bps[1]\n",
    "for con in consts:\n",
    "    flat_sed = Sed(wavelen=wave, fnu=np.zeros(wave.size, dtype=float) + con)\n",
    "    peak_es.append(electrons_in_peak(flat_sed.calcADU(bandpass, params), fwhm, params))\n",
    "    mags.append(flat_sed.calcMag(bandpass))"
   ]
  },
  {
   "cell_type": "code",
   "execution_count": 119,
   "metadata": {},
   "outputs": [],
   "source": [
    "elec_max = 90e3\n",
    "mag_peak = np.interp(np.log10(elec_max), np.log10(peak_es), mags)"
   ]
  },
  {
   "cell_type": "code",
   "execution_count": 120,
   "metadata": {},
   "outputs": [
    {
     "data": {
      "text/plain": [
       "18.03943412122609"
      ]
     },
     "execution_count": 120,
     "metadata": {},
     "output_type": "execute_result"
    }
   ],
   "source": [
    "mag_peak"
   ]
  },
  {
   "cell_type": "code",
   "execution_count": null,
   "metadata": {},
   "outputs": [],
   "source": []
  }
 ],
 "metadata": {
  "kernelspec": {
   "display_name": "Python 3",
   "language": "python",
   "name": "python3"
  },
  "language_info": {
   "codemirror_mode": {
    "name": "ipython",
    "version": 3
   },
   "file_extension": ".py",
   "mimetype": "text/x-python",
   "name": "python",
   "nbconvert_exporter": "python",
   "pygments_lexer": "ipython3",
   "version": "3.6.2"
  }
 },
 "nbformat": 4,
 "nbformat_minor": 2
}
