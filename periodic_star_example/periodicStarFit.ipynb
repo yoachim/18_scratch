{
 "cells": [
  {
   "cell_type": "code",
   "execution_count": 1,
   "metadata": {},
   "outputs": [
    {
     "name": "stderr",
     "output_type": "stream",
     "text": [
      "/Users/yoachim/git_repos/sims_maf_contrib/mafContrib/transientAsciiSEDMetric.py:19: UserWarning: sncosmo not installed\n",
      "  warnings.warn('sncosmo not installed')\n",
      "/Users/yoachim/git_repos/sims_maf_contrib/mafContrib/LSSObsStrategy/artificialStructureCalculation.py:40: UserWarning: sympy not installed\n",
      "  warnings.warn('sympy not installed')\n"
     ]
    }
   ],
   "source": [
    "%matplotlib inline\n",
    "import numpy as np\n",
    "import matplotlib.pyplot as plt\n",
    "import healpy as hp\n",
    "import lsst.sims.maf.db as db\n",
    "import lsst.sims.maf.utils as utils\n",
    "import lsst.sims.maf.metrics as metrics\n",
    "import lsst.sims.maf.slicers as slicers\n",
    "import lsst.sims.maf.metricBundles as metricBundles\n",
    "from mafContrib import PeriodicStarMetric "
   ]
  },
  {
   "cell_type": "code",
   "execution_count": 2,
   "metadata": {},
   "outputs": [],
   "source": [
    "outDir ='starfit'\n",
    "dbFile = 'baseline_nexp2_v1.7_10yrs.db'\n",
    "opsimdb = db.OpsimDatabase(dbFile)\n",
    "resultsDb = db.ResultsDb(outDir=outDir)"
   ]
  },
  {
   "cell_type": "code",
   "execution_count": 3,
   "metadata": {},
   "outputs": [
    {
     "name": "stdout",
     "output_type": "stream",
     "text": [
      "Distance Moduli that will be added to the mean magnitudes [15. 18. 21. 24. 27. 15. 18. 21. 24. 27. 15. 18. 21. 24. 27. 15. 18. 21.\n",
      " 24. 27. 15. 18. 21. 24. 27.]\n"
     ]
    }
   ],
   "source": [
    "# Set RA, Dec for a single point in the sky. in radians.\n",
    "\n",
    "# Both in degrees \n",
    "ra = [283.7, 15.0, 100.4, 40.0, 27.7]\n",
    "dec = [-30.5, -33.7, -50.9, -34.4, -44.4]\n",
    "\n",
    "# Let's try 5 different distance modulus at each point\n",
    "nmod = 5\n",
    "distMod = np.arange(0, nmod)\n",
    "distMod = distMod/distMod.max() * 12 + 15\n",
    "\n",
    "\n",
    "ra = np.repeat(ra, nmod)\n",
    "dec = np.repeat(dec, nmod)\n",
    "distMod = np.tile(distMod, nmod)\n",
    "\n",
    "print('Distance Moduli that will be added to the mean magnitudes', distMod)\n"
   ]
  },
  {
   "cell_type": "code",
   "execution_count": 4,
   "metadata": {},
   "outputs": [],
   "source": [
    "\n",
    "# Note I turned nMonte way down for speed\n",
    "metric = PeriodicStarMetric(period=0.2, amplitude=0.9, phase=2.,\n",
    "                            nMonte=100, periodTol=0.05, ampTol=0.05, means=[3.9, 3.5, 3.4, 3.4, 3.4, 3.4],\n",
    "                            magTol=0.05, nBands=2)\n",
    "\n",
    "slicer = slicers.UserPointsSlicer(ra,dec,lonCol='fieldRA',latCol='fieldDec')\n",
    "slicer.slicePoints['distMod'] = distMod\n",
    "sql = 'night < 1400'\n",
    "bundle = metricBundles.MetricBundle(metric,slicer,sql)\n",
    "bg =  metricBundles.MetricBundleGroup({0:bundle}, opsimdb,\n",
    "                                      outDir=outDir, resultsDb=resultsDb)"
   ]
  },
  {
   "cell_type": "code",
   "execution_count": 5,
   "metadata": {},
   "outputs": [
    {
     "name": "stdout",
     "output_type": "stream",
     "text": [
      "Querying database SummaryAllProps with constraint night < 1400 for columns ['fiveSigmaDepth', 'fieldRA', 'filter', 'observationStartMJD', 'fieldDec']\n",
      "Found 791024 visits\n",
      "Running:  [0]\n",
      "Completed metric generation.\n",
      "Running reduce methods.\n",
      "Running summary statistics.\n",
      "Completed.\n"
     ]
    }
   ],
   "source": [
    "bg.runAll()"
   ]
  },
  {
   "cell_type": "code",
   "execution_count": 6,
   "metadata": {},
   "outputs": [
    {
     "data": {
      "text/plain": [
       "masked_array(data=[1.0, 1.0, 0.83, 0.06, 0.0, 1.0, 1.0, 0.83, 0.05, 0.0,\n",
       "                   1.0, 1.0, 0.94, 0.06, 0.0, 1.0, 1.0, 0.8, 0.02, 0.0,\n",
       "                   1.0, 1.0, 0.89, 0.03, 0.02],\n",
       "             mask=[False, False, False, False, False, False, False, False,\n",
       "                   False, False, False, False, False, False, False, False,\n",
       "                   False, False, False, False, False, False, False, False,\n",
       "                   False],\n",
       "       fill_value=-666.0)"
      ]
     },
     "execution_count": 6,
     "metadata": {},
     "output_type": "execute_result"
    }
   ],
   "source": [
    "bundle.metricValues"
   ]
  },
  {
   "cell_type": "code",
   "execution_count": 7,
   "metadata": {},
   "outputs": [
    {
     "name": "stdout",
     "output_type": "stream",
     "text": [
      "RA,  Dec, m-M, Fraction detected\n",
      "283.7 -30.5 15.0 1.0\n",
      "283.7 -30.5 18.0 1.0\n",
      "283.7 -30.5 21.0 0.83\n",
      "283.7 -30.5 24.0 0.06\n",
      "283.7 -30.5 27.0 0.0\n",
      "15.0 -33.7 15.0 1.0\n",
      "15.0 -33.7 18.0 1.0\n",
      "15.0 -33.7 21.0 0.83\n",
      "15.0 -33.7 24.0 0.05\n",
      "15.0 -33.7 27.0 0.0\n",
      "100.4 -50.9 15.0 1.0\n",
      "100.4 -50.9 18.0 1.0\n",
      "100.4 -50.9 21.0 0.94\n",
      "100.4 -50.9 24.0 0.06\n",
      "100.4 -50.9 27.0 0.0\n",
      "40.0 -34.4 15.0 1.0\n",
      "40.0 -34.4 18.0 1.0\n",
      "40.0 -34.4 21.0 0.8\n",
      "40.0 -34.4 24.0 0.02\n",
      "40.0 -34.4 27.0 0.0\n",
      "27.7 -44.4 15.0 1.0\n",
      "27.7 -44.4 18.0 1.0\n",
      "27.7 -44.4 21.0 0.89\n",
      "27.7 -44.4 24.0 0.03\n",
      "27.7 -44.4 27.0 0.02\n"
     ]
    }
   ],
   "source": [
    "print('RA,  Dec, m-M, Fraction detected')\n",
    "for i, dummy in enumerate(ra):\n",
    "    print(ra[i], dec[i], distMod[i], bundle.metricValues[i])"
   ]
  },
  {
   "cell_type": "code",
   "execution_count": null,
   "metadata": {},
   "outputs": [],
   "source": []
  },
  {
   "cell_type": "code",
   "execution_count": null,
   "metadata": {},
   "outputs": [],
   "source": []
  },
  {
   "cell_type": "code",
   "execution_count": null,
   "metadata": {},
   "outputs": [],
   "source": []
  }
 ],
 "metadata": {
  "kernelspec": {
   "display_name": "Python 3",
   "language": "python",
   "name": "python3"
  },
  "language_info": {
   "codemirror_mode": {
    "name": "ipython",
    "version": 3
   },
   "file_extension": ".py",
   "mimetype": "text/x-python",
   "name": "python",
   "nbconvert_exporter": "python",
   "pygments_lexer": "ipython3",
   "version": "3.8.8"
  }
 },
 "nbformat": 4,
 "nbformat_minor": 1
}
