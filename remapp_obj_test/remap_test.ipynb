{
 "cells": [
  {
   "cell_type": "code",
   "execution_count": 1,
   "metadata": {},
   "outputs": [],
   "source": [
    "import numpy as np\n",
    "%matplotlib inline\n"
   ]
  },
  {
   "cell_type": "code",
   "execution_count": 2,
   "metadata": {},
   "outputs": [],
   "source": [
    "class test_obj(object):\n",
    "    def __init__(self, inval):\n",
    "        self.val = inval\n",
    "    def __call__(self):\n",
    "        return self.val"
   ]
  },
  {
   "cell_type": "code",
   "execution_count": 3,
   "metadata": {},
   "outputs": [],
   "source": [
    "objects = [test_obj(x) for x in [1,1,3,4,5]]"
   ]
  },
  {
   "cell_type": "code",
   "execution_count": 5,
   "metadata": {},
   "outputs": [],
   "source": [
    "class remap(object):\n",
    "    def __init__(self, obj_list):\n",
    "        \"\"\"\n",
    "        Let's see if I can remap objects\n",
    "        \"\"\"\n",
    "        obj_list_vals = np.array([obj() for obj in obj_list])\n",
    "        self.obj_list = []\n",
    "        for i,obj in enumerate(obj_list):\n",
    "            matching = np.where(obj_list_vals[0:i] == obj())[0]\n",
    "            if np.size(matching) > 0:\n",
    "                \n",
    "                self.obj_list.append(obj_list[np.min(matching)])\n",
    "            else:\n",
    "                self.obj_list.append(obj)\n",
    "            "
   ]
  },
  {
   "cell_type": "code",
   "execution_count": 6,
   "metadata": {},
   "outputs": [],
   "source": [
    "remap_obj = remap(objects)"
   ]
  },
  {
   "cell_type": "code",
   "execution_count": 7,
   "metadata": {},
   "outputs": [
    {
     "data": {
      "text/plain": [
       "[<__main__.test_obj at 0x10b52fb70>,\n",
       " <__main__.test_obj at 0x10b52fb70>,\n",
       " <__main__.test_obj at 0x10b52fc50>,\n",
       " <__main__.test_obj at 0x10b52fc88>,\n",
       " <__main__.test_obj at 0x10b52fcc0>]"
      ]
     },
     "execution_count": 7,
     "metadata": {},
     "output_type": "execute_result"
    }
   ],
   "source": [
    "remap_obj.obj_list"
   ]
  },
  {
   "cell_type": "code",
   "execution_count": 18,
   "metadata": {},
   "outputs": [],
   "source": [
    "remap_obj.obj_list[0].val = 20"
   ]
  },
  {
   "cell_type": "code",
   "execution_count": 19,
   "metadata": {},
   "outputs": [
    {
     "data": {
      "text/plain": [
       "[20, 1, 3, 4, 5]"
      ]
     },
     "execution_count": 19,
     "metadata": {},
     "output_type": "execute_result"
    }
   ],
   "source": [
    "[ack() for ack in remap_obj.obj_list]"
   ]
  },
  {
   "cell_type": "code",
   "execution_count": 21,
   "metadata": {},
   "outputs": [],
   "source": [
    "blah = test_obj(10)\n",
    "ack = [blah, blah]"
   ]
  },
  {
   "cell_type": "code",
   "execution_count": null,
   "metadata": {},
   "outputs": [],
   "source": []
  },
  {
   "cell_type": "code",
   "execution_count": null,
   "metadata": {},
   "outputs": [],
   "source": []
  }
 ],
 "metadata": {
  "kernelspec": {
   "display_name": "Python 3",
   "language": "python",
   "name": "python3"
  }
 },
 "nbformat": 4,
 "nbformat_minor": 2
}
