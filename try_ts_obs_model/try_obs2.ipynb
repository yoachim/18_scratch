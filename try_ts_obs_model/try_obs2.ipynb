{
 "cells": [
  {
   "cell_type": "code",
   "execution_count": 1,
   "metadata": {},
   "outputs": [],
   "source": [
    "import numpy as np\n",
    "import matplotlib.pylab as plt\n",
    "%matplotlib inline\n",
    "from lsst.ts.observatory.model import ObservatoryModel, Target"
   ]
  },
  {
   "cell_type": "code",
   "execution_count": 2,
   "metadata": {},
   "outputs": [],
   "source": [
    "observatory = ObservatoryModel()\n",
    "\n",
    "\n",
    "observatory.configure_from_module()\n",
    "# Make it so it respects my demanded rotations\n",
    "observatory.params.rotator_followsky = True"
   ]
  },
  {
   "cell_type": "code",
   "execution_count": 9,
   "metadata": {},
   "outputs": [],
   "source": [
    "t1 = Target(band_filter='r', ra_rad=0., dec_rad=0., ang_rad=np.radians(180.), num_exp=1, exp_times=[30])\n",
    "t2 = Target(band_filter='r', ra_rad=0., dec_rad=0., ang_rad=np.radians(170.), num_exp=1, exp_times=[30])\n",
    "t3 = Target(band_filter='r', ra_rad=0., dec_rad=0., ang_rad=np.radians(190.), num_exp=1, exp_times=[30])"
   ]
  },
  {
   "cell_type": "code",
   "execution_count": 10,
   "metadata": {},
   "outputs": [
    {
     "data": {
      "text/plain": [
       "423.37003985957443"
      ]
     },
     "execution_count": 10,
     "metadata": {},
     "output_type": "execute_result"
    }
   ],
   "source": [
    "observatory.current_state.time"
   ]
  },
  {
   "cell_type": "code",
   "execution_count": 11,
   "metadata": {},
   "outputs": [
    {
     "name": "stdout",
     "output_type": "stream",
     "text": [
      "466.441468431\n",
      "33.0\n",
      "37.3245553203\n",
      "40.2142857143\n"
     ]
    }
   ],
   "source": [
    "observatory.observe(t1)\n",
    "print(observatory.current_state.time)\n",
    "tlast = observatory.current_state.time\n",
    "observatory.observe(t1)\n",
    "print(observatory.current_state.time-tlast)\n",
    "tlast = observatory.current_state.time\n",
    "observatory.observe(t2)\n",
    "print(observatory.current_state.time-tlast)\n",
    "tlast = observatory.current_state.time\n",
    "observatory.observe(t3)\n",
    "print(observatory.current_state.time-tlast)\n"
   ]
  },
  {
   "cell_type": "code",
   "execution_count": null,
   "metadata": {},
   "outputs": [],
   "source": [
    "# Looks like it's taking 7.2s to go 20 degrees. "
   ]
  }
 ],
 "metadata": {
  "kernelspec": {
   "display_name": "Python 3",
   "language": "python",
   "name": "python3"
  },
  "language_info": {
   "codemirror_mode": {
    "name": "ipython",
    "version": 3
   },
   "file_extension": ".py",
   "mimetype": "text/x-python",
   "name": "python",
   "nbconvert_exporter": "python",
   "pygments_lexer": "ipython3",
   "version": "3.6.2"
  }
 },
 "nbformat": 4,
 "nbformat_minor": 2
}
