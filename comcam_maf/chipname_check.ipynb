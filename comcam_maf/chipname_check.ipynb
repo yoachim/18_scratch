{
 "cells": [
  {
   "cell_type": "code",
   "execution_count": 1,
   "metadata": {},
   "outputs": [],
   "source": [
    "%matplotlib inline\n",
    "import numpy as np\n",
    "import matplotlib.pyplot as plt\n",
    "import healpy as hp\n",
    "\n",
    "import lsst.sims.maf.db as db\n",
    "import lsst.sims.maf.utils as utils\n",
    "import lsst.sims.maf.metrics as metrics\n",
    "import lsst.sims.maf.slicers as slicers\n",
    "import lsst.sims.maf.stackers as stackers\n",
    "import lsst.sims.maf.metricBundles as metricBundles\n"
   ]
  },
  {
   "cell_type": "code",
   "execution_count": 20,
   "metadata": {},
   "outputs": [],
   "source": [
    "# let's make a simple visit:\n",
    "names = ['fieldRA', 'fieldDec', 'rotSkyPos', 'expMJD']\n",
    "dtypes = [float, float, float, float]\n",
    "obs = np.zeros(1, dtype=list(zip(names, dtypes)))\n",
    "lonRot=180.\n",
    "latRot = 0.\n",
    "obs['fieldRA'] = lonRot"
   ]
  },
  {
   "cell_type": "code",
   "execution_count": 14,
   "metadata": {},
   "outputs": [],
   "source": [
    "dbFile = 'minion_1016_sqlite.db'\n",
    "#conn = db.OpsimDatabase(dbFile)\n",
    "outDir='temp'\n",
    "resultsDb = db.ResultsDb(outDir=outDir)\n",
    "nside=512"
   ]
  },
  {
   "cell_type": "code",
   "execution_count": 15,
   "metadata": {},
   "outputs": [
    {
     "name": "stdout",
     "output_type": "stream",
     "text": [
      "Healpix slicer using NSIDE=512, approximate resolution 6.870973 arcminutes\n"
     ]
    }
   ],
   "source": [
    "bundleList = []\n",
    "\n",
    "metric = metrics.CountMetric(col='expMJD')\n",
    "slicer = slicers.HealpixSlicer(nside=nside, latLonDeg=True, useCamera=False, mjdColName='expMJD')\n",
    "sql = ''\n",
    "bundleList.append(metricBundles.MetricBundle(metric,slicer,sql))"
   ]
  },
  {
   "cell_type": "code",
   "execution_count": 16,
   "metadata": {},
   "outputs": [
    {
     "name": "stderr",
     "output_type": "stream",
     "text": [
      "/Users/yoachim/gitRepos/sims_maf/python/lsst/sims/maf/metricBundles/metricBundleGroup.py:107: UserWarning: Warning: dbObj should be an instantiated Database (or child) object.\n",
      "  warnings.warn('Warning: dbObj should be an instantiated Database (or child) object.')\n"
     ]
    }
   ],
   "source": [
    "bd1 = metricBundles.makeBundlesDictFromList(bundleList)\n",
    "bg1 = metricBundles.MetricBundleGroup(bd1, None, outDir=outDir, resultsDb=resultsDb)\n"
   ]
  },
  {
   "cell_type": "code",
   "execution_count": 17,
   "metadata": {},
   "outputs": [
    {
     "name": "stdout",
     "output_type": "stream",
     "text": [
      "Running:  ['opsim_Count_expMJD_HEAL']\n",
      "Completed metric generation.\n",
      "Running reduce methods.\n",
      "Running summary statistics.\n",
      "Completed.\n"
     ]
    }
   ],
   "source": [
    "bg1.setCurrent('')\n",
    "bg1.runCurrent('', simData=obs)\n",
    "# bg1.plotAll(closefigs=False)"
   ]
  },
  {
   "cell_type": "code",
   "execution_count": 21,
   "metadata": {},
   "outputs": [
    {
     "data": {
      "image/png": "[encoded data removed]",
      "text/plain": [
       "<matplotlib.figure.Figure at 0x16e176080>"
      ]
     },
     "metadata": {},
     "output_type": "display_data"
    }
   ],
   "source": [
    "hp.gnomview(bd1['opsim_Count_expMJD_HEAL'].metricValues, rot=(lonRot, latRot, 0))"
   ]
  },
  {
   "cell_type": "code",
   "execution_count": 8,
   "metadata": {},
   "outputs": [
    {
     "name": "stdout",
     "output_type": "stream",
     "text": [
      "Healpix slicer using NSIDE=512, approximate resolution 6.870973 arcminutes\n"
     ]
    },
    {
     "name": "stderr",
     "output_type": "stream",
     "text": [
      "/Users/yoachim/gitRepos/sims_maf/python/lsst/sims/maf/metricBundles/metricBundleGroup.py:107: UserWarning: Warning: dbObj should be an instantiated Database (or child) object.\n",
      "  warnings.warn('Warning: dbObj should be an instantiated Database (or child) object.')\n"
     ]
    },
    {
     "name": "stdout",
     "output_type": "stream",
     "text": [
      "Running:  ['opsim_Count_expMJD_HEAL']\n"
     ]
    },
    {
     "name": "stderr",
     "output_type": "stream",
     "text": [
      "WARNING: ErfaWarning: ERFA function \"taiutc\" yielded 1 of \"dubious year (Note 4)\" [astropy._erfa.core]\n"
     ]
    },
    {
     "name": "stdout",
     "output_type": "stream",
     "text": [
      "Completed metric generation.\n",
      "Running reduce methods.\n",
      "Running summary statistics.\n",
      "Completed.\n"
     ]
    },
    {
     "data": {
      "image/png": "[encoded data removed]",
      "text/plain": [
       "<matplotlib.figure.Figure at 0x173d37d30>"
      ]
     },
     "metadata": {},
     "output_type": "display_data"
    }
   ],
   "source": [
    "bundleList = []\n",
    "\n",
    "metric = metrics.CountMetric(col='expMJD')\n",
    "slicer = slicers.HealpixSlicer(nside=nside, latLonDeg=True, useCamera=True, mjdColName='expMJD')\n",
    "sql = ''\n",
    "bundleList.append(metricBundles.MetricBundle(metric,slicer,sql))\n",
    "bd1 = metricBundles.makeBundlesDictFromList(bundleList)\n",
    "bg1 = metricBundles.MetricBundleGroup(bd1, None, outDir=outDir, resultsDb=resultsDb)\n",
    "bg1.setCurrent('')\n",
    "bg1.runCurrent('', simData=obs)\n",
    "hp.gnomview(bd1['opsim_Count_expMJD_HEAL'].metricValues, rot=(lonRot, latRot, 0))"
   ]
  },
  {
   "cell_type": "code",
   "execution_count": 9,
   "metadata": {},
   "outputs": [
    {
     "name": "stdout",
     "output_type": "stream",
     "text": [
      "Healpix slicer using NSIDE=512, approximate resolution 6.870973 arcminutes\n"
     ]
    },
    {
     "name": "stderr",
     "output_type": "stream",
     "text": [
      "/Users/yoachim/gitRepos/sims_maf/python/lsst/sims/maf/metricBundles/metricBundleGroup.py:107: UserWarning: Warning: dbObj should be an instantiated Database (or child) object.\n",
      "  warnings.warn('Warning: dbObj should be an instantiated Database (or child) object.')\n"
     ]
    },
    {
     "name": "stdout",
     "output_type": "stream",
     "text": [
      "Running:  ['opsim_Count_expMJD_HEAL']\n"
     ]
    },
    {
     "name": "stderr",
     "output_type": "stream",
     "text": [
      "WARNING: ErfaWarning: ERFA function \"taiutc\" yielded 1 of \"dubious year (Note 4)\" [astropy._erfa.core]\n"
     ]
    },
    {
     "name": "stdout",
     "output_type": "stream",
     "text": [
      "Completed metric generation.\n",
      "Running reduce methods.\n",
      "Running summary statistics.\n",
      "Completed.\n"
     ]
    },
    {
     "data": {
      "image/png": "[encoded data removed]",
      "text/plain": [
       "<matplotlib.figure.Figure at 0x17b874908>"
      ]
     },
     "metadata": {},
     "output_type": "display_data"
    }
   ],
   "source": [
    "bundleList = []\n",
    "center_raft_chips = ['R:2,2 S:0,0', 'R:2,2 S:0,1', 'R:2,2 S:0,2',\n",
    "                     'R:2,2 S:1,0', 'R:2,2 S:1,1', 'R:2,2 S:1,2',\n",
    "                     'R:2,2 S:2,0', 'R:2,2 S:2,1', 'R:2,2 S:2,2']\n",
    "\n",
    "metric = metrics.CountMetric(col='expMJD')\n",
    "slicer = slicers.HealpixSlicer(nside=nside, latLonDeg=True, useCamera=True,\n",
    "                               chipNames=center_raft_chips, mjdColName='expMJD')\n",
    "sql = ''\n",
    "bundleList.append(metricBundles.MetricBundle(metric,slicer,sql))\n",
    "bd1 = metricBundles.makeBundlesDictFromList(bundleList)\n",
    "bg1 = metricBundles.MetricBundleGroup(bd1, None, outDir=outDir, resultsDb=resultsDb)\n",
    "bg1.setCurrent('')\n",
    "bg1.runCurrent('', simData=obs)\n",
    "hp.gnomview(bd1['opsim_Count_expMJD_HEAL'].metricValues, rot=(lonRot, latRot, 0))"
   ]
  },
  {
   "cell_type": "code",
   "execution_count": 10,
   "metadata": {},
   "outputs": [
    {
     "name": "stdout",
     "output_type": "stream",
     "text": [
      "Healpix slicer using NSIDE=512, approximate resolution 6.870973 arcminutes\n"
     ]
    },
    {
     "name": "stderr",
     "output_type": "stream",
     "text": [
      "/Users/yoachim/gitRepos/sims_maf/python/lsst/sims/maf/metricBundles/metricBundleGroup.py:107: UserWarning: Warning: dbObj should be an instantiated Database (or child) object.\n",
      "  warnings.warn('Warning: dbObj should be an instantiated Database (or child) object.')\n"
     ]
    },
    {
     "name": "stdout",
     "output_type": "stream",
     "text": [
      "Running:  ['opsim_Count_expMJD_HEAL']\n"
     ]
    },
    {
     "name": "stderr",
     "output_type": "stream",
     "text": [
      "WARNING: ErfaWarning: ERFA function \"taiutc\" yielded 1 of \"dubious year (Note 4)\" [astropy._erfa.core]\n"
     ]
    },
    {
     "name": "stdout",
     "output_type": "stream",
     "text": [
      "Completed metric generation.\n",
      "Running reduce methods.\n",
      "Running summary statistics.\n",
      "Completed.\n"
     ]
    },
    {
     "data": {
      "image/png": "[encoded data removed]",
      "text/plain": [
       "<matplotlib.figure.Figure at 0x11037b128>"
      ]
     },
     "metadata": {},
     "output_type": "display_data"
    }
   ],
   "source": [
    "bundleList = []\n",
    "slicer = slicers.HealpixComCamSlicer(nside=nside, useCamera=True, mjdColName='expMJD')\n",
    "metric = metrics.CountMetric(col='expMJD')\n",
    "\n",
    "sql = ''\n",
    "bundleList.append(metricBundles.MetricBundle(metric,slicer,sql))\n",
    "bd1 = metricBundles.makeBundlesDictFromList(bundleList)\n",
    "bg1 = metricBundles.MetricBundleGroup(bd1, None, outDir=outDir, resultsDb=resultsDb)\n",
    "bg1.setCurrent('')\n",
    "bg1.runCurrent('', simData=obs)\n",
    "hp.gnomview(bd1['opsim_Count_expMJD_HEAL'].metricValues, rot=(lonRot, latRot, 0))"
   ]
  },
  {
   "cell_type": "code",
   "execution_count": 11,
   "metadata": {},
   "outputs": [
    {
     "name": "stdout",
     "output_type": "stream",
     "text": [
      "Healpix slicer using NSIDE=512, approximate resolution 6.870973 arcminutes\n"
     ]
    },
    {
     "name": "stderr",
     "output_type": "stream",
     "text": [
      "/Users/yoachim/gitRepos/sims_maf/python/lsst/sims/maf/metricBundles/metricBundleGroup.py:107: UserWarning: Warning: dbObj should be an instantiated Database (or child) object.\n",
      "  warnings.warn('Warning: dbObj should be an instantiated Database (or child) object.')\n"
     ]
    },
    {
     "name": "stdout",
     "output_type": "stream",
     "text": [
      "Running:  ['opsim_Count_expMJD_HEAL']\n",
      "Completed metric generation.\n",
      "Running reduce methods.\n",
      "Running summary statistics.\n",
      "Completed.\n"
     ]
    },
    {
     "data": {
      "image/png": "[encoded data removed]",
      "text/plain": [
       "<matplotlib.figure.Figure at 0x11e5797b8>"
      ]
     },
     "metadata": {},
     "output_type": "display_data"
    }
   ],
   "source": [
    "bundleList = []\n",
    "slicer = slicers.HealpixComCamSlicer(nside=nside, useCamera=False, mjdColName='expMJD')\n",
    "metric = metrics.CountMetric(col='expMJD')\n",
    "\n",
    "sql = ''\n",
    "bundleList.append(metricBundles.MetricBundle(metric,slicer,sql))\n",
    "bd1 = metricBundles.makeBundlesDictFromList(bundleList)\n",
    "bg1 = metricBundles.MetricBundleGroup(bd1, None, outDir=outDir, resultsDb=resultsDb)\n",
    "bg1.setCurrent('')\n",
    "bg1.runCurrent('', simData=obs)\n",
    "hp.gnomview(bd1['opsim_Count_expMJD_HEAL'].metricValues, rot=(lonRot, latRot, 0))"
   ]
  },
  {
   "cell_type": "code",
   "execution_count": 12,
   "metadata": {},
   "outputs": [
    {
     "name": "stdout",
     "output_type": "stream",
     "text": [
      "Healpix slicer using NSIDE=512, approximate resolution 6.870973 arcminutes\n"
     ]
    },
    {
     "name": "stderr",
     "output_type": "stream",
     "text": [
      "/Users/yoachim/gitRepos/sims_maf/python/lsst/sims/maf/metricBundles/metricBundleGroup.py:107: UserWarning: Warning: dbObj should be an instantiated Database (or child) object.\n",
      "  warnings.warn('Warning: dbObj should be an instantiated Database (or child) object.')\n"
     ]
    },
    {
     "name": "stdout",
     "output_type": "stream",
     "text": [
      "Running:  ['opsim_Count_expMJD_HEAL']\n",
      "Completed metric generation.\n",
      "Running reduce methods.\n",
      "Running summary statistics.\n",
      "Completed.\n"
     ]
    },
    {
     "data": {
      "image/png": "[encoded data removed]",
      "text/plain": [
       "<matplotlib.figure.Figure at 0x11037b208>"
      ]
     },
     "metadata": {},
     "output_type": "display_data"
    }
   ],
   "source": [
    "bundleList = []\n",
    "slicer = slicers.HealpixComCamSlicer(nside=nside, useCamera=False, radius=2., mjdColName='expMJD')\n",
    "metric = metrics.CountMetric(col='expMJD')\n",
    "\n",
    "sql = ''\n",
    "bundleList.append(metricBundles.MetricBundle(metric,slicer,sql))\n",
    "bd1 = metricBundles.makeBundlesDictFromList(bundleList)\n",
    "bg1 = metricBundles.MetricBundleGroup(bd1, None, outDir=outDir, resultsDb=resultsDb)\n",
    "bg1.setCurrent('')\n",
    "bg1.runCurrent('', simData=obs)\n",
    "hp.gnomview(bd1['opsim_Count_expMJD_HEAL'].metricValues, rot=(lonRot, latRot, 0))"
   ]
  },
  {
   "cell_type": "code",
   "execution_count": null,
   "metadata": {},
   "outputs": [],
   "source": []
  },
  {
   "cell_type": "code",
   "execution_count": null,
   "metadata": {},
   "outputs": [],
   "source": []
  },
  {
   "cell_type": "code",
   "execution_count": null,
   "metadata": {},
   "outputs": [],
   "source": []
  }
 ],
 "metadata": {
  "kernelspec": {
   "display_name": "Python 3",
   "language": "python",
   "name": "python3"
  },
  "language_info": {
   "codemirror_mode": {
    "name": "ipython",
    "version": 3
   },
   "file_extension": ".py",
   "mimetype": "text/x-python",
   "name": "python",
   "nbconvert_exporter": "python",
   "pygments_lexer": "ipython3",
   "version": "3.6.2"
  }
 },
 "nbformat": 4,
 "nbformat_minor": 2
}
