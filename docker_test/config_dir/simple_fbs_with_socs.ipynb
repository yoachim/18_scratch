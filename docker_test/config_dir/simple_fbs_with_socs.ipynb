{
 "cells": [
  {
   "cell_type": "markdown",
   "metadata": {},
   "source": [
    "# Simple Feature Based Scheduler run with SOCS"
   ]
  },
  {
   "cell_type": "markdown",
   "metadata": {},
   "source": [
    "This example notebook show how to do a simple 1 day FBS run using SOCS. In this example we use the default FBS configuration, a separate example will be given on how to provide a custom configuration. \n",
    "\n",
    "Before running the notebook make sure you run `manage_db --save-dir $HOME/run_local/output/` on the command line to setup the SOCS database. "
   ]
  },
  {
   "cell_type": "code",
   "execution_count": 1,
   "metadata": {},
   "outputs": [],
   "source": [
    "import logging\n",
    "import healpy as hp\n",
    "\n",
    "from lsst.sims.ocs.database import SocsDatabase\n",
    "from lsst.sims.ocs.kernel import Simulator\n",
    "from lsst.sims.featureScheduler.driver import FeatureSchedulerDriver as Driver\n",
    "from lsst.sims.ocs.setup import create_parser\n",
    "from lsst.sims.ocs.setup import apply_file_config, read_file_config\n",
    "import time\n",
    "t0 = time.time()"
   ]
  },
  {
   "cell_type": "code",
   "execution_count": 2,
   "metadata": {},
   "outputs": [],
   "source": [
    "logging.getLogger().setLevel(logging.INFO)\n",
    "logging.basicConfig(level=logging.INFO,\n",
    "                    format='%(asctime)s %(name)-12s %(levelname)-8s %(message)s',\n",
    "                    datefmt='%m-%d %H:%M')"
   ]
  },
  {
   "cell_type": "markdown",
   "metadata": {},
   "source": [
    "This next cell loads default command line arguments. These are needed mainly to setup the database."
   ]
  },
  {
   "cell_type": "code",
   "execution_count": 3,
   "metadata": {},
   "outputs": [
    {
     "name": "stdout",
     "output_type": "stream",
     "text": [
      "/home/opsim/run_local/output/ None None\n"
     ]
    }
   ],
   "source": [
    "parser = create_parser()\n",
    "args = parser.parse_known_args()[0]\n",
    "prog_conf = read_file_config()\n",
    "if prog_conf is not None:\n",
    "    apply_file_config(prog_conf, args)\n",
    "print(args.sqlite_save_dir, args.session_id_start, args.sqlite_session_save_dir)"
   ]
  },
  {
   "cell_type": "markdown",
   "metadata": {},
   "source": [
    "Setup socs database to store simulations results, if needed. "
   ]
  },
  {
   "cell_type": "code",
   "execution_count": 4,
   "metadata": {},
   "outputs": [],
   "source": [
    "db = SocsDatabase(sqlite_save_path=args.sqlite_save_dir,\n",
    "                  session_id_start=args.session_id_start,\n",
    "                  sqlite_session_save_path=args.sqlite_session_save_dir)"
   ]
  },
  {
   "cell_type": "code",
   "execution_count": 5,
   "metadata": {},
   "outputs": [],
   "source": [
    "session_id = db.new_session(\"FBS test on notebook\")"
   ]
  },
  {
   "cell_type": "markdown",
   "metadata": {},
   "source": [
    "We now define a driver for the simulation. In this case, we already imported the FBS driver as Driver so we simply call it. "
   ]
  },
  {
   "cell_type": "code",
   "execution_count": 6,
   "metadata": {},
   "outputs": [
    {
     "name": "stderr",
     "output_type": "stream",
     "text": [
      "08-03 17:45 schedulerDriver INFO     buildFieldsTable: 5292 fields\n",
      "/home/opsim/repos/sims_seeingModel/python/lsst/sims/seeingModel/seeingModel.py:73: Warning: Cannot calculate effective wavelengths; either sims_photUtils is unavailable (setup sims_photUtils) or $LSST_THROUGHPUTS_DEFAULT is undefined (setup throughputs package). Without these, simply using default effective wavelengths from version 1.3.\n",
      "  % (DEFAULT_WAVELENGTH_VERSION), Warning)\n"
     ]
    }
   ],
   "source": [
    "driver = Driver()"
   ]
  },
  {
   "cell_type": "markdown",
   "metadata": {},
   "source": [
    "By default the duration of a simulation is 10 years. Here we will run a single day. "
   ]
  },
  {
   "cell_type": "code",
   "execution_count": 7,
   "metadata": {},
   "outputs": [],
   "source": [
    "args.frac_duration = 0.003"
   ]
  },
  {
   "cell_type": "markdown",
   "metadata": {},
   "source": [
    "We now set the SOCS simulator"
   ]
  },
  {
   "cell_type": "code",
   "execution_count": 8,
   "metadata": {},
   "outputs": [],
   "source": [
    "sim = Simulator(args, db, driver=driver)"
   ]
  },
  {
   "cell_type": "code",
   "execution_count": 9,
   "metadata": {},
   "outputs": [
    {
     "name": "stderr",
     "output_type": "stream",
     "text": [
      "08-03 17:45 kernel.Simulator INFO     Initializing simulation\n",
      "08-03 17:45 kernel.Simulator INFO     Simulation Session Id = 2000\n",
      "08-03 17:45 configuration.ConfigurationCommunicator INFO     Initializing configuration communication\n",
      "/home/opsim/repos/sims_seeingModel/python/lsst/sims/seeingModel/seeingModel.py:73: Warning: Cannot calculate effective wavelengths; either sims_photUtils is unavailable (setup sims_photUtils) or $LSST_THROUGHPUTS_DEFAULT is undefined (setup throughputs package). Without these, simply using default effective wavelengths from version 1.3.\n",
      "  % (DEFAULT_WAVELENGTH_VERSION), Warning)\n",
      "08-03 17:47 kernel.Simulator INFO     Finishing simulation initialization\n"
     ]
    }
   ],
   "source": [
    "sim.initialize()"
   ]
  },
  {
   "cell_type": "markdown",
   "metadata": {},
   "source": [
    "And run the simulation"
   ]
  },
  {
   "cell_type": "code",
   "execution_count": 10,
   "metadata": {
    "scrolled": true
   },
   "outputs": [
    {
     "name": "stderr",
     "output_type": "stream",
     "text": [
      "08-03 17:47 kernel.Simulator INFO     Starting simulation\n",
      "08-03 17:47 kernel.Simulator INFO     run: rx scheduler config survey_duration=3650.0\n",
      "08-03 17:47 kernel.Simulator INFO     run: rx driver config={'ranking': {'coadd_values': 1, 'time_balancing': 1, 'timecost_time_max': 150.0, 'timecost_time_ref': 5.0, 'timecost_cost_ref': 0.3, 'timecost_weight': 1.0, 'filtercost_weight': 1.0, 'propboost_weight': 1.0, 'lookahead_window_size': 0, 'lookahead_bonus_weight': 0.0}, 'constraints': {'night_boundary': -12.0, 'ignore_sky_brightness': 0, 'ignore_airmass': 0, 'ignore_clouds': 0, 'ignore_seeing': 0}, 'darktime': {'new_moon_phase_threshold': 20.0}}\n",
      "08-03 17:47 kernel.Simulator INFO     run: rx site config={'obs_site': {'name': 'Cerro Pachon', 'latitude': -30.2444, 'longitude': -70.7494, 'height': 2650.0}}\n",
      "08-03 17:47 kernel.Simulator INFO     run: rx telescope config={'telescope': {'altitude_minpos': 20.0, 'altitude_maxpos': 86.5, 'azimuth_minpos': -270.0, 'azimuth_maxpos': 270.0, 'altitude_maxspeed': 3.5, 'altitude_accel': 3.5, 'altitude_decel': 3.5, 'azimuth_maxspeed': 7.0, 'azimuth_accel': 7.0, 'azimuth_decel': 7.0, 'settle_time': 3.0}}\n",
      "08-03 17:47 kernel.Simulator INFO     run: rx dome config={'dome': {'altitude_maxspeed': 1.75, 'altitude_accel': 0.875, 'altitude_decel': 0.875, 'altitude_freerange': 0.0, 'azimuth_maxspeed': 1.5, 'azimuth_accel': 0.75, 'azimuth_decel': 0.75, 'azimuth_freerange': 4.0, 'settle_time': 0.0}}\n",
      "08-03 17:47 kernel.Simulator INFO     run: rx rotator config={'rotator': {'minpos': -90.0, 'maxpos': 90.0, 'maxspeed': 3.5, 'accel': 1.0, 'decel': 1.0, 'filter_change_pos': 0.0, 'follow_sky': 1, 'resume_angle': 1}}\n",
      "08-03 17:47 kernel.Simulator INFO     run: rx camera config={'camera': {'readout_time': 2.0, 'shutter_time': 1.0, 'filter_change_time': 120.0, 'filter_max_changes_burst_num': 1, 'filter_max_changes_burst_time': 0.0, 'filter_max_changes_avg_num': 3000, 'filter_max_changes_avg_time': 31557600.0, 'filter_removable': ['y', 'z'], 'filter_mounted': ['g', 'r', 'i', 'z', 'y'], 'filter_unmounted': ['u']}}\n",
      "08-03 17:47 kernel.Simulator INFO     run: rx slew config={'slew': {'prereq_domalt': [], 'prereq_domaz': [], 'prereq_domazsettle': ['domaz'], 'prereq_telalt': [], 'prereq_telaz': [], 'prereq_telopticsopenloop': ['telalt', 'telaz'], 'prereq_telopticsclosedloop': ['domalt', 'domazsettle', 'telsettle', 'readout', 'telopticsopenloop', 'filter', 'telrot'], 'prereq_telsettle': ['telalt', 'telaz'], 'prereq_telrot': [], 'prereq_filter': [], 'prereq_exposures': ['telopticsclosedloop'], 'prereq_readout': []}}\n",
      "08-03 17:47 kernel.Simulator INFO     run: rx optics config={'optics_loop_corr': {'tel_optics_ol_slope': 0.2857142857142857, 'tel_optics_cl_alt_limit': [0.0, 9.0, 90.0], 'tel_optics_cl_delay': [0.0, 36.0]}}\n",
      "08-03 17:47 kernel.Simulator INFO     run: rx park config={'park': {'telescope_altitude': 86.5, 'telescope_azimuth': 0.0, 'telescope_rotator': 0.0, 'dome_altitude': 90.0, 'dome_azimuth': 0.0, 'filter_position': 'z'}}\n",
      "08-03 17:47 featureSchedulerDriver INFO     Loading feature based scheduler configuration from /home/opsim/repos/scheduler_config/config_run/feature_scheduler.py.\n",
      "08-03 17:47 kernel.Simulator INFO     Night 1\n",
      "08-03 17:47 featureSchedulerDriver INFO     start_survey t=1664580953.883245\n",
      "08-03 17:47 featureSchedulerDriver INFO     start_night t=1664580953.883245, night=1 timeprogress=0.00%\n",
      "08-03 17:47 featureSchedulerDriver INFO     start_night t=1664580953.883245, night=1 timeprogress=0.00%\n",
      "/home/opsim/repos/sims_skybrightness_pre/python/lsst/sims/skybrightness_pre/SkyModelPre.py:313: UserWarning: Requested MJD between sunrise and sunset, returning closest maps\n",
      "  warnings.warn('Requested MJD between sunrise and sunset, returning closest maps')\n",
      "/home/opsim/repos/sims_skybrightness_pre/python/lsst/sims/skybrightness_pre/SkyModelPre.py:229: UserWarning: Requested MJD between sunrise and sunset, returning closest maps\n",
      "  warnings.warn('Requested MJD between sunrise and sunset, returning closest maps')\n",
      "/home/opsim/repos/sims_seeingModel/python/lsst/sims/seeingModel/seeingModel.py:133: RuntimeWarning: invalid value encountered in power\n",
      "  airmass_correction = np.power(airmass, 0.6)\n",
      "08-03 17:51 featureSchedulerDriver INFO     end_night t=1664616577.348192, night=1 timeprogress=0.01%\n",
      "08-03 17:51 featureSchedulerDriver INFO     end_night next moonphase=40.78%\n",
      "08-03 17:51 featureSchedulerDriver INFO     end_night bright time waxing\n"
     ]
    }
   ],
   "source": [
    "sim.run()"
   ]
  },
  {
   "cell_type": "markdown",
   "metadata": {},
   "source": [
    "We now have access to all the scheduler data structure to play with. In the cell bellow, we plot the TargetMapBasis function for the `g` filter."
   ]
  },
  {
   "cell_type": "code",
   "execution_count": 11,
   "metadata": {},
   "outputs": [
    {
     "data": {
      "image/png": "[encoded data removed]",
      "text/plain": [
       "<matplotlib.figure.Figure at 0x7f0c1575db38>"
      ]
     },
     "metadata": {},
     "output_type": "display_data"
    }
   ],
   "source": [
    "hp.mollview(sim.driver.scheduler.survey_lists[0][1].basis_functions[2]())"
   ]
  },
  {
   "cell_type": "code",
   "execution_count": 12,
   "metadata": {},
   "outputs": [
    {
     "name": "stdout",
     "output_type": "stream",
     "text": [
      "ran in 447, 7 minutes=0 hours\n"
     ]
    }
   ],
   "source": [
    "trun = time.time() - t0\n",
    "print('ran in %i, %i minutes=%i hours' % (trun, trun/60., trun/3600.))\n"
   ]
  }
 ],
 "metadata": {
  "kernelspec": {
   "display_name": "Python 3",
   "language": "python",
   "name": "python3"
  },
  "language_info": {
   "codemirror_mode": {
    "name": "ipython",
    "version": 3
   },
   "file_extension": ".py",
   "mimetype": "text/x-python",
   "name": "python",
   "nbconvert_exporter": "python",
   "pygments_lexer": "ipython3",
   "version": "3.6.2"
  }
 },
 "nbformat": 4,
 "nbformat_minor": 2
}
