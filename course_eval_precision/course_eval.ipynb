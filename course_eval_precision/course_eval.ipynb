{
 "cells": [
  {
   "cell_type": "markdown",
   "metadata": {},
   "source": [
    "Inspired by a recent paper on how giving students cookies can influence course evaluations: https://onlinelibrary.wiley.com/doi/epdf/10.1111/medu.13627\n",
    "\n",
    "I think there's an (easy to make) fundamental error in how they conver course evaluation scores scores into teacher scores and uncertainties\n",
    "\n",
    "The main point is, teachers in the cookie class v no cookies got scores distributions of (sic) 113.4 +/- 4.9 versus 109.2 +/- 7.3. Those are mean and SD. \n",
    "\n"
   ]
  },
  {
   "cell_type": "code",
   "execution_count": 1,
   "metadata": {
    "collapsed": true
   },
   "outputs": [],
   "source": [
    "import numpy as np\n",
    "import matplotlib.pylab as plt\n",
    "%matplotlib inline"
   ]
  },
  {
   "cell_type": "code",
   "execution_count": 4,
   "metadata": {
    "collapsed": true
   },
   "outputs": [],
   "source": [
    "# Converting to mean and standard-deviation of the mean (aka standard error)\n",
    "N_sample = 56  # For both groups\n",
    "mean_1 = 113.4\n",
    "sd_1 = 4.9\n",
    "mean_2 = 109.2\n",
    "sd_2 = 7.3\n",
    "\n",
    "se_1 = sd_1 / np.sqrt(N_sample)\n",
    "se_2 = sd_2 / np.sqrt(N_sample)\n",
    "\n"
   ]
  },
  {
   "cell_type": "code",
   "execution_count": 7,
   "metadata": {
    "collapsed": false
   },
   "outputs": [
    {
     "name": "stdout",
     "output_type": "stream",
     "text": [
      "113.4 0.654790042685\n",
      "109.2 0.97550353298\n"
     ]
    }
   ],
   "source": [
    "print(mean_1, se_1)\n",
    "print(mean_2, se_2)"
   ]
  },
  {
   "cell_type": "code",
   "execution_count": 8,
   "metadata": {
    "collapsed": false
   },
   "outputs": [],
   "source": [
    "# So yes, those numbers look like they are significantly different. \n"
   ]
  },
  {
   "cell_type": "code",
   "execution_count": 93,
   "metadata": {
    "collapsed": true
   },
   "outputs": [],
   "source": [
    "# Let's say this is the \"truth\" distribution if you evaluated a class thousands of times\n",
    "parent_heights = np.array([20, 80, 160, 510, 110])*5000\n",
    "temp = []\n",
    "for i,val in enumerate(parent_heights):\n",
    "    temp.extend([i+1]*val)\n",
    "parent_dist = np.array(temp)"
   ]
  },
  {
   "cell_type": "code",
   "execution_count": 94,
   "metadata": {
    "collapsed": false
   },
   "outputs": [
    {
     "data": {
      "image/png": "[encoded data removed]",
      "text/plain": [
       "<matplotlib.figure.Figure at 0x11dbadda0>"
      ]
     },
     "metadata": {},
     "output_type": "display_data"
    }
   ],
   "source": [
    "bins = np.arange(0.5, 6.5, 1.)\n",
    "ack = plt.hist(parent_dist, bins=bins)"
   ]
  },
  {
   "cell_type": "code",
   "execution_count": 95,
   "metadata": {
    "collapsed": false
   },
   "outputs": [
    {
     "name": "stdout",
     "output_type": "stream",
     "text": [
      "3.69318181818 0.883664304646\n"
     ]
    }
   ],
   "source": [
    "# Here's the \"true\" underlying mean and standard deviation of our population\n",
    "print(np.mean(parent_dist), np.std(parent_dist))"
   ]
  },
  {
   "cell_type": "code",
   "execution_count": 96,
   "metadata": {
    "collapsed": true
   },
   "outputs": [],
   "source": [
    "# Let's draw a sample of 112 from this distribution, and put them in 2 groups\n",
    "np.random.seed(69)\n",
    "sub_sample = np.random.choice(parent_dist, 112)\n",
    "class_1 = sub_sample[0:56]\n",
    "class_2 = sub_sample[56:]"
   ]
  },
  {
   "cell_type": "code",
   "execution_count": 97,
   "metadata": {
    "collapsed": false
   },
   "outputs": [
    {
     "data": {
      "image/png": "[encoded data removed]",
      "text/plain": [
       "<matplotlib.figure.Figure at 0x11f15bc18>"
      ]
     },
     "metadata": {},
     "output_type": "display_data"
    }
   ],
   "source": [
    "# let's take a look\n",
    "ack = plt.hist(class_1, bins=bins, alpha=0.5)\n",
    "ack = plt.hist(class_2, bins=bins, alpha=0.5)"
   ]
  },
  {
   "cell_type": "code",
   "execution_count": 98,
   "metadata": {
    "collapsed": false
   },
   "outputs": [
    {
     "name": "stdout",
     "output_type": "stream",
     "text": [
      "3.55357142857 0.943391352991\n",
      "3.75 0.807332468247\n"
     ]
    }
   ],
   "source": [
    "print(np.mean(class_1), np.std(class_1))\n",
    "print(np.mean(class_2), np.std(class_2))"
   ]
  },
  {
   "cell_type": "code",
   "execution_count": 99,
   "metadata": {
    "collapsed": false
   },
   "outputs": [
    {
     "name": "stdout",
     "output_type": "stream",
     "text": [
      "3.55357142857 0.126065972305\n",
      "3.75 0.10788433905\n"
     ]
    }
   ],
   "source": [
    "se_1 = np.std(class_1)/np.sqrt(class_1.size)\n",
    "se_2 = np.std(class_2)/np.sqrt(class_2.size)\n",
    "\n",
    "print(np.mean(class_1), se_1)\n",
    "print(np.mean(class_2), se_2)\n"
   ]
  },
  {
   "cell_type": "code",
   "execution_count": 100,
   "metadata": {
    "collapsed": false
   },
   "outputs": [
    {
     "name": "stdout",
     "output_type": "stream",
     "text": [
      "-0.196428571429 0.165926670507\n"
     ]
    }
   ],
   "source": [
    "# What is the diff and uncert?\n",
    "diff = np.mean(class_1) - np.mean(class_2)\n",
    "uncert  = np.sqrt(se_1**2 + se_2**2)\n",
    "print(diff, uncert)"
   ]
  },
  {
   "cell_type": "code",
   "execution_count": 76,
   "metadata": {
    "collapsed": false
   },
   "outputs": [
    {
     "data": {
      "text/plain": [
       "0.16364602055574642"
      ]
     },
     "execution_count": 76,
     "metadata": {},
     "output_type": "execute_result"
    }
   ],
   "source": [
    "se_1"
   ]
  },
  {
   "cell_type": "code",
   "execution_count": 101,
   "metadata": {
    "collapsed": false
   },
   "outputs": [
    {
     "data": {
      "text/plain": [
       "0.365"
      ]
     },
     "execution_count": 101,
     "metadata": {},
     "output_type": "execute_result"
    }
   ],
   "source": [
    "7.3/20."
   ]
  },
  {
   "cell_type": "code",
   "execution_count": null,
   "metadata": {
    "collapsed": true
   },
   "outputs": [],
   "source": []
  }
 ],
 "metadata": {
  "kernelspec": {
   "display_name": "Python [Root]",
   "language": "python",
   "name": "Python [Root]"
  },
  "language_info": {
   "codemirror_mode": {
    "name": "ipython",
    "version": 3
   },
   "file_extension": ".py",
   "mimetype": "text/x-python",
   "name": "python",
   "nbconvert_exporter": "python",
   "pygments_lexer": "ipython3",
   "version": "3.5.2"
  }
 },
 "nbformat": 4,
 "nbformat_minor": 0
}
