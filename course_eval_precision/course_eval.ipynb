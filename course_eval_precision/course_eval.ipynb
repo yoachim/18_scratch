{
 "cells": [
  {
   "cell_type": "markdown",
   "metadata": {},
   "source": [
    "Inspired by a recent paper on how giving students cookies can influence course evaluations: https://onlinelibrary.wiley.com/doi/epdf/10.1111/medu.13627\n",
    "\n",
    "I think there's an (easy to make) fundamental error in how they conver course evaluation scores scores into teacher scores and uncertainties\n",
    "\n",
    "The main point is, teachers in the cookie class v no cookies got scores distributions of (sic) 113.4 +/- 4.9 versus 109.2 +/- 7.3. Those are mean and SD. \n",
    "\n"
   ]
  },
  {
   "cell_type": "code",
   "execution_count": 1,
   "metadata": {},
   "outputs": [],
   "source": [
    "import numpy as np\n",
    "import matplotlib.pylab as plt\n",
    "%matplotlib inline"
   ]
  },
  {
   "cell_type": "code",
   "execution_count": 2,
   "metadata": {},
   "outputs": [],
   "source": [
    "# Converting to mean and standard-deviation of the mean (aka standard error)\n",
    "N_sample = 56  # For both groups\n",
    "mean_1 = 113.4\n",
    "sd_1 = 4.9\n",
    "mean_2 = 109.2\n",
    "sd_2 = 7.3\n",
    "\n",
    "se_1 = sd_1 / np.sqrt(N_sample)\n",
    "se_2 = sd_2 / np.sqrt(N_sample)\n",
    "\n"
   ]
  },
  {
   "cell_type": "code",
   "execution_count": 3,
   "metadata": {},
   "outputs": [
    {
     "name": "stdout",
     "output_type": "stream",
     "text": [
      "113.4 0.654790042685\n",
      "109.2 0.97550353298\n"
     ]
    }
   ],
   "source": [
    "print(mean_1, se_1)\n",
    "print(mean_2, se_2)"
   ]
  },
  {
   "cell_type": "code",
   "execution_count": 4,
   "metadata": {},
   "outputs": [],
   "source": [
    "# So yes, those numbers look like they are significantly different. \n"
   ]
  },
  {
   "cell_type": "code",
   "execution_count": 5,
   "metadata": {},
   "outputs": [],
   "source": [
    "# Let's say this is the \"truth\" distribution if you evaluated a class thousands of times\n",
    "parent_heights = np.array([0, 0, 510, 10, 10])*5000\n",
    "temp = []\n",
    "for i,val in enumerate(parent_heights):\n",
    "    temp.extend([i+1]*val)\n",
    "parent_dist = np.array(temp)"
   ]
  },
  {
   "cell_type": "code",
   "execution_count": 6,
   "metadata": {},
   "outputs": [
    {
     "data": {
      "image/png": "[encoded data removed]",
      "text/plain": [
       "<matplotlib.figure.Figure at 0x1097599b0>"
      ]
     },
     "metadata": {},
     "output_type": "display_data"
    }
   ],
   "source": [
    "bins = np.arange(0.5, 6.5, 1.)\n",
    "ack = plt.hist(parent_dist, bins=bins)"
   ]
  },
  {
   "cell_type": "code",
   "execution_count": 7,
   "metadata": {},
   "outputs": [
    {
     "name": "stdout",
     "output_type": "stream",
     "text": [
      "3.05660377358 0.301886792453\n"
     ]
    }
   ],
   "source": [
    "# Here's the \"true\" underlying mean and standard deviation of our population\n",
    "print(np.mean(parent_dist), np.std(parent_dist))"
   ]
  },
  {
   "cell_type": "code",
   "execution_count": 8,
   "metadata": {},
   "outputs": [],
   "source": [
    "# Let's draw a sample of 112 from this distribution, and put them in 2 groups\n",
    "np.random.seed(69)\n",
    "sub_sample = np.random.choice(parent_dist, 112)\n",
    "class_1 = sub_sample[0:56]\n",
    "class_2 = sub_sample[56:]"
   ]
  },
  {
   "cell_type": "code",
   "execution_count": 9,
   "metadata": {},
   "outputs": [
    {
     "data": {
      "image/png": "[encoded data removed]",
      "text/plain": [
       "<matplotlib.figure.Figure at 0x1097595f8>"
      ]
     },
     "metadata": {},
     "output_type": "display_data"
    }
   ],
   "source": [
    "# let's take a look\n",
    "ack = plt.hist(class_1, bins=bins, alpha=0.5)\n",
    "ack = plt.hist(class_2, bins=bins, alpha=0.5)"
   ]
  },
  {
   "cell_type": "code",
   "execution_count": 10,
   "metadata": {},
   "outputs": [
    {
     "name": "stdout",
     "output_type": "stream",
     "text": [
      "3.07142857143 0.371153744479\n",
      "3.03571428571 0.264864231682\n"
     ]
    }
   ],
   "source": [
    "print(np.mean(class_1), np.std(class_1))\n",
    "print(np.mean(class_2), np.std(class_2))"
   ]
  },
  {
   "cell_type": "code",
   "execution_count": 11,
   "metadata": {},
   "outputs": [
    {
     "name": "stdout",
     "output_type": "stream",
     "text": [
      "3.07142857143 0.049597505345\n",
      "3.03571428571 0.0353939717488\n"
     ]
    }
   ],
   "source": [
    "se_1 = np.std(class_1)/np.sqrt(class_1.size)\n",
    "se_2 = np.std(class_2)/np.sqrt(class_2.size)\n",
    "\n",
    "print(np.mean(class_1), se_1)\n",
    "print(np.mean(class_2), se_2)\n"
   ]
  },
  {
   "cell_type": "code",
   "execution_count": 12,
   "metadata": {},
   "outputs": [
    {
     "name": "stdout",
     "output_type": "stream",
     "text": [
      "0.0357142857143 0.0609314842474\n"
     ]
    }
   ],
   "source": [
    "# What is the diff and uncert?\n",
    "diff = np.mean(class_1) - np.mean(class_2)\n",
    "uncert  = np.sqrt(se_1**2 + se_2**2)\n",
    "print(diff, uncert)"
   ]
  },
  {
   "cell_type": "code",
   "execution_count": 13,
   "metadata": {},
   "outputs": [
    {
     "data": {
      "text/plain": [
       "0.049597505344958118"
      ]
     },
     "execution_count": 13,
     "metadata": {},
     "output_type": "execute_result"
    }
   ],
   "source": [
    "se_1"
   ]
  },
  {
   "cell_type": "code",
   "execution_count": 14,
   "metadata": {},
   "outputs": [
    {
     "data": {
      "text/plain": [
       "0.04424778761061947"
      ]
     },
     "execution_count": 14,
     "metadata": {},
     "output_type": "execute_result"
    }
   ],
   "source": [
    "5/113."
   ]
  },
  {
   "cell_type": "code",
   "execution_count": 15,
   "metadata": {},
   "outputs": [
    {
     "data": {
      "text/plain": [
       "0.03703703703703706"
      ]
     },
     "execution_count": 15,
     "metadata": {},
     "output_type": "execute_result"
    }
   ],
   "source": [
    "(mean_1-mean_2)/mean_1"
   ]
  },
  {
   "cell_type": "code",
   "execution_count": 16,
   "metadata": {},
   "outputs": [
    {
     "data": {
      "text/plain": [
       "0.094491118252306799"
      ]
     },
     "execution_count": 16,
     "metadata": {},
     "output_type": "execute_result"
    }
   ],
   "source": [
    "1./np.sqrt(112.)"
   ]
  },
  {
   "cell_type": "code",
   "execution_count": 17,
   "metadata": {},
   "outputs": [],
   "source": [
    "#----------------------------\n",
    "# Let's do a more simple example\n",
    "ratings = np.array([3,4,4, 4, 4,5])\n"
   ]
  },
  {
   "cell_type": "code",
   "execution_count": 18,
   "metadata": {},
   "outputs": [
    {
     "data": {
      "text/plain": [
       "(4.0, 0.57735026918962573, 0.23570226039551584)"
      ]
     },
     "execution_count": 18,
     "metadata": {},
     "output_type": "execute_result"
    }
   ],
   "source": [
    "np.mean(ratings), np.std(ratings), np.std(ratings)/np.sqrt(ratings.size)"
   ]
  },
  {
   "cell_type": "code",
   "execution_count": 19,
   "metadata": {},
   "outputs": [
    {
     "data": {
      "text/plain": [
       "1.6499158227686108"
      ]
     },
     "execution_count": 19,
     "metadata": {},
     "output_type": "execute_result"
    }
   ],
   "source": [
    "# now to properly propigate the uncertainties\n",
    "np.sqrt(np.sum(ratings**2))/ratings.size\n",
    "\n",
    "# Here's what the uncertainty in the mean should be\n",
    "#1./np.sqrt(ratings.size)"
   ]
  },
  {
   "cell_type": "code",
   "execution_count": 20,
   "metadata": {},
   "outputs": [
    {
     "data": {
      "text/plain": [
       "1.6329931618554523"
      ]
     },
     "execution_count": 20,
     "metadata": {},
     "output_type": "execute_result"
    }
   ],
   "source": [
    "np.mean(ratings)*1./np.sqrt(ratings.size)"
   ]
  },
  {
   "cell_type": "code",
   "execution_count": 21,
   "metadata": {},
   "outputs": [
    {
     "data": {
      "text/plain": [
       "(15.153712416434464, 14.592463808418373)"
      ]
     },
     "execution_count": 21,
     "metadata": {},
     "output_type": "execute_result"
    }
   ],
   "source": [
    "# So, I'm pretty sure the standard deviation of the poll values is irrelivant. \n",
    "\n",
    "# Unit wise, it's gotta be the mean and not the sqrt of the mean, right?\n",
    "err_1 = mean_1/np.sqrt(N_sample)\n",
    "err_2 = mean_2/np.sqrt(N_sample)\n",
    "err_1, err_2"
   ]
  },
  {
   "cell_type": "code",
   "execution_count": 22,
   "metadata": {},
   "outputs": [],
   "source": [
    "### ah, for every survey that has a value of 1, that's 1 +/- sqrt(1). Every survey that has a score of 102, should be counted as \n",
    "# 102 +/- sqrt(102). \n",
    "\n",
    "# That way, the uncertainty in the mean is going to be mean * 1/sqrt(N)."
   ]
  },
  {
   "cell_type": "code",
   "execution_count": 23,
   "metadata": {},
   "outputs": [
    {
     "data": {
      "text/plain": [
       "(1.1224972160321824, 1.3496692716577432)"
      ]
     },
     "execution_count": 23,
     "metadata": {},
     "output_type": "execute_result"
    }
   ],
   "source": [
    "8.4/np.sqrt(N_sample), 10.1/np.sqrt(N_sample)"
   ]
  },
  {
   "cell_type": "code",
   "execution_count": 24,
   "metadata": {},
   "outputs": [
    {
     "data": {
      "text/plain": [
       "(1.6999999999999993, 1.7554506950800819)"
      ]
     },
     "execution_count": 24,
     "metadata": {},
     "output_type": "execute_result"
    }
   ],
   "source": [
    "10.1-8.4, np.sqrt(8.4**2+10.1**2)/np.sqrt(N_sample)"
   ]
  },
  {
   "cell_type": "code",
   "execution_count": 25,
   "metadata": {},
   "outputs": [],
   "source": [
    "# I think I like the idea that if I sum the number of counts in a bin, the uncertainty has to be root-N, because\n",
    "# Poisson Stats. That implies that the number of counts in each bin has an uncertainty of root-N.\n",
    "#\n",
    "bin_vals = np.array([1,2,3,4])\n",
    "#bin_counts = np.array([0,1,2,1])\n",
    "bin_counts = np.array([0,0,50,50])\n",
    "bin_count_uncert = np.sqrt(bin_counts)"
   ]
  },
  {
   "cell_type": "code",
   "execution_count": 26,
   "metadata": {},
   "outputs": [],
   "source": [
    "vals = bin_vals * bin_counts\n",
    "vals_uncerts = bin_vals*bin_count_uncert"
   ]
  },
  {
   "cell_type": "code",
   "execution_count": 27,
   "metadata": {},
   "outputs": [
    {
     "data": {
      "text/plain": [
       "(array([  0,   0, 150, 200]),\n",
       " array([  0.        ,   0.        ,  21.21320344,  28.28427125]))"
      ]
     },
     "execution_count": 27,
     "metadata": {},
     "output_type": "execute_result"
    }
   ],
   "source": [
    "vals, vals_uncerts"
   ]
  },
  {
   "cell_type": "code",
   "execution_count": 28,
   "metadata": {},
   "outputs": [],
   "source": [
    "mean = np.sum(vals)/np.sum(bin_counts)\n",
    "mean_uncert = np.sqrt(np.sum(vals_uncerts**2))/np.sum(bin_counts)"
   ]
  },
  {
   "cell_type": "code",
   "execution_count": 29,
   "metadata": {},
   "outputs": [
    {
     "data": {
      "text/plain": [
       "(3.5, 0.35355339059327379, 0.34999999999999998)"
      ]
     },
     "execution_count": 29,
     "metadata": {},
     "output_type": "execute_result"
    }
   ],
   "source": [
    "mean, mean_uncert, mean*1./np.sqrt(np.sum(bin_counts))"
   ]
  },
  {
   "cell_type": "code",
   "execution_count": 30,
   "metadata": {},
   "outputs": [
    {
     "data": {
      "text/plain": [
       "(109.5, 54.891939298953538, 54.75)"
      ]
     },
     "execution_count": 30,
     "metadata": {},
     "output_type": "execute_result"
    }
   ],
   "source": [
    "#ok, this looks very reasonable now. Let's see if we scale to arbitrary bins\n",
    "bin_vals = np.array([100,105,112,121])\n",
    "#bin_counts = np.array([0,1,2,1])\n",
    "bin_counts = np.array([1,1,1,1])\n",
    "bin_count_uncert = np.sqrt(bin_counts)\n",
    "vals = bin_vals * bin_counts\n",
    "vals_uncerts = bin_vals*bin_count_uncert\n",
    "mean = np.sum(vals)/np.sum(bin_counts)\n",
    "mean_uncert = np.sqrt(np.sum(vals_uncerts**2))/np.sum(bin_counts)\n",
    "mean, mean_uncert, mean*1./np.sqrt(np.sum(bin_counts))"
   ]
  },
  {
   "cell_type": "code",
   "execution_count": null,
   "metadata": {},
   "outputs": [],
   "source": []
  }
 ],
 "metadata": {
  "kernelspec": {
   "display_name": "Python 3",
   "language": "python",
   "name": "python3"
  },
  "language_info": {
   "codemirror_mode": {
    "name": "ipython",
    "version": 3
   },
   "file_extension": ".py",
   "mimetype": "text/x-python",
   "name": "python",
   "nbconvert_exporter": "python",
   "pygments_lexer": "ipython3",
   "version": "3.6.2"
  }
 },
 "nbformat": 4,
 "nbformat_minor": 1
}
