{
 "cells": [
  {
   "cell_type": "code",
   "execution_count": 1,
   "metadata": {},
   "outputs": [],
   "source": [
    "import numpy as np\n",
    "%matplotlib inline\n",
    "import matplotlib.pylab as plt"
   ]
  },
  {
   "cell_type": "code",
   "execution_count": 2,
   "metadata": {},
   "outputs": [],
   "source": [
    "# Let's try to cover a sphere with pentagons and hexagons\n",
    "\n",
    "# Where are the centers of the faces of a regular dodecahedron?\n",
    "# https://en.wikipedia.org/wiki/Regular_dodecahedron\n",
    "# OK, I think I want to contain 1/12 of the area of the sphere, and have 72 degrees between everything.\n",
    "\n",
    "# A helpful image here: https://math.stackexchange.com/questions/2029958/numbering-a-spherical-grid-of-pentagons-and-hexagons-so-neighbours-are-easily\n",
    "\n",
    "\n",
    "# I think I need to put a pentagon at the pole, and then a ring of 5 at some latitude.\n",
    "# So, an opening angle of 72 degrees.\n",
    "# let's make \n",
    "n_between = 11\n"
   ]
  },
  {
   "cell_type": "code",
   "execution_count": 3,
   "metadata": {},
   "outputs": [],
   "source": [
    "golden = (1. + 5.**.5)/2."
   ]
  },
  {
   "cell_type": "code",
   "execution_count": 4,
   "metadata": {},
   "outputs": [
    {
     "data": {
      "text/plain": [
       "1.618033988749895"
      ]
     },
     "execution_count": 4,
     "metadata": {},
     "output_type": "execute_result"
    }
   ],
   "source": [
    "golden"
   ]
  },
  {
   "cell_type": "code",
   "execution_count": 5,
   "metadata": {},
   "outputs": [
    {
     "data": {
      "text/plain": [
       "59.999999999999993"
      ]
     },
     "execution_count": 5,
     "metadata": {},
     "output_type": "execute_result"
    }
   ],
   "source": [
    "# Here's how far to put the ring of pentagons up/down from the poles.\n",
    "side_length = np.arccos(0.5)#np.arccos(2./3.)\n",
    "np.degrees(side_length)"
   ]
  },
  {
   "cell_type": "code",
   "execution_count": 6,
   "metadata": {},
   "outputs": [],
   "source": [
    "#fifth = 2.*np.pi/5.\n",
    "#declinations = np.pi/2.-(np.arange(1, n_between+1)/n_between * side_length)"
   ]
  },
  {
   "cell_type": "code",
   "execution_count": 7,
   "metadata": {},
   "outputs": [],
   "source": [
    "#np.degrees(declinations)"
   ]
  },
  {
   "cell_type": "code",
   "execution_count": 8,
   "metadata": {},
   "outputs": [],
   "source": [
    "# I need to know how big my pentagons are relative to my hexagons. \n",
    "        "
   ]
  },
  {
   "cell_type": "code",
   "execution_count": 9,
   "metadata": {},
   "outputs": [
    {
     "data": {
      "text/plain": [
       "array([], dtype=int64)"
      ]
     },
     "execution_count": 9,
     "metadata": {},
     "output_type": "execute_result"
    }
   ],
   "source": [
    "np.arange(0)"
   ]
  },
  {
   "cell_type": "code",
   "execution_count": 10,
   "metadata": {},
   "outputs": [],
   "source": [
    "# Center of pentagon to edge = (1 + 5**.5)/4 = golden/2 * L\n",
    "# https://en.wikipedia.org/wiki/Hexagon\n",
    "# center of hexagon to edge = cos(30)*L\n",
    "# Where they share side length L\n",
    "\n",
    "# So, how do we map side length to arc length? \n",
    "total_length = golden + 2.*n_between*np.cos(np.pi/6.)"
   ]
  },
  {
   "cell_type": "code",
   "execution_count": 11,
   "metadata": {},
   "outputs": [],
   "source": [
    "poly_side = side_length/total_length"
   ]
  },
  {
   "cell_type": "code",
   "execution_count": 12,
   "metadata": {},
   "outputs": [
    {
     "data": {
      "text/plain": [
       "2.9026743631167431"
      ]
     },
     "execution_count": 12,
     "metadata": {},
     "output_type": "execute_result"
    }
   ],
   "source": [
    "np.degrees(poly_side)"
   ]
  },
  {
   "cell_type": "code",
   "execution_count": 13,
   "metadata": {},
   "outputs": [],
   "source": [
    "declinations = np.pi/2. - (np.arange(n_between)*np.cos(np.pi/6.)*poly_side*2 + golden/2.*poly_side+np.cos(np.pi/6.)*poly_side)"
   ]
  },
  {
   "cell_type": "code",
   "execution_count": 14,
   "metadata": {},
   "outputs": [],
   "source": [
    "declinations = declinations.tolist()\n",
    "# Add the other pentagon point\n",
    "declinations.append(np.pi/2. - side_length)\n"
   ]
  },
  {
   "cell_type": "code",
   "execution_count": 15,
   "metadata": {},
   "outputs": [
    {
     "data": {
      "text/plain": [
       "array([ 85.13789737,  80.1103179 ,  75.08273842,  70.05515895,\n",
       "        65.02757947,  60.        ,  54.97242053,  49.94484105,\n",
       "        44.91726158,  39.8896821 ,  34.86210263,  30.        ])"
      ]
     },
     "execution_count": 15,
     "metadata": {},
     "output_type": "execute_result"
    }
   ],
   "source": [
    "np.degrees(declinations)"
   ]
  },
  {
   "cell_type": "code",
   "execution_count": 45,
   "metadata": {},
   "outputs": [],
   "source": [
    "# ok, for each declination, need to divide up the 72 degrees.\n",
    "ras = []\n",
    "decs = []\n",
    "new_ras = None\n",
    "ra_lol = []\n",
    "# Have to do something special around the pentagon\n",
    "for i, dec in enumerate(declinations[:-1]):\n",
    "    last_ras = new_ras\n",
    "    new_ras = np.arange(i+2)/(i+1)*np.pi*2/5.\n",
    "    ra_lol.append(new_ras)\n",
    "    for ra in new_ras[:-1]:\n",
    "        decs.append(dec)\n",
    "        ras.append(ra)\n",
    "    \n"
   ]
  },
  {
   "cell_type": "code",
   "execution_count": 17,
   "metadata": {},
   "outputs": [
    {
     "data": {
      "text/plain": [
       "[<matplotlib.lines.Line2D at 0x112d5cf98>]"
      ]
     },
     "execution_count": 17,
     "metadata": {},
     "output_type": "execute_result"
    },
    {
     "data": {
      "image/png": "[encoded data removed]",
      "text/plain": [
       "<matplotlib.figure.Figure at 0x10f9fc898>"
      ]
     },
     "metadata": {},
     "output_type": "display_data"
    }
   ],
   "source": [
    "plt.plot(np.degrees(ras), np.degrees(decs), 'ko')"
   ]
  },
  {
   "cell_type": "code",
   "execution_count": 18,
   "metadata": {},
   "outputs": [
    {
     "data": {
      "text/plain": [
       "array([  5.83452315,  11.86761852,  17.90071389,  23.93380926,\n",
       "        29.96690463,  36.        ,  42.03309537,  48.06619074,\n",
       "        54.09928611,  60.13238148,  66.16547685])"
      ]
     },
     "execution_count": 18,
     "metadata": {},
     "output_type": "execute_result"
    }
   ],
   "source": [
    "# Currently, declinations go from 30 to 90, with 60 as midpoint. \n",
    "# Should go 0 to 72, midpoint of 36\n",
    "\n",
    "#longitudes = (np.arange(n_between)*np.cos(np.pi/6.)*poly_side*2 + golden/2.*poly_side+np.cos(np.pi/6.)*poly_side)/np.cos(np.pi/2 - side_length)\n",
    "#longitudes = [0] + longitudes.tolist()\n",
    "\n",
    "longitudes = (np.arange(n_between)*np.cos(np.pi/6.)*poly_side*2 + golden/2.*poly_side+np.cos(np.pi/6.)*poly_side).tolist()\n",
    "#longitudes = [0] + longitudes\n",
    "longitudes = np.array(longitudes) * 36./30.\n",
    "\n",
    "# I want the ratio of the pentagon length to the hexagon length\n",
    "#penta_length = golden/2 *2\n",
    "#hexa_length = np.cos(np.pi/6.)*2*n_between\n",
    "\n",
    "#fifth = 2.*np.pi/5\n",
    "\n",
    "# OK, the middle point needs to end up at 36 degrees.\n",
    "#longitudes = ((np.arange(n_between)/(n_between-1)-.5)*hexa_length/(hexa_length+penta_length)+np.pi/5.) #*poly_side*np.cos(np.pi/6.) + 2.*np.pi/5.\n",
    "\n",
    "# Let's take the longitudes from one up, and then add on either side\n",
    "np.degrees(longitudes)\n",
    "#longitudes"
   ]
  },
  {
   "cell_type": "code",
   "execution_count": 19,
   "metadata": {},
   "outputs": [
    {
     "data": {
      "text/plain": [
       "array([  7.2,  14.4,  21.6,  28.8,  36. ,  43.2,  50.4,  57.6,  64.8,  72. ])"
      ]
     },
     "execution_count": 19,
     "metadata": {},
     "output_type": "execute_result"
    }
   ],
   "source": [
    "np.degrees(last_ras[1:])"
   ]
  },
  {
   "cell_type": "code",
   "execution_count": null,
   "metadata": {},
   "outputs": [],
   "source": []
  },
  {
   "cell_type": "code",
   "execution_count": 20,
   "metadata": {},
   "outputs": [],
   "source": [
    "for lon in longitudes:\n",
    "    decs.append(np.pi/2. - side_length)\n",
    "    ras.append(lon)"
   ]
  },
  {
   "cell_type": "code",
   "execution_count": null,
   "metadata": {},
   "outputs": [],
   "source": []
  },
  {
   "cell_type": "code",
   "execution_count": 21,
   "metadata": {},
   "outputs": [
    {
     "data": {
      "text/plain": [
       "[<matplotlib.lines.Line2D at 0x112e7efd0>]"
      ]
     },
     "execution_count": 21,
     "metadata": {},
     "output_type": "execute_result"
    },
    {
     "data": {
      "image/png": "[encoded data removed]",
      "text/plain": [
       "<matplotlib.figure.Figure at 0x112da0860>"
      ]
     },
     "metadata": {},
     "output_type": "display_data"
    }
   ],
   "source": [
    "plt.plot(ras, decs, 'ko')"
   ]
  },
  {
   "cell_type": "code",
   "execution_count": 23,
   "metadata": {},
   "outputs": [],
   "source": [
    "# now to fill in the points that make the triangle going down to 36, -30)\n",
    "#declinations = \n",
    "\n",
    "# The RAs of the strip should be centered on 36 degrees"
   ]
  },
  {
   "cell_type": "code",
   "execution_count": 42,
   "metadata": {},
   "outputs": [
    {
     "data": {
      "text/plain": [
       "array([-25.13789737, -20.1103179 , -15.08273842, -10.05515895,\n",
       "        -5.02757947,   0.        ,   5.02757947,  10.05515895,\n",
       "        15.08273842,  20.1103179 ,  25.13789737])"
      ]
     },
     "execution_count": 42,
     "metadata": {},
     "output_type": "execute_result"
    }
   ],
   "source": [
    "new_declinations = -1*(np.array(declinations)[:-1] - np.pi/2. + side_length) +np.pi/2 - side_length\n",
    "np.degrees(new_declinations)"
   ]
  },
  {
   "cell_type": "code",
   "execution_count": 53,
   "metadata": {},
   "outputs": [
    {
     "data": {
      "text/plain": [
       "array([array([  0.,  72.]), array([  0.,  36.,  72.]),\n",
       "       array([  0.,  24.,  48.,  72.]),\n",
       "       array([  0.,  18.,  36.,  54.,  72.]),\n",
       "       array([  0. ,  14.4,  28.8,  43.2,  57.6,  72. ]),\n",
       "       array([  0.,  12.,  24.,  36.,  48.,  60.,  72.]),\n",
       "       array([  0.        ,  10.28571429,  20.57142857,  30.85714286,\n",
       "        41.14285714,  51.42857143,  61.71428571,  72.        ]),\n",
       "       array([  0.,   9.,  18.,  27.,  36.,  45.,  54.,  63.,  72.]),\n",
       "       array([  0.,   8.,  16.,  24.,  32.,  40.,  48.,  56.,  64.,  72.]),\n",
       "       array([  0. ,   7.2,  14.4,  21.6,  28.8,  36. ,  43.2,  50.4,  57.6,\n",
       "        64.8,  72. ]),\n",
       "       array([  0.        ,   6.54545455,  13.09090909,  19.63636364,\n",
       "        26.18181818,  32.72727273,  39.27272727,  45.81818182,\n",
       "        52.36363636,  58.90909091,  65.45454545,  72.        ])], dtype=object)"
      ]
     },
     "execution_count": 53,
     "metadata": {},
     "output_type": "execute_result"
    }
   ],
   "source": [
    "np.array(ra_lol)*180/np.pi"
   ]
  },
  {
   "cell_type": "code",
   "execution_count": null,
   "metadata": {},
   "outputs": [],
   "source": [
    "# ok, for each declination, need to divide up the 72 degrees.\n",
    "#ras = []\n",
    "\n",
    "# Before, we went from ra 0 to 72. Now we have a midpoint RA of 36, and the ra span will be scaled \n",
    "# by the cos of the different decs. \n",
    "\n",
    "# Have to do something special around the pentagon\n",
    "for i, dec in enumerate(declinations[:-1]):\n",
    "    new_ras = np.arange(i+2)/(i+1)*np.pi*2/5. + np.pi*2/10\n",
    "    for ra in new_ras[:-1]:\n",
    "        decs.append(dec)\n",
    "        ras.append(ra)"
   ]
  },
  {
   "cell_type": "code",
   "execution_count": 24,
   "metadata": {},
   "outputs": [
    {
     "data": {
      "text/plain": [
       "array([   0.,   72.,  144.,  216.,  288.])"
      ]
     },
     "execution_count": 24,
     "metadata": {},
     "output_type": "execute_result"
    }
   ],
   "source": [
    "# Now to rotate around 5 times\n",
    "rotations = np.arange(5)*2.*np.pi/5.\n",
    "np.degrees(rotations)"
   ]
  },
  {
   "cell_type": "code",
   "execution_count": 25,
   "metadata": {},
   "outputs": [],
   "source": [
    "# Should be a better way to broadcast this\n",
    "cap_ras = []\n",
    "cap_decs = []\n",
    "for rot in rotations:\n",
    "    cap_ras.extend(ras+rot)\n",
    "    cap_decs.extend(decs)\n"
   ]
  },
  {
   "cell_type": "code",
   "execution_count": 26,
   "metadata": {},
   "outputs": [
    {
     "data": {
      "text/plain": [
       "[<matplotlib.lines.Line2D at 0x112cfbf60>]"
      ]
     },
     "execution_count": 26,
     "metadata": {},
     "output_type": "execute_result"
    },
    {
     "data": {
      "image/png": "[encoded data removed]",
      "text/plain": [
       "<matplotlib.figure.Figure at 0x112cfb7b8>"
      ]
     },
     "metadata": {},
     "output_type": "display_data"
    }
   ],
   "source": [
    "plt.plot(np.degrees(cap_ras), np.degrees(cap_decs), 'ko')\n",
    "plt.plot(np.degrees((np.array(cap_ras)+np.pi) % (2.*np.pi)), np.degrees(-np.array(cap_decs)), 'ko')\n"
   ]
  },
  {
   "cell_type": "code",
   "execution_count": null,
   "metadata": {},
   "outputs": [],
   "source": []
  },
  {
   "cell_type": "code",
   "execution_count": null,
   "metadata": {},
   "outputs": [],
   "source": []
  },
  {
   "cell_type": "code",
   "execution_count": null,
   "metadata": {},
   "outputs": [],
   "source": [
    "# final step, also add the pentagon positions\n"
   ]
  },
  {
   "cell_type": "code",
   "execution_count": null,
   "metadata": {},
   "outputs": [],
   "source": []
  },
  {
   "cell_type": "code",
   "execution_count": null,
   "metadata": {},
   "outputs": [],
   "source": []
  },
  {
   "cell_type": "code",
   "execution_count": null,
   "metadata": {},
   "outputs": [],
   "source": []
  },
  {
   "cell_type": "code",
   "execution_count": 36,
   "metadata": {},
   "outputs": [
    {
     "data": {
      "text/plain": [
       "1.5707963267948966"
      ]
     },
     "execution_count": 36,
     "metadata": {},
     "output_type": "execute_result"
    }
   ],
   "source": []
  },
  {
   "cell_type": "code",
   "execution_count": null,
   "metadata": {},
   "outputs": [],
   "source": []
  }
 ],
 "metadata": {
  "kernelspec": {
   "display_name": "Python 3",
   "language": "python",
   "name": "python3"
  }
 },
 "nbformat": 4,
 "nbformat_minor": 2
}
