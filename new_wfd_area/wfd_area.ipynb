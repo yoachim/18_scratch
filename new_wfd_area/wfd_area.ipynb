{
 "cells": [
  {
   "cell_type": "code",
   "execution_count": 1,
   "metadata": {},
   "outputs": [
    {
     "name": "stderr",
     "output_type": "stream",
     "text": [
      "/Users/yoachim/gitRepos/sims_featureScheduler/python/lsst/sims/featureScheduler/utils.py:29: UserWarning: Could not import ts.scheduler. This is required to load the FieldsDatabase. In this case\n",
      "it will fallback to loading fields from the local \"fieldID.lis\" file.\n",
      "  it will fallback to loading fields from the local \"fieldID.lis\" file.''')\n"
     ]
    }
   ],
   "source": [
    "import numpy as np\n",
    "import matplotlib.pylab as plt\n",
    "%matplotlib inline\n",
    "import healpy as hp\n",
    "import lsst.sims.featureScheduler as fs\n",
    "from astropy.coordinates import SkyCoord\n",
    "from astropy import units as u\n"
   ]
  },
  {
   "cell_type": "code",
   "execution_count": 2,
   "metadata": {},
   "outputs": [],
   "source": [
    "nside = 32\n",
    "ra, dec = fs.ra_dec_hp_map(nside=nside)"
   ]
  },
  {
   "cell_type": "code",
   "execution_count": 32,
   "metadata": {},
   "outputs": [],
   "source": [
    "dec_upper_limit =33.  # Degrees\n",
    "\n",
    "south_cap = -68.\n",
    "north_cap = 14.\n",
    "\n",
    "galac_window = 10."
   ]
  },
  {
   "cell_type": "code",
   "execution_count": 4,
   "metadata": {},
   "outputs": [],
   "source": [
    "result = np.zeros(ra.size)\n",
    "coord = SkyCoord(ra=ra*u.rad, dec=dec*u.rad)\n",
    "g_long, g_lat = coord.galactic.l.radian, coord.galactic.b.radian\n",
    "\n",
    "eclip_lat = coord.barycentrictrueecliptic.lat.radian\n"
   ]
  },
  {
   "cell_type": "code",
   "execution_count": 5,
   "metadata": {},
   "outputs": [],
   "source": []
  },
  {
   "cell_type": "code",
   "execution_count": 33,
   "metadata": {},
   "outputs": [],
   "source": [
    "goal_map = np.zeros(hp.nside2npix(nside), dtype=float) + hp.UNSEEN\n",
    "# Fill in the entire region we want\n",
    "goal_map[np.where(dec < np.radians(dec_upper_limit))] = 1\n",
    "goal_map[np.where(dec < np.radians(south_cap))] = 0.5\n",
    "\n",
    "goal_map[np.where((dec < np.radians(dec_upper_limit)) & (dec > np.radians(north_cap)))] = 0.5\n",
    "\n",
    "goal_map[np.where( (np.abs( g_lat) < np.radians(galac_window)) & (dec < np.radians(dec_upper_limit)))] = 0.5"
   ]
  },
  {
   "cell_type": "code",
   "execution_count": 34,
   "metadata": {},
   "outputs": [
    {
     "data": {
      "image/png": "[encoded data removed]",
      "text/plain": [
       "<matplotlib.figure.Figure at 0x122cf6c88>"
      ]
     },
     "metadata": {},
     "output_type": "display_data"
    }
   ],
   "source": [
    "hp.mollview(goal_map)"
   ]
  },
  {
   "cell_type": "code",
   "execution_count": 35,
   "metadata": {},
   "outputs": [
    {
     "name": "stdout",
     "output_type": "stream",
     "text": [
      "wfd_area in sq deg= 20012.1176764\n"
     ]
    }
   ],
   "source": [
    "# What area is in WFD?\n",
    "wfd_area = np.where(goal_map == 1)[0].size*hp.nside2pixarea(nside, degrees=True)\n",
    "print('wfd_area in sq deg=', wfd_area)"
   ]
  },
  {
   "cell_type": "code",
   "execution_count": null,
   "metadata": {},
   "outputs": [],
   "source": []
  }
 ],
 "metadata": {
  "kernelspec": {
   "display_name": "Python 3",
   "language": "python",
   "name": "python3"
  },
  "language_info": {
   "codemirror_mode": {
    "name": "ipython",
    "version": 3
   },
   "file_extension": ".py",
   "mimetype": "text/x-python",
   "name": "python",
   "nbconvert_exporter": "python",
   "pygments_lexer": "ipython3",
   "version": "3.6.2"
  }
 },
 "nbformat": 4,
 "nbformat_minor": 2
}
